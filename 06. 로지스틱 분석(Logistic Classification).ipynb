{
 "cells": [
  {
   "cell_type": "code",
   "execution_count": 181,
   "metadata": {},
   "outputs": [],
   "source": [
    "import math\n",
    "import numpy as np\n",
    "import pandas as pd\n",
    "import matplotlib.pyplot as plt\n",
    "import sklearn.metrics as metrics\n",
    "from sklearn.pipeline import make_pipeline\n",
    "from sklearn.preprocessing import StandardScaler\n",
    "from sklearn.datasets import make_classification\n",
    "from sklearn.model_selection import cross_val_score\n",
    "from sklearn.linear_model import LogisticRegression\n",
    "from sklearn.model_selection import train_test_split"
   ]
  },
  {
   "cell_type": "markdown",
   "metadata": {},
   "source": [
    "#### 로지스틱 회귀(Logistic regression)<br>\n",
    "\n",
    "- 로지스틱 회귀는 선형함수를 통과시켜 얻은 z를 임계 함수에 보내기 전에 변형시키는데, 바로 이런 함수를 활성화 함수(Activation function)라고 한다\n",
    "\n",
    "- 활성화 함수를 통과한 값이 a로 표현되어 있는데 앞으로 a라고 하면 활성화 함수를 통과한 값이라고 이해하면 된다.\n",
    "\n",
    "- 로지스틱 회귀는 마지막 단계에서 임계 함수(threshold fucntion)를 사용하여 예측을 수행합니다. 임계 함수는 아달린이나 퍼셉트론의 계단 함수와 역할은 비슷하지만 활성화 함수의 출력값을 사용한다는 점이 다르다.\n",
    "\n",
    "- 로지스틱 회귀는 이름에 회귀라는 단어가 들어가지만, 가능한 클래스가 2개인 이진 분류를 위한 모형.\n",
    "- 로지스틱 회귀의 예측 함수 정의.\n",
    "\n",
    "<br>\n",
    "\\begin{equation}\n",
    "\\hat{y} = \\sigma(b + w x) \n",
    "\\end{equation}\n",
    "\\begin{equation}\n",
    "\\hat{y} = \\sigma(b + w_1 x_1 + ... + w_p x_p), \\; where  \\; \\sigma: Sigmoid fucntion\n",
    "\\end{equation}\n",
    "\n",
    "<br>\n",
    "\n",
    "#### 왜 활성화(Actiation) 함수는 비선형(Nonlinear) 함수를 사용하는가?<br>\n",
    "\n",
    "- 두 식을 덧셈과 곱셈의 결합법칙과 분배법칙에 의하여 정리하면 다시 하나의 큰 선형 함수가 됨.\n",
    "\n",
    "- 이렇게 되면 임계 함수 앞에 뉴런을 여러 개 쌓아도 결국 선형 함수일 것이므로 별 의미가 없다.\n",
    "\n",
    "- 활성화 함수는 의무적으로 비선형 함수를 사용 --> 로지스틱 회귀의 활성화 함수는 '시그모이드(Sigmoid) 함수'\n",
    "\n",
    "<br>\n",
    "\n",
    "#### 시그모이드 함수(Sigmoid function)\n",
    "\n",
    "$$s(z)=\\frac{1}{1+e^{-z}} $$\n",
    "\n",
    "- 출력값 z는 활성화 함수를 통과하여 a가 된다.\n",
    "\n",
    "- 로지스틱 회귀에서 사용하는 활성화 함수인 시그모이드 함수는 z를 0 ~ 1 사이의 확률값으로 변환시켜주는 역활을 한다.\n",
    "\n",
    "- 확률은 해석하기 나름이지만 보통 a가 0.5(50%)보다 크면 양성 클래스, 그 이하면 음성 클래스라고 구분.\n",
    "\n",
    "- 시그모이드 함수는 오즈비(Odds ration)라는 통계를 기반으로 만들어지며, 오즈비에 로그를 취한 로짓 함수(Logit function)를 z라고 정리하면 이것을 로지스틱 함수라고 한다.\n",
    "\n",
    "<br>\n",
    "\n",
    "#### 로지스틱 손실 함수(Logistic loss fuction)\n",
    "<br>\n",
    "\n",
    "- 로지스틱 손실 함수는 다중 분류를 위한 손실 함수인 크로스 엔트로피(Cross entropy) 손실 함수를 이진 분류버전으로 만든 것.\n",
    "\n",
    "- 실무에서는 종종 이진 분류와 다중 분류를 구분하지 않고, 모두 크로스 엔트로피 손실 함수라고 부르는 경우도 많음.\n",
    "\n",
    "- 다중 분류와 이진 분류를 엄연히 구분하여 로지스틱 손실 함수라는 용어를 사용.\n",
    "\n",
    "* 로지스틱 회귀의 학습 목표는 다음과 같은 목적 함수를 최소화 하는 파라미터 $w$를 찾는 것\n",
    "\n",
    "\\begin{equation}\n",
    "BinaryCrossEntropy = -\\frac{1}{N}\\sum_{i=1}^{N}y_i\\log(\\hat{y}_i) + (1-y_i)\\log(1-\\hat{y}_i)\n",
    "\\end{equation}\n"
   ]
  },
  {
   "cell_type": "markdown",
   "metadata": {},
   "source": [
    "#### Logistic parameter"
   ]
  },
  {
   "cell_type": "markdown",
   "metadata": {},
   "source": [
    "* penalty : L1 혹은 L2 제약조건의 강도를 설정. <br><br>\n",
    "     * l1 : 맨하튼 거리, 오차 = 오차 + alpha * (|w1| + |w2|) <br>\n",
    "     * l2 : 유클리디안 거리의 제곱, 오차 = 오차 + alpha * (W1^2 + w2^2)\n",
    "     * 가중치 규제 (특성 수 줄이기, 과대적합 방지) <br>\n",
    "     * none 면 가중치 규제 미사용\n",
    "<br><br>\n",
    "\n",
    "- alpha : 높은 알파 값을 설정할 수록, 높은 제약조건을 설정하는 것. <br><br>\n",
    "\n",
    "- C : cost function의 C를 의미하는 것이며, C의 경우에는 높은 C를 설정할 수록, 낮은 강도의 제약조건이 설정되고 낮은 C를 설정할 수록, 높은 강도의 제약조건이 설정됨.<br><br>\n",
    "\n",
    "- class_weight :데이터에 직접 가중치를 설정하여 학습의 강도를 다르게 할 수 있는 하이퍼 파라미터. \n",
    "<br><br>\n",
    "* solver  \n",
    "    * liblinear : L1제약조건, L2제약조건 두 가지를 모두 지원하며, 이것은 작은 데이터에 적합한 알고리즘. <br>\n",
    "    * sag, saga : 이것은 확률적 경사하강법을 기반으로 하기에 대용량 데이터에 적합한 알고리즘이며, sag는 L1 제약조건만을 지원하고, saga는 L1, L2 제약조건 둘 다 지원함.\n",
    "<br><br>\n",
    "\n",
    "- newton-cg, lbfgs (sag, saga) ==> 이것은 멀티클래스의 분류 모델에서 사용.\n",
    ": 현재까지는 이 중에서 lbfgs 알고리즘이 가장 성능이 좋다고 알려져 있고, newton-cg, lbfgs 도 L2제약조건만 지원함.<br><br>\n",
    "\n",
    "- Result : sag는 L1만 지원하고, newton-cg, saga, lbfgs 세 가지가 L2만 지원하고, liblinear, saga가 L1, L2 둘 다 지원"
   ]
  },
  {
   "cell_type": "code",
   "execution_count": 2,
   "metadata": {},
   "outputs": [
    {
     "name": "stdout",
     "output_type": "stream",
     "text": [
      "8\n",
      "4\n",
      "0.25\n",
      "0.125\n"
     ]
    }
   ],
   "source": [
    "print( 2**3 )\n",
    "print( 2**2 )\n",
    "print( 2**-2)\n",
    "print( 2**-3)"
   ]
  },
  {
   "cell_type": "markdown",
   "metadata": {},
   "source": [
    "#### Sigmoid function"
   ]
  },
  {
   "cell_type": "code",
   "execution_count": 3,
   "metadata": {},
   "outputs": [],
   "source": [
    "def sigmoid( z ):\n",
    "    return 1 / ( 1+math.e**-z )"
   ]
  },
  {
   "cell_type": "code",
   "execution_count": 4,
   "metadata": {},
   "outputs": [
    {
     "name": "stdout",
     "output_type": "stream",
     "text": [
      "4.539786870243442e-05\n",
      "0.2689414213699951\n",
      "0.5\n",
      "0.7310585786300049\n",
      "0.9999546021312976\n"
     ]
    }
   ],
   "source": [
    "print( sigmoid( -10 ) )\n",
    "print( sigmoid( -1 ) )\n",
    "print( sigmoid( 0 ) )\n",
    "print( sigmoid( 1 ) )\n",
    "print( sigmoid( 10 ) )"
   ]
  },
  {
   "cell_type": "code",
   "execution_count": 5,
   "metadata": {},
   "outputs": [
    {
     "data": {
      "image/png": "[encoded data removed]",
      "text/plain": [
       "<Figure size 504x360 with 1 Axes>"
      ]
     },
     "metadata": {
      "needs_background": "light"
     },
     "output_type": "display_data"
    }
   ],
   "source": [
    "plt.figure( figsize=(7, 5) )\n",
    "for z in np.linspace( -10, 10, 50 ):\n",
    "    s = sigmoid( z )\n",
    "    plt.plot( z, s,'mo')\n",
    "plt.grid()\n",
    "plt.show()"
   ]
  },
  {
   "cell_type": "markdown",
   "metadata": {},
   "source": [
    "#### y가 수치형 데이터일 경우 회귀 학습"
   ]
  },
  {
   "cell_type": "code",
   "execution_count": 21,
   "metadata": {},
   "outputs": [],
   "source": [
    "x = np.array( list( range( 1, 7, 1 ) ) )\n",
    "y = np.array( list( range( 5, 16, 2 ) ) )  # y가 수치형 변수."
   ]
  },
  {
   "cell_type": "code",
   "execution_count": 22,
   "metadata": {
    "scrolled": true
   },
   "outputs": [
    {
     "name": "stdout",
     "output_type": "stream",
     "text": [
      "epochs : 0, cost : 111.667, w : 0.817, b : 0.2\n",
      "epochs : 100, cost : 0.534, w : 2.388, b : 1.34\n",
      "epochs : 200, cost : 0.257, w : 2.269, b : 1.848\n",
      "epochs : 300, cost : 0.124, w : 2.187, b : 2.201\n",
      "epochs : 400, cost : 0.06, w : 2.129, b : 2.446\n",
      "epochs : 500, cost : 0.029, w : 2.09, b : 2.615\n",
      "epochs : 600, cost : 0.014, w : 2.062, b : 2.733\n",
      "epochs : 700, cost : 0.007, w : 2.043, b : 2.815\n",
      "epochs : 800, cost : 0.003, w : 2.03, b : 2.872\n",
      "epochs : 900, cost : 0.002, w : 2.021, b : 2.911\n",
      "epochs : 1000, cost : 0.001, w : 2.014, b : 2.938\n",
      "epochs : 1100, cost : 0.0, w : 2.01, b : 2.957\n",
      "epochs : 1200, cost : 0.0, w : 2.007, b : 2.97\n",
      "epochs : 1300, cost : 0.0, w : 2.005, b : 2.979\n",
      "epochs : 1400, cost : 0.0, w : 2.003, b : 2.986\n",
      "epochs : 1500, cost : 0.0, w : 2.002, b : 2.99\n",
      "epochs : 1600, cost : 0.0, w : 2.002, b : 2.993\n",
      "epochs : 1700, cost : 0.0, w : 2.001, b : 2.995\n",
      "epochs : 1800, cost : 0.0, w : 2.001, b : 2.997\n",
      "epochs : 1900, cost : 0.0, w : 2.001, b : 2.998\n",
      "epochs : 2000, cost : 0.0, w : 2.0, b : 2.998\n",
      "epochs : 2100, cost : 0.0, w : 2.0, b : 2.999\n",
      "epochs : 2200, cost : 0.0, w : 2.0, b : 2.999\n",
      "epochs : 2300, cost : 0.0, w : 2.0, b : 2.999\n",
      "epochs : 2400, cost : 0.0, w : 2.0, b : 3.0\n",
      "epochs : 2500, cost : 0.0, w : 2.0, b : 3.0\n",
      "epochs : 2600, cost : 0.0, w : 2.0, b : 3.0\n",
      "epochs : 2700, cost : 0.0, w : 2.0, b : 3.0\n",
      "epochs : 2800, cost : 0.0, w : 2.0, b : 3.0\n",
      "epochs : 2900, cost : 0.0, w : 2.0, b : 3.0\n",
      "w=2.0\n",
      "w=3.0\n"
     ]
    }
   ],
   "source": [
    "w             = 0\n",
    "b             = 0\n",
    "n             = len(x)\n",
    "epochs        = 3000\n",
    "learning_rate = 0.01\n",
    "\n",
    "for i in range( epochs ):\n",
    "    hy        = w*x + b                       # w=2, b=3\n",
    "    cost      = np.sum( (hy - y)**2 ) / n\n",
    "    gradientW = np.sum( ( w*x+b-y )*2*x ) / n\n",
    "    gradientB = np.sum( ( w*x+b-y )*2   ) / n\n",
    "    w         = w - learning_rate*gradientW\n",
    "    b         = b - learning_rate*gradientB\n",
    "    if i%100 == 0:\n",
    "        print(f'epochs : { i }, cost : { round( cost, 3) }, w : { round( w, 3 ) }, b : { round( b, 3 ) }')\n",
    "print( f'w={ round( w, 3 ) }' )\n",
    "print( f'w={ round( b, 3 ) }' )"
   ]
  },
  {
   "cell_type": "markdown",
   "metadata": {},
   "source": [
    "####  y가 수치형으로 보는 기존 cost 함수를 이용한  y가 범주형(이진) 데이터일 경우 회귀 학습"
   ]
  },
  {
   "cell_type": "code",
   "execution_count": 105,
   "metadata": {},
   "outputs": [],
   "source": [
    "x = np.array( list( range( 1, 7, 1 ) ) )\n",
    "y = np.array( [0, 0, 0, 1, 1 ,1] )       # y가 범주형(이진) 변수."
   ]
  },
  {
   "cell_type": "code",
   "execution_count": 107,
   "metadata": {},
   "outputs": [],
   "source": [
    "def cost( x, y, w ):\n",
    "    n    = len( x )\n",
    "    z    = w*x   \n",
    "    hy   = sigmoid( z )                   # Activation function\n",
    "    loss = np.sum( (hy - y)**2 ) / n \n",
    "    return loss"
   ]
  },
  {
   "cell_type": "markdown",
   "metadata": {},
   "source": [
    "#### y가 수치형으로 보는 기존 cost로는 매끄럽지 않게 나오는 것을 볼 수 있음."
   ]
  },
  {
   "cell_type": "code",
   "execution_count": 108,
   "metadata": {},
   "outputs": [
    {
     "data": {
      "image/png": "[encoded data removed]",
      "text/plain": [
       "<Figure size 504x360 with 1 Axes>"
      ]
     },
     "metadata": {
      "needs_background": "light"
     },
     "output_type": "display_data"
    }
   ],
   "source": [
    "plt.figure( figsize=(7, 5) )\n",
    "for w in np.linspace( -3, 3, 50 ):\n",
    "    c = cost( x, y, w )\n",
    "    plt.plot( w, c,'mo')\n",
    "plt.grid()\n",
    "plt.show()"
   ]
  },
  {
   "cell_type": "code",
   "execution_count": 158,
   "metadata": {
    "scrolled": true
   },
   "outputs": [
    {
     "data": {
      "image/png": "[encoded data removed]",
      "text/plain": [
       "<Figure size 504x360 with 1 Axes>"
      ]
     },
     "metadata": {
      "needs_background": "light"
     },
     "output_type": "display_data"
    }
   ],
   "source": [
    "plt.figure( figsize=(7, 5) )\n",
    "for x in np.linspace( 0.01, 1, 50 ):\n",
    "    y1 = -np.log( x )\n",
    "    plt.plot( x, y1, 'ro')\n",
    "for x in np.linspace( 0, 0.99, 50 ):\n",
    "    y2 = -np.log( 1 - x )\n",
    "    plt.plot( x, y2, 'bo')\n",
    "plt.vlines( 0.5, 0, 5, colors='m', linestyles= 'dotted')\n",
    "plt.grid()\n",
    "plt.show()"
   ]
  },
  {
   "cell_type": "markdown",
   "metadata": {},
   "source": [
    "#### 위 cost함수를 오즈비, 로짓함수 개념을 통해 새로운 cost 함수로 변환해볼 필요가 있음."
   ]
  },
  {
   "cell_type": "code",
   "execution_count": 95,
   "metadata": {},
   "outputs": [],
   "source": [
    "def cost_B( x, y, w ):\n",
    "    n    = len( x )\n",
    "    z    = w*x   \n",
    "    hy   = sigmoid( z ) \n",
    "    loss_i = y * -np.log( hy ) + ( 1 - y ) * -np.log( 1 - hy )    # Activation function\n",
    "    loss = np.sum( loss_i ) / n \n",
    "    return loss"
   ]
  },
  {
   "cell_type": "code",
   "execution_count": 97,
   "metadata": {},
   "outputs": [
    {
     "data": {
      "image/png": "[encoded data removed]",
      "text/plain": [
       "<Figure size 504x360 with 1 Axes>"
      ]
     },
     "metadata": {
      "needs_background": "light"
     },
     "output_type": "display_data"
    }
   ],
   "source": [
    "plt.figure( figsize=(7, 5) )\n",
    "for w in np.linspace( -3, 6, 50 ):\n",
    "    c = cost_B( x, y, w )\n",
    "    plt.plot( w, c,'mo')\n",
    "plt.grid()\n",
    "plt.show()"
   ]
  },
  {
   "cell_type": "markdown",
   "metadata": {},
   "source": [
    "#### 새로운 cost 함수를 이용한 y가 범주형(이진) 데이터일 경우 회귀 학습"
   ]
  },
  {
   "cell_type": "code",
   "execution_count": 106,
   "metadata": {},
   "outputs": [
    {
     "name": "stdout",
     "output_type": "stream",
     "text": [
      "epochs : 0, cost : 0.25, w : 0.05, b : 0.01\n",
      "epochs : 100, cost : 0.209, w : 0.187, b : -0.098\n",
      "epochs : 200, cost : 0.201, w : 0.208, b : -0.191\n",
      "epochs : 300, cost : 0.196, w : 0.223, b : -0.255\n",
      "epochs : 400, cost : 0.193, w : 0.234, b : -0.299\n",
      "epochs : 500, cost : 0.19, w : 0.241, b : -0.33\n",
      "epochs : 600, cost : 0.189, w : 0.246, b : -0.352\n",
      "epochs : 700, cost : 0.188, w : 0.249, b : -0.366\n",
      "epochs : 800, cost : 0.187, w : 0.252, b : -0.377\n",
      "epochs : 900, cost : 0.186, w : 0.253, b : -0.384\n",
      "epochs : 1000, cost : 0.186, w : 0.255, b : -0.389\n",
      "epochs : 1100, cost : 0.186, w : 0.255, b : -0.392\n",
      "epochs : 1200, cost : 0.185, w : 0.256, b : -0.395\n",
      "epochs : 1300, cost : 0.185, w : 0.256, b : -0.396\n",
      "epochs : 1400, cost : 0.185, w : 0.257, b : -0.397\n",
      "epochs : 1500, cost : 0.185, w : 0.257, b : -0.398\n",
      "epochs : 1600, cost : 0.185, w : 0.257, b : -0.399\n",
      "epochs : 1700, cost : 0.185, w : 0.257, b : -0.399\n",
      "epochs : 1800, cost : 0.185, w : 0.257, b : -0.399\n",
      "epochs : 1900, cost : 0.185, w : 0.257, b : -0.4\n",
      "epochs : 2000, cost : 0.185, w : 0.257, b : -0.4\n",
      "epochs : 2100, cost : 0.185, w : 0.257, b : -0.4\n",
      "epochs : 2200, cost : 0.185, w : 0.257, b : -0.4\n",
      "epochs : 2300, cost : 0.185, w : 0.257, b : -0.4\n",
      "epochs : 2400, cost : 0.185, w : 0.257, b : -0.4\n",
      "epochs : 2500, cost : 0.185, w : 0.257, b : -0.4\n",
      "epochs : 2600, cost : 0.185, w : 0.257, b : -0.4\n",
      "epochs : 2700, cost : 0.185, w : 0.257, b : -0.4\n",
      "epochs : 2800, cost : 0.185, w : 0.257, b : -0.4\n",
      "epochs : 2900, cost : 0.185, w : 0.257, b : -0.4\n",
      "w=0.257\n",
      "w=-0.4\n"
     ]
    }
   ],
   "source": [
    "w             = 0\n",
    "b             = 0\n",
    "n             = len(x)\n",
    "epochs        = 3000\n",
    "learning_rate = 0.01\n",
    "\n",
    "for i in range( epochs ):\n",
    "    z         = w*x + b\n",
    "    hy        = sigmoid( z )            # w=2, b=3\n",
    "    cost      = np.sum( (hy - y)**2 ) / n\n",
    "    gradientW = np.sum( ( w*x+b-y )*2*x ) / n\n",
    "    gradientB = np.sum( ( w*x+b-y )*2   ) / n\n",
    "    w         = w - learning_rate*gradientW\n",
    "    b         = b - learning_rate*gradientB\n",
    "    if i%100 == 0:\n",
    "        print(f'epochs : { i }, cost : { round( cost, 3) }, w : { round( w, 3 ) }, b : { round( b, 3 ) }')\n",
    "print( f'w={ round( w, 3 ) }' )\n",
    "print( f'w={ round( b, 3 ) }' )"
   ]
  },
  {
   "cell_type": "markdown",
   "metadata": {},
   "source": [
    "#### 함수를 이용한 로지스틱 회귀 분석\n",
    "- [ 공부한 시간, 출석 일수 ], [ 불합격, 합격 ]"
   ]
  },
  {
   "cell_type": "code",
   "execution_count": 66,
   "metadata": {},
   "outputs": [],
   "source": [
    "x_data = np.array( [[1,3],[2,2],[3,1],[4,6],[5,5],[6,4]] )\n",
    "y_data = np.array( [ 0, 0, 0, 1, 1, 1 ] )"
   ]
  },
  {
   "cell_type": "code",
   "execution_count": 67,
   "metadata": {},
   "outputs": [
    {
     "data": {
      "text/plain": [
       "LogisticRegression(C=1.0, class_weight=None, dual=False, fit_intercept=True,\n",
       "                   intercept_scaling=1, l1_ratio=None, max_iter=100,\n",
       "                   multi_class='auto', n_jobs=None, penalty='l2',\n",
       "                   random_state=None, solver='lbfgs', tol=0.0001, verbose=0,\n",
       "                   warm_start=False)"
      ]
     },
     "execution_count": 67,
     "metadata": {},
     "output_type": "execute_result"
    }
   ],
   "source": [
    "model_logi = LogisticRegression()\n",
    "model_logi.fit( x_data, y_data )"
   ]
  },
  {
   "cell_type": "code",
   "execution_count": 68,
   "metadata": {},
   "outputs": [
    {
     "data": {
      "text/plain": [
       "(array([[0.78341156, 0.78341156]]), array([-5.48382067]))"
      ]
     },
     "execution_count": 68,
     "metadata": {},
     "output_type": "execute_result"
    }
   ],
   "source": [
    "model_logi.coef_, model_logi.intercept_"
   ]
  },
  {
   "cell_type": "code",
   "execution_count": 83,
   "metadata": {},
   "outputs": [
    {
     "data": {
      "text/plain": [
       "(0.019510137645200154, 0.9804898623547998)"
      ]
     },
     "execution_count": 83,
     "metadata": {},
     "output_type": "execute_result"
    }
   ],
   "source": [
    "z = np.matmul( [ [6, 6] ], model_logi.coef_.reshape(-1, 1) ) + model_logi.intercept_.reshape(-1, 1)\n",
    "1 - sigmoid( float(z) ),  sigmoid( float(z) )"
   ]
  },
  {
   "cell_type": "code",
   "execution_count": 69,
   "metadata": {},
   "outputs": [
    {
     "data": {
      "text/plain": [
       "array([[0.01951014, 0.98048986]])"
      ]
     },
     "execution_count": 69,
     "metadata": {},
     "output_type": "execute_result"
    }
   ],
   "source": [
    "model_logi.predict_proba( [ [6, 6] ] )    # proba : sigmoid를 거쳤다는 의미."
   ]
  },
  {
   "cell_type": "code",
   "execution_count": 79,
   "metadata": {},
   "outputs": [
    {
     "data": {
      "text/plain": [
       "array([1])"
      ]
     },
     "execution_count": 79,
     "metadata": {},
     "output_type": "execute_result"
    }
   ],
   "source": [
    "model_logi.predict( [ [6, 6] ] )        # 0, 1 값으로 반환함. 즉 합불합 분류."
   ]
  },
  {
   "cell_type": "code",
   "execution_count": 88,
   "metadata": {},
   "outputs": [
    {
     "data": {
      "text/plain": [
       "array([1], dtype=int64)"
      ]
     },
     "execution_count": 88,
     "metadata": {},
     "output_type": "execute_result"
    }
   ],
   "source": [
    "model_logi.predict_proba( [ [6, 6] ] ).argmax( axis=1 )"
   ]
  },
  {
   "cell_type": "code",
   "execution_count": 146,
   "metadata": {},
   "outputs": [
    {
     "data": {
      "text/plain": [
       "array([0, 1])"
      ]
     },
     "execution_count": 146,
     "metadata": {},
     "output_type": "execute_result"
    }
   ],
   "source": [
    "model_logi.predict( [ [1,1], [6,5] ] )  "
   ]
  },
  {
   "cell_type": "code",
   "execution_count": 149,
   "metadata": {},
   "outputs": [
    {
     "data": {
      "text/plain": [
       "array([0, 1], dtype=int64)"
      ]
     },
     "execution_count": 149,
     "metadata": {},
     "output_type": "execute_result"
    }
   ],
   "source": [
    "model_logi.predict_proba( [ [1,1], [6,5] ] ).argmax( axis=1 )"
   ]
  },
  {
   "cell_type": "code",
   "execution_count": 144,
   "metadata": {},
   "outputs": [
    {
     "data": {
      "text/plain": [
       "1.0"
      ]
     },
     "execution_count": 144,
     "metadata": {},
     "output_type": "execute_result"
    }
   ],
   "source": [
    "model_logi.score( x_data, y_data )     # 정확도(Accuracy)"
   ]
  },
  {
   "cell_type": "code",
   "execution_count": 154,
   "metadata": {},
   "outputs": [
    {
     "data": {
      "text/plain": [
       "array([0, 0, 0, 1, 1, 1])"
      ]
     },
     "execution_count": 154,
     "metadata": {},
     "output_type": "execute_result"
    }
   ],
   "source": [
    "phat = model_logi.predict( x_data )\n",
    "phat"
   ]
  },
  {
   "cell_type": "code",
   "execution_count": 155,
   "metadata": {},
   "outputs": [
    {
     "data": {
      "text/plain": [
       "array([ True,  True,  True,  True,  True,  True])"
      ]
     },
     "execution_count": 155,
     "metadata": {},
     "output_type": "execute_result"
    }
   ],
   "source": [
    "phat == y_data"
   ]
  },
  {
   "cell_type": "code",
   "execution_count": 156,
   "metadata": {},
   "outputs": [
    {
     "data": {
      "text/plain": [
       "1.0"
      ]
     },
     "execution_count": 156,
     "metadata": {},
     "output_type": "execute_result"
    }
   ],
   "source": [
    "(phat == y_data).mean()              #  model_logi.score( x_data, y_data ) ==> 정확도(Accuracy)"
   ]
  },
  {
   "cell_type": "markdown",
   "metadata": {},
   "source": [
    "- 그러나 0,0,1,1,1,1,1,1,1,1,1,1  => 예측을 1,1,1,1,1,1,1,1,1,1 이었을 때 정확도를 80% 라고 보기 어렵다. 따라서 분류에서는 단순히 정확도를 가지고만 판단하지 않는다."
   ]
  },
  {
   "cell_type": "markdown",
   "metadata": {},
   "source": [
    "#### 연습문제 : Train, Test data set으로 나눈 후, 각각의 정확도를 구하시오. Test data set의 0 번째 행(row) 데이터로 당뇨병 유무를 확인하시오."
   ]
  },
  {
   "cell_type": "markdown",
   "metadata": {},
   "source": [
    "- 정보 1 : 과거 임신 횟수 (pregnant)\n",
    "- 정보 2 : 포도당 부하 검사 2시간 후 공복 혈당 농도 (plasma)\n",
    "- 정보 3 : 확장기 혈압 (pressure)\n",
    "- 정보 4 : 삼두근 피부 주름 두께 (thickness)\n",
    "- 정보 5 : 혈정 인슐린 (insulin)\n",
    "- 정보 6 : 체질량 지수 (BMI)\n",
    "- 정보 7 : 당뇨병 가족력 (pedigree)\n",
    "- 정보 8 : 나이 (age)\n",
    "- 클래스 : 당뇨( 1) , 당뇨가 아님 ( 0 )  (Outcome)"
   ]
  },
  {
   "cell_type": "code",
   "execution_count": 160,
   "metadata": {},
   "outputs": [
    {
     "data": {
      "text/html": [
       "<div>\n",
       "<style scoped>\n",
       "    .dataframe tbody tr th:only-of-type {\n",
       "        vertical-align: middle;\n",
       "    }\n",
       "\n",
       "    .dataframe tbody tr th {\n",
       "        vertical-align: top;\n",
       "    }\n",
       "\n",
       "    .dataframe thead th {\n",
       "        text-align: right;\n",
       "    }\n",
       "</style>\n",
       "<table border=\"1\" class=\"dataframe\">\n",
       "  <thead>\n",
       "    <tr style=\"text-align: right;\">\n",
       "      <th></th>\n",
       "      <th>Pregnancies</th>\n",
       "      <th>Glucose</th>\n",
       "      <th>BloodPressure</th>\n",
       "      <th>SkinThickness</th>\n",
       "      <th>Insulin</th>\n",
       "      <th>BMI</th>\n",
       "      <th>DiabetesPedigreeFunction</th>\n",
       "      <th>Age</th>\n",
       "      <th>Outcome</th>\n",
       "    </tr>\n",
       "  </thead>\n",
       "  <tbody>\n",
       "    <tr>\n",
       "      <th>0</th>\n",
       "      <td>6</td>\n",
       "      <td>148</td>\n",
       "      <td>72</td>\n",
       "      <td>35</td>\n",
       "      <td>0</td>\n",
       "      <td>33.6</td>\n",
       "      <td>0.627</td>\n",
       "      <td>50</td>\n",
       "      <td>1</td>\n",
       "    </tr>\n",
       "    <tr>\n",
       "      <th>1</th>\n",
       "      <td>1</td>\n",
       "      <td>85</td>\n",
       "      <td>66</td>\n",
       "      <td>29</td>\n",
       "      <td>0</td>\n",
       "      <td>26.6</td>\n",
       "      <td>0.351</td>\n",
       "      <td>31</td>\n",
       "      <td>0</td>\n",
       "    </tr>\n",
       "    <tr>\n",
       "      <th>2</th>\n",
       "      <td>8</td>\n",
       "      <td>183</td>\n",
       "      <td>64</td>\n",
       "      <td>0</td>\n",
       "      <td>0</td>\n",
       "      <td>23.3</td>\n",
       "      <td>0.672</td>\n",
       "      <td>32</td>\n",
       "      <td>1</td>\n",
       "    </tr>\n",
       "    <tr>\n",
       "      <th>3</th>\n",
       "      <td>1</td>\n",
       "      <td>89</td>\n",
       "      <td>66</td>\n",
       "      <td>23</td>\n",
       "      <td>94</td>\n",
       "      <td>28.1</td>\n",
       "      <td>0.167</td>\n",
       "      <td>21</td>\n",
       "      <td>0</td>\n",
       "    </tr>\n",
       "    <tr>\n",
       "      <th>4</th>\n",
       "      <td>0</td>\n",
       "      <td>137</td>\n",
       "      <td>40</td>\n",
       "      <td>35</td>\n",
       "      <td>168</td>\n",
       "      <td>43.1</td>\n",
       "      <td>2.288</td>\n",
       "      <td>33</td>\n",
       "      <td>1</td>\n",
       "    </tr>\n",
       "  </tbody>\n",
       "</table>\n",
       "</div>"
      ],
      "text/plain": [
       "   Pregnancies  Glucose  BloodPressure  SkinThickness  Insulin   BMI  \\\n",
       "0            6      148             72             35        0  33.6   \n",
       "1            1       85             66             29        0  26.6   \n",
       "2            8      183             64              0        0  23.3   \n",
       "3            1       89             66             23       94  28.1   \n",
       "4            0      137             40             35      168  43.1   \n",
       "\n",
       "   DiabetesPedigreeFunction  Age  Outcome  \n",
       "0                     0.627   50        1  \n",
       "1                     0.351   31        0  \n",
       "2                     0.672   32        1  \n",
       "3                     0.167   21        0  \n",
       "4                     2.288   33        1  "
      ]
     },
     "execution_count": 160,
     "metadata": {},
     "output_type": "execute_result"
    }
   ],
   "source": [
    "df = pd.read_csv('data5/pima-indians-diabetes.data.csv')\n",
    "df.head()"
   ]
  },
  {
   "cell_type": "code",
   "execution_count": 232,
   "metadata": {},
   "outputs": [],
   "source": [
    "x_data = df.iloc[:, :-1]\n",
    "y_data = df['Outcome']\n",
    "x_train, x_test, y_train, y_test = train_test_split( x_data, y_data, test_size=0.3, stratify=y_data )   # stratify : 0,1 균형있는 분배."
   ]
  },
  {
   "cell_type": "code",
   "execution_count": 233,
   "metadata": {
    "scrolled": true
   },
   "outputs": [
    {
     "name": "stdout",
     "output_type": "stream",
     "text": [
      "Accuracy of train data : 78.4%\n",
      "Accuracy of test data  : 74.9%\n"
     ]
    }
   ],
   "source": [
    "model_logi = make_pipeline( StandardScaler(),  LogisticRegression() )\n",
    "model_logi.fit( x_train, y_train )\n",
    "print(f'Accuracy of train data : { round(model_logi.score( x_train , y_train ), 3)*100 }%' )\n",
    "print(f'Accuracy of test data  : { round(model_logi.score( x_test , y_test ), 3)*100 }%' )"
   ]
  },
  {
   "cell_type": "code",
   "execution_count": 234,
   "metadata": {},
   "outputs": [
    {
     "data": {
      "text/plain": [
       "(0.0, 0)"
      ]
     },
     "execution_count": 234,
     "metadata": {},
     "output_type": "execute_result"
    }
   ],
   "source": [
    "float( model_logi.predict( [x_test.iloc[0]] ) ), y_test.iloc[0]"
   ]
  }
 ],
 "metadata": {
  "kernelspec": {
   "display_name": "Python 3",
   "language": "python",
   "name": "python3"
  },
  "language_info": {
   "codemirror_mode": {
    "name": "ipython",
    "version": 3
   },
   "file_extension": ".py",
   "mimetype": "text/x-python",
   "name": "python",
   "nbconvert_exporter": "python",
   "pygments_lexer": "ipython3",
   "version": "3.7.6"
  }
 },
 "nbformat": 4,
 "nbformat_minor": 4
}
