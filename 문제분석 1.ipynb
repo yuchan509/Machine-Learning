{
 "cells": [
  {
   "cell_type": "code",
   "execution_count": 4,
   "metadata": {},
   "outputs": [],
   "source": [
    "import mglearn\n",
    "import numpy as np\n",
    "import pandas as pd\n",
    "import seaborn as sns\n",
    "from sklearn.neural_network import MLPRegressor\n",
    "from sklearn.model_selection import GridSearchCV\n",
    "from sklearn.model_selection import cross_val_score\n",
    "from sklearn.model_selection import train_test_split\n",
    "from sklearn.preprocessing import MinMaxScaler, StandardScaler\n",
    "from sklearn.linear_model import LinearRegression, Ridge, SGDRegressor\n",
    "import matplotlib.pyplot as plt\n",
    "import matplotlib\n",
    "matplotlib.rcParams['font.family']='Malgun Gothic'\n",
    "matplotlib.rcParams['axes.unicode_minus'] = False\n",
    "import warnings\n",
    "warnings.simplefilter('ignore')"
   ]
  },
  {
   "cell_type": "markdown",
   "metadata": {},
   "source": [
    "####  - 아래 문제는 다중공선성(Multicollinearity)의 문제를 고려치 않고 적합한 결과다. 따라서 잘못 적합된 가능성이 매우 높다. -"
   ]
  },
  {
   "cell_type": "markdown",
   "metadata": {},
   "source": [
    "#### 1. total_grade.csv (q1,q2,mtot,ftot, finalscore)를 학습하여, q1:824, q2:910, mtot:2345612, ftot:1090인 경우 final score 를 예측하시오 . (linearRegress, SGDRegressor, MLPRegressor  r2 스코어를 구하시요.)"
   ]
  },
  {
   "cell_type": "code",
   "execution_count": 16,
   "metadata": {},
   "outputs": [
    {
     "data": {
      "text/html": [
       "<div>\n",
       "<style scoped>\n",
       "    .dataframe tbody tr th:only-of-type {\n",
       "        vertical-align: middle;\n",
       "    }\n",
       "\n",
       "    .dataframe tbody tr th {\n",
       "        vertical-align: top;\n",
       "    }\n",
       "\n",
       "    .dataframe thead th {\n",
       "        text-align: right;\n",
       "    }\n",
       "</style>\n",
       "<table border=\"1\" class=\"dataframe\">\n",
       "  <thead>\n",
       "    <tr style=\"text-align: right;\">\n",
       "      <th></th>\n",
       "      <th>q1</th>\n",
       "      <th>q2</th>\n",
       "      <th>mtot</th>\n",
       "      <th>ftot</th>\n",
       "      <th>finalscore</th>\n",
       "    </tr>\n",
       "  </thead>\n",
       "  <tbody>\n",
       "    <tr>\n",
       "      <th>0</th>\n",
       "      <td>0.0</td>\n",
       "      <td>1.0</td>\n",
       "      <td>2.0</td>\n",
       "      <td>3.0</td>\n",
       "      <td>4.0</td>\n",
       "    </tr>\n",
       "    <tr>\n",
       "      <th>1</th>\n",
       "      <td>828.0</td>\n",
       "      <td>920.0</td>\n",
       "      <td>1234567.0</td>\n",
       "      <td>1020.0</td>\n",
       "      <td>1111.0</td>\n",
       "    </tr>\n",
       "    <tr>\n",
       "      <th>2</th>\n",
       "      <td>824.0</td>\n",
       "      <td>910.0</td>\n",
       "      <td>2345612.0</td>\n",
       "      <td>1090.0</td>\n",
       "      <td>1234.0</td>\n",
       "    </tr>\n",
       "    <tr>\n",
       "      <th>3</th>\n",
       "      <td>880.0</td>\n",
       "      <td>900.0</td>\n",
       "      <td>3456123.0</td>\n",
       "      <td>1010.0</td>\n",
       "      <td>1000.0</td>\n",
       "    </tr>\n",
       "    <tr>\n",
       "      <th>4</th>\n",
       "      <td>870.0</td>\n",
       "      <td>990.0</td>\n",
       "      <td>2312123.0</td>\n",
       "      <td>1001.0</td>\n",
       "      <td>1122.0</td>\n",
       "    </tr>\n",
       "    <tr>\n",
       "      <th>5</th>\n",
       "      <td>860.0</td>\n",
       "      <td>980.0</td>\n",
       "      <td>3223123.0</td>\n",
       "      <td>1008.0</td>\n",
       "      <td>1133.0</td>\n",
       "    </tr>\n",
       "    <tr>\n",
       "      <th>6</th>\n",
       "      <td>850.0</td>\n",
       "      <td>970.0</td>\n",
       "      <td>2432123.0</td>\n",
       "      <td>1100.0</td>\n",
       "      <td>1221.0</td>\n",
       "    </tr>\n",
       "  </tbody>\n",
       "</table>\n",
       "</div>"
      ],
      "text/plain": [
       "      q1     q2       mtot    ftot  finalscore\n",
       "0    0.0    1.0        2.0     3.0         4.0\n",
       "1  828.0  920.0  1234567.0  1020.0      1111.0\n",
       "2  824.0  910.0  2345612.0  1090.0      1234.0\n",
       "3  880.0  900.0  3456123.0  1010.0      1000.0\n",
       "4  870.0  990.0  2312123.0  1001.0      1122.0\n",
       "5  860.0  980.0  3223123.0  1008.0      1133.0\n",
       "6  850.0  970.0  2432123.0  1100.0      1221.0"
      ]
     },
     "execution_count": 16,
     "metadata": {},
     "output_type": "execute_result"
    }
   ],
   "source": [
    "grade_df         = pd.read_csv( 'data4/total_grade.csv', header=None )\n",
    "grade_df.columns = [ 'q1', 'q2', 'mtot', 'ftot','finalscore' ]\n",
    "grade_df"
   ]
  },
  {
   "cell_type": "code",
   "execution_count": 17,
   "metadata": {
    "scrolled": true
   },
   "outputs": [
    {
     "data": {
      "text/html": [
       "<div>\n",
       "<style scoped>\n",
       "    .dataframe tbody tr th:only-of-type {\n",
       "        vertical-align: middle;\n",
       "    }\n",
       "\n",
       "    .dataframe tbody tr th {\n",
       "        vertical-align: top;\n",
       "    }\n",
       "\n",
       "    .dataframe thead th {\n",
       "        text-align: right;\n",
       "    }\n",
       "</style>\n",
       "<table border=\"1\" class=\"dataframe\">\n",
       "  <thead>\n",
       "    <tr style=\"text-align: right;\">\n",
       "      <th></th>\n",
       "      <th>q1</th>\n",
       "      <th>q2</th>\n",
       "      <th>mtot</th>\n",
       "      <th>ftot</th>\n",
       "    </tr>\n",
       "  </thead>\n",
       "  <tbody>\n",
       "    <tr>\n",
       "      <th>0</th>\n",
       "      <td>0.0</td>\n",
       "      <td>1.0</td>\n",
       "      <td>2.0</td>\n",
       "      <td>3.0</td>\n",
       "    </tr>\n",
       "    <tr>\n",
       "      <th>1</th>\n",
       "      <td>828.0</td>\n",
       "      <td>920.0</td>\n",
       "      <td>1234567.0</td>\n",
       "      <td>1020.0</td>\n",
       "    </tr>\n",
       "    <tr>\n",
       "      <th>2</th>\n",
       "      <td>824.0</td>\n",
       "      <td>910.0</td>\n",
       "      <td>2345612.0</td>\n",
       "      <td>1090.0</td>\n",
       "    </tr>\n",
       "    <tr>\n",
       "      <th>3</th>\n",
       "      <td>880.0</td>\n",
       "      <td>900.0</td>\n",
       "      <td>3456123.0</td>\n",
       "      <td>1010.0</td>\n",
       "    </tr>\n",
       "    <tr>\n",
       "      <th>4</th>\n",
       "      <td>870.0</td>\n",
       "      <td>990.0</td>\n",
       "      <td>2312123.0</td>\n",
       "      <td>1001.0</td>\n",
       "    </tr>\n",
       "    <tr>\n",
       "      <th>5</th>\n",
       "      <td>860.0</td>\n",
       "      <td>980.0</td>\n",
       "      <td>3223123.0</td>\n",
       "      <td>1008.0</td>\n",
       "    </tr>\n",
       "    <tr>\n",
       "      <th>6</th>\n",
       "      <td>850.0</td>\n",
       "      <td>970.0</td>\n",
       "      <td>2432123.0</td>\n",
       "      <td>1100.0</td>\n",
       "    </tr>\n",
       "  </tbody>\n",
       "</table>\n",
       "</div>"
      ],
      "text/plain": [
       "      q1     q2       mtot    ftot\n",
       "0    0.0    1.0        2.0     3.0\n",
       "1  828.0  920.0  1234567.0  1020.0\n",
       "2  824.0  910.0  2345612.0  1090.0\n",
       "3  880.0  900.0  3456123.0  1010.0\n",
       "4  870.0  990.0  2312123.0  1001.0\n",
       "5  860.0  980.0  3223123.0  1008.0\n",
       "6  850.0  970.0  2432123.0  1100.0"
      ]
     },
     "execution_count": 17,
     "metadata": {},
     "output_type": "execute_result"
    }
   ],
   "source": [
    "x_data = grade_df.iloc[:, :-1]\n",
    "x_data"
   ]
  },
  {
   "cell_type": "code",
   "execution_count": 18,
   "metadata": {},
   "outputs": [
    {
     "data": {
      "text/plain": [
       "0       4.0\n",
       "1    1111.0\n",
       "2    1234.0\n",
       "3    1000.0\n",
       "4    1122.0\n",
       "5    1133.0\n",
       "6    1221.0\n",
       "Name: finalscore, dtype: float64"
      ]
     },
     "execution_count": 18,
     "metadata": {},
     "output_type": "execute_result"
    }
   ],
   "source": [
    "y_data = grade_df.iloc[:, -1]\n",
    "y_data"
   ]
  },
  {
   "cell_type": "markdown",
   "metadata": {},
   "source": [
    "#### 1. 정규화(Normalization)"
   ]
  },
  {
   "cell_type": "code",
   "execution_count": 19,
   "metadata": {},
   "outputs": [],
   "source": [
    "scaleX  = StandardScaler()\n",
    "x_datas = scaleX.fit_transform( x_data )"
   ]
  },
  {
   "cell_type": "code",
   "execution_count": 20,
   "metadata": {},
   "outputs": [],
   "source": [
    "# 데이터 수가 적어 여기서는 사용하지 않음.\n",
    "# x_train, x_test, y_train, y_test = train_test_split( x_datas, y_data, test_size=0.2, random_state=1 )\n",
    "# print(f'x_train shape: { x_train.shape } ')\n",
    "# print(f'x_test shape:  { x_test.shape } ' )\n",
    "# print(f'y_train shape: { x_train.shape } ')\n",
    "# print(f'y_test shape:  { x_test.shape } ' )"
   ]
  },
  {
   "cell_type": "markdown",
   "metadata": {},
   "source": [
    "#### 2. 상관관계를 통한 다중공선성(Multicollinearity)"
   ]
  },
  {
   "cell_type": "code",
   "execution_count": 21,
   "metadata": {},
   "outputs": [
    {
     "data": {
      "image/png": "[encoded data removed]",
      "text/plain": [
       "<Figure size 432x288 with 2 Axes>"
      ]
     },
     "metadata": {
      "needs_background": "light"
     },
     "output_type": "display_data"
    }
   ],
   "source": [
    "# 다중공선성이 존재할 것으로 보임.( 특성데이터(예측변수)간의 매우 높은 상관관계 )\n",
    "sns.heatmap( grade_df.corr(), vmin=-1, vmax=1, annot=True, linewidths=0.2, cmap='BuPu' ); plt.show()"
   ]
  },
  {
   "cell_type": "markdown",
   "metadata": {},
   "source": [
    "- linearRegress"
   ]
  },
  {
   "cell_type": "code",
   "execution_count": 22,
   "metadata": {},
   "outputs": [
    {
     "data": {
      "text/plain": [
       "array([975.])"
      ]
     },
     "execution_count": 22,
     "metadata": {},
     "output_type": "execute_result"
    }
   ],
   "source": [
    "modelIR = LinearRegression()\n",
    "modelIR.fit( x_datas, y_data )\n",
    "modelIR.predict( scaleX.fit_transform( [[824, 910, 2345612, 1090]] ) )"
   ]
  },
  {
   "cell_type": "code",
   "execution_count": 23,
   "metadata": {},
   "outputs": [
    {
     "name": "stdout",
     "output_type": "stream",
     "text": [
      " R2 : 99.84479011526015%\n"
     ]
    }
   ],
   "source": [
    "print(f' R2 : { modelIR.score( x_datas, y_data )*100 }%' )"
   ]
  },
  {
   "cell_type": "markdown",
   "metadata": {},
   "source": [
    "- SGDRegressor"
   ]
  },
  {
   "cell_type": "code",
   "execution_count": 24,
   "metadata": {},
   "outputs": [
    {
     "data": {
      "text/plain": [
       "array([171.27972955])"
      ]
     },
     "execution_count": 24,
     "metadata": {},
     "output_type": "execute_result"
    }
   ],
   "source": [
    "modelSGD = SGDRegressor( max_iter = 100, alpha=0.001, early_stopping=True, verbose=0 )\n",
    "modelSGD.fit( x_datas, y_data )\n",
    "modelSGD.predict(scaleX.fit_transform( [[824, 910, 2345612, 1090]] ) )"
   ]
  },
  {
   "cell_type": "code",
   "execution_count": 25,
   "metadata": {},
   "outputs": [
    {
     "name": "stdout",
     "output_type": "stream",
     "text": [
      " R2 : -330.76544476191873%\n"
     ]
    }
   ],
   "source": [
    "print(f' R2 : { modelSGD.score( x_datas, y_data )*100 }%' )"
   ]
  },
  {
   "cell_type": "markdown",
   "metadata": {},
   "source": [
    "-  MLPRegressor"
   ]
  },
  {
   "cell_type": "code",
   "execution_count": 26,
   "metadata": {
    "scrolled": true
   },
   "outputs": [
    {
     "data": {
      "text/plain": [
       "array([631.55673449])"
      ]
     },
     "execution_count": 26,
     "metadata": {},
     "output_type": "execute_result"
    }
   ],
   "source": [
    "modelNN = MLPRegressor( max_iter=5000, alpha=0.1, verbose=0, hidden_layer_sizes=(100, 10, 3) )\n",
    "modelNN.fit(  x_datas , y_data  )\n",
    "modelNN.predict( scaleX.fit_transform( [[824, 910, 2345612, 1090]] ))"
   ]
  },
  {
   "cell_type": "code",
   "execution_count": 27,
   "metadata": {},
   "outputs": [
    {
     "name": "stdout",
     "output_type": "stream",
     "text": [
      " R2 : 99.60886704023842%\n"
     ]
    }
   ],
   "source": [
    "print(f' R2 : { modelNN.score( x_datas, y_data )*100 }%' )"
   ]
  },
  {
   "cell_type": "markdown",
   "metadata": {},
   "source": [
    "#### 2. trees.csv를 읽어들여서 아래에 대해 linearRegress, SGDRegressor, MLPRegressor 각각의 train, test , r2 스코어를 구하고 아래의 Volume을 예측하시요. ( Girth 8.8, 10.5  Height 63, 72 )"
   ]
  },
  {
   "cell_type": "code",
   "execution_count": 14,
   "metadata": {},
   "outputs": [
    {
     "data": {
      "text/html": [
       "<div>\n",
       "<style scoped>\n",
       "    .dataframe tbody tr th:only-of-type {\n",
       "        vertical-align: middle;\n",
       "    }\n",
       "\n",
       "    .dataframe tbody tr th {\n",
       "        vertical-align: top;\n",
       "    }\n",
       "\n",
       "    .dataframe thead th {\n",
       "        text-align: right;\n",
       "    }\n",
       "</style>\n",
       "<table border=\"1\" class=\"dataframe\">\n",
       "  <thead>\n",
       "    <tr style=\"text-align: right;\">\n",
       "      <th></th>\n",
       "      <th>Girth</th>\n",
       "      <th>Height</th>\n",
       "      <th>Volume</th>\n",
       "    </tr>\n",
       "  </thead>\n",
       "  <tbody>\n",
       "    <tr>\n",
       "      <th>0</th>\n",
       "      <td>8.3</td>\n",
       "      <td>70</td>\n",
       "      <td>10.3</td>\n",
       "    </tr>\n",
       "    <tr>\n",
       "      <th>1</th>\n",
       "      <td>8.6</td>\n",
       "      <td>65</td>\n",
       "      <td>10.3</td>\n",
       "    </tr>\n",
       "    <tr>\n",
       "      <th>2</th>\n",
       "      <td>8.8</td>\n",
       "      <td>63</td>\n",
       "      <td>10.2</td>\n",
       "    </tr>\n",
       "    <tr>\n",
       "      <th>3</th>\n",
       "      <td>10.5</td>\n",
       "      <td>72</td>\n",
       "      <td>16.4</td>\n",
       "    </tr>\n",
       "    <tr>\n",
       "      <th>4</th>\n",
       "      <td>10.7</td>\n",
       "      <td>81</td>\n",
       "      <td>18.8</td>\n",
       "    </tr>\n",
       "    <tr>\n",
       "      <th>5</th>\n",
       "      <td>10.8</td>\n",
       "      <td>83</td>\n",
       "      <td>19.7</td>\n",
       "    </tr>\n",
       "  </tbody>\n",
       "</table>\n",
       "</div>"
      ],
      "text/plain": [
       "   Girth  Height  Volume\n",
       "0    8.3      70    10.3\n",
       "1    8.6      65    10.3\n",
       "2    8.8      63    10.2\n",
       "3   10.5      72    16.4\n",
       "4   10.7      81    18.8\n",
       "5   10.8      83    19.7"
      ]
     },
     "execution_count": 14,
     "metadata": {},
     "output_type": "execute_result"
    }
   ],
   "source": [
    "tree_df = pd.read_csv( 'data4/trees.csv', header=0 )\n",
    "tree_df.head(6)"
   ]
  },
  {
   "cell_type": "code",
   "execution_count": 15,
   "metadata": {
    "scrolled": true
   },
   "outputs": [
    {
     "data": {
      "text/html": [
       "<div>\n",
       "<style scoped>\n",
       "    .dataframe tbody tr th:only-of-type {\n",
       "        vertical-align: middle;\n",
       "    }\n",
       "\n",
       "    .dataframe tbody tr th {\n",
       "        vertical-align: top;\n",
       "    }\n",
       "\n",
       "    .dataframe thead th {\n",
       "        text-align: right;\n",
       "    }\n",
       "</style>\n",
       "<table border=\"1\" class=\"dataframe\">\n",
       "  <thead>\n",
       "    <tr style=\"text-align: right;\">\n",
       "      <th></th>\n",
       "      <th>Girth</th>\n",
       "      <th>Height</th>\n",
       "    </tr>\n",
       "  </thead>\n",
       "  <tbody>\n",
       "    <tr>\n",
       "      <th>0</th>\n",
       "      <td>8.3</td>\n",
       "      <td>70</td>\n",
       "    </tr>\n",
       "    <tr>\n",
       "      <th>1</th>\n",
       "      <td>8.6</td>\n",
       "      <td>65</td>\n",
       "    </tr>\n",
       "    <tr>\n",
       "      <th>2</th>\n",
       "      <td>8.8</td>\n",
       "      <td>63</td>\n",
       "    </tr>\n",
       "    <tr>\n",
       "      <th>3</th>\n",
       "      <td>10.5</td>\n",
       "      <td>72</td>\n",
       "    </tr>\n",
       "    <tr>\n",
       "      <th>4</th>\n",
       "      <td>10.7</td>\n",
       "      <td>81</td>\n",
       "    </tr>\n",
       "    <tr>\n",
       "      <th>5</th>\n",
       "      <td>10.8</td>\n",
       "      <td>83</td>\n",
       "    </tr>\n",
       "  </tbody>\n",
       "</table>\n",
       "</div>"
      ],
      "text/plain": [
       "   Girth  Height\n",
       "0    8.3      70\n",
       "1    8.6      65\n",
       "2    8.8      63\n",
       "3   10.5      72\n",
       "4   10.7      81\n",
       "5   10.8      83"
      ]
     },
     "execution_count": 15,
     "metadata": {},
     "output_type": "execute_result"
    }
   ],
   "source": [
    "x_tree = tree_df.iloc[:, :-1]\n",
    "x_tree.head(6)"
   ]
  },
  {
   "cell_type": "code",
   "execution_count": 16,
   "metadata": {},
   "outputs": [
    {
     "data": {
      "text/plain": [
       "0    10.3\n",
       "1    10.3\n",
       "2    10.2\n",
       "3    16.4\n",
       "4    18.8\n",
       "5    19.7\n",
       "Name: Volume, dtype: float64"
      ]
     },
     "execution_count": 16,
     "metadata": {},
     "output_type": "execute_result"
    }
   ],
   "source": [
    "y_tree = tree_df.iloc[:, -1]\n",
    "y_tree.head(6)"
   ]
  },
  {
   "cell_type": "markdown",
   "metadata": {},
   "source": [
    "#### 1. 정규화(Normalization)"
   ]
  },
  {
   "cell_type": "code",
   "execution_count": 17,
   "metadata": {},
   "outputs": [],
   "source": [
    "scaleX = StandardScaler()\n",
    "x_trees= scaleX.fit_transform( x_tree )"
   ]
  },
  {
   "cell_type": "code",
   "execution_count": 18,
   "metadata": {},
   "outputs": [
    {
     "name": "stdout",
     "output_type": "stream",
     "text": [
      "x_train shape: (24, 2) \n",
      "x_test shape:  (7, 2) \n",
      "y_train shape: (24, 2) \n",
      "y_test shape:  (7, 2) \n"
     ]
    }
   ],
   "source": [
    "x_trains, x_tests, y_trains, y_tests = train_test_split( x_trees, y_tree, test_size=0.2, random_state=1 )\n",
    "print(f'x_train shape: { x_trains.shape } ')\n",
    "print(f'x_test shape:  { x_tests.shape } ' )\n",
    "print(f'y_train shape: { x_trains.shape } ')\n",
    "print(f'y_test shape:  { x_tests.shape } ' )"
   ]
  },
  {
   "cell_type": "markdown",
   "metadata": {},
   "source": [
    "#### 2. 상관관계를 통한 다중공선성(Multicollinearity)"
   ]
  },
  {
   "cell_type": "code",
   "execution_count": 19,
   "metadata": {},
   "outputs": [
    {
     "data": {
      "image/png": "[encoded data removed]",
      "text/plain": [
       "<Figure size 432x288 with 2 Axes>"
      ]
     },
     "metadata": {
      "needs_background": "light"
     },
     "output_type": "display_data"
    }
   ],
   "source": [
    "# Girth와 Volume 간의 높은 상관관계가 관찰됨. ( 다중공선성 의심. )\n",
    "sns.heatmap( tree_df.corr(), vmin=-1, vmax=1, annot=True, linewidths=0.3, cmap='BuPu' ); plt.show()"
   ]
  },
  {
   "cell_type": "markdown",
   "metadata": {},
   "source": [
    "- linearRegress"
   ]
  },
  {
   "cell_type": "code",
   "execution_count": 20,
   "metadata": {},
   "outputs": [
    {
     "data": {
      "text/plain": [
       "array([ 5.84983575, 16.27579072])"
      ]
     },
     "execution_count": 20,
     "metadata": {},
     "output_type": "execute_result"
    }
   ],
   "source": [
    "modelIR = LinearRegression()\n",
    "modelIR.fit( x_trains, y_trains )\n",
    "modelIR.predict( scaleX.transform( [[8.8,63],[10.5,72]]) )"
   ]
  },
  {
   "cell_type": "code",
   "execution_count": 21,
   "metadata": {},
   "outputs": [
    {
     "name": "stdout",
     "output_type": "stream",
     "text": [
      " Train data R2 : 95.01000553451436%\n",
      " Test data R2 : 91.61318541491205%\n"
     ]
    }
   ],
   "source": [
    "print(f' Train data R2 : { modelIR.score( x_trains , y_trains )*100 }%' )\n",
    "print(f' Test data R2 : { modelIR.score(  x_tests , y_tests )*100 }%' )"
   ]
  },
  {
   "cell_type": "markdown",
   "metadata": {},
   "source": [
    "- SGDRegressor"
   ]
  },
  {
   "cell_type": "code",
   "execution_count": 22,
   "metadata": {},
   "outputs": [
    {
     "data": {
      "text/plain": [
       "array([ 3.41387517, 15.35774226])"
      ]
     },
     "execution_count": 22,
     "metadata": {},
     "output_type": "execute_result"
    }
   ],
   "source": [
    "modelSGD = SGDRegressor( max_iter = 100, alpha=0.001, early_stopping=True, verbose=0 )\n",
    "modelSGD.fit( x_trains, y_trains  )\n",
    "modelSGD.predict( scaleX.transform( [[8.8,63],[10.5,72]]) )"
   ]
  },
  {
   "cell_type": "code",
   "execution_count": 23,
   "metadata": {},
   "outputs": [
    {
     "name": "stdout",
     "output_type": "stream",
     "text": [
      " Train data R2 : 90.1647459595208%\n",
      " Test data R2 : 81.63724912370704%\n"
     ]
    }
   ],
   "source": [
    "print(f' Train data R2 : { modelSGD.score( x_trains , y_trains )*100 }%' )\n",
    "print(f' Test data R2 : { modelSGD.score(  x_tests , y_tests )*100 }%' )"
   ]
  },
  {
   "cell_type": "markdown",
   "metadata": {},
   "source": [
    "-  MLPRegressor"
   ]
  },
  {
   "cell_type": "code",
   "execution_count": 24,
   "metadata": {},
   "outputs": [
    {
     "data": {
      "text/plain": [
       "array([4.11662609, 4.11662609])"
      ]
     },
     "execution_count": 24,
     "metadata": {},
     "output_type": "execute_result"
    }
   ],
   "source": [
    "modelNN = MLPRegressor( max_iter=5000, alpha=0.1, verbose=0, hidden_layer_sizes=(100, 10, 3) )\n",
    "modelNN.fit(  x_trains , y_trains  )\n",
    "modelNN.predict( scaleX.transform( [[8.8,63],[10.5,72]]) )"
   ]
  },
  {
   "cell_type": "code",
   "execution_count": 25,
   "metadata": {},
   "outputs": [
    {
     "name": "stdout",
     "output_type": "stream",
     "text": [
      " Train data R2 : -213.4257103872668%\n",
      " Test data R2 : -632.2307493278095%\n"
     ]
    }
   ],
   "source": [
    "print(f' Train data R2 : { modelNN.score( x_trains , y_trains )*100 }%' )\n",
    "print(f' Test data R2 : { modelNN.score(  x_tests , y_tests )*100 }%' )"
   ]
  },
  {
   "cell_type": "markdown",
   "metadata": {},
   "source": [
    "#### 3. volume이 40 이상이면 크다. 30이상이면 보통 미만이면 적음으로 아래와 같이 출력하시오.\n",
    "\n",
    "\n",
    "    volume  정도\n",
    "    ============\n",
    "    10.3    적음\n",
    "    ...\n"
   ]
  },
  {
   "cell_type": "code",
   "execution_count": 26,
   "metadata": {},
   "outputs": [
    {
     "name": "stdout",
     "output_type": "stream",
     "text": [
      "Volume\t정도\n",
      "============\n",
      "10.3\t적음\n",
      "10.3\t적음\n",
      "10.2\t적음\n",
      "16.4\t적음\n",
      "18.8\t적음\n",
      "19.7\t적음\n",
      "15.6\t적음\n",
      "18.2\t적음\n",
      "22.6\t적음\n",
      "19.9\t적음\n",
      "24.2\t적음\n",
      "21.0\t적음\n",
      "21.4\t적음\n",
      "21.3\t적음\n",
      "19.1\t적음\n",
      "22.2\t적음\n",
      "33.8\t보통\n",
      "27.4\t적음\n",
      "25.7\t적음\n",
      "24.9\t적음\n",
      "34.5\t보통\n",
      "31.7\t보통\n",
      "36.3\t보통\n",
      "38.3\t보통\n",
      "42.6\t많음\n",
      "55.4\t많음\n",
      "55.7\t많음\n",
      "58.3\t많음\n",
      "51.5\t많음\n",
      "51.0\t많음\n",
      "77.0\t많음\n"
     ]
    }
   ],
   "source": [
    "print( 'Volume', '정도', sep='\\t' )\n",
    "print( '='*12 )\n",
    "for x, y in zip( tree_df['Volume'],  tree_df['Volume'].apply(lambda x : '많음' if x >= 40 else  '보통' if x>=30 else '적음') ):\n",
    "    print( x, y, sep='\\t' )"
   ]
  },
  {
   "cell_type": "markdown",
   "metadata": {},
   "source": [
    "#### 4. Height가 가장 작은 값과 큰 값을 구하시오."
   ]
  },
  {
   "cell_type": "code",
   "execution_count": 27,
   "metadata": {},
   "outputs": [
    {
     "name": "stdout",
     "output_type": "stream",
     "text": [
      "최대값: 87\n",
      "최소값: 63\n"
     ]
    }
   ],
   "source": [
    "print('최대값:',  tree_df['Height'].max() )\n",
    "print('최소값:',  tree_df['Height'].min() )"
   ]
  },
  {
   "cell_type": "markdown",
   "metadata": {},
   "source": [
    "#### 5. girth(테두리)가 가장큰 top5를 출력하시오. "
   ]
  },
  {
   "cell_type": "code",
   "execution_count": 28,
   "metadata": {},
   "outputs": [
    {
     "data": {
      "text/plain": [
       "30    20.6\n",
       "28    18.0\n",
       "29    18.0\n",
       "27    17.9\n",
       "26    17.5\n",
       "Name: Girth, dtype: float64"
      ]
     },
     "execution_count": 28,
     "metadata": {},
     "output_type": "execute_result"
    }
   ],
   "source": [
    "# tree_df.sort_values('Girth',ascending=False).head()\n",
    "# tree_df[['Girth']].nlargest(5, 'Girth',  keep='all') (dataFrame)\n",
    "tree_df['Girth'].nlargest(5,  keep='all') "
   ]
  }
 ],
 "metadata": {
  "kernelspec": {
   "display_name": "Python 3",
   "language": "python",
   "name": "python3"
  },
  "language_info": {
   "codemirror_mode": {
    "name": "ipython",
    "version": 3
   },
   "file_extension": ".py",
   "mimetype": "text/x-python",
   "name": "python",
   "nbconvert_exporter": "python",
   "pygments_lexer": "ipython3",
   "version": "3.7.6"
  }
 },
 "nbformat": 4,
 "nbformat_minor": 4
}
