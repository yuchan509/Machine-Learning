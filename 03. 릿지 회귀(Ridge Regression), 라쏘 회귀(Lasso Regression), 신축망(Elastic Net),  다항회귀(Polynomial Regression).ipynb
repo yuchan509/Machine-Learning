{
 "cells": [
  {
   "cell_type": "code",
   "execution_count": 1,
   "metadata": {},
   "outputs": [],
   "source": [
    "import mglearn\n",
    "import numpy as np\n",
    "import pandas as pd\n",
    "import seaborn as sns\n",
    "import matplotlib\n",
    "import matplotlib.pyplot as plt\n",
    "matplotlib.rcParams['font.family']='Malgun Gothic'\n",
    "matplotlib.rcParams['axes.unicode_minus'] = False\n",
    "from sklearn.pipeline import make_pipeline\n",
    "from sklearn.neural_network import MLPRegressor\n",
    "from sklearn.model_selection import GridSearchCV\n",
    "from sklearn.datasets import load_boston, load_iris\n",
    "from sklearn.model_selection import cross_val_score\n",
    "from sklearn.model_selection import train_test_split\n",
    "from sklearn.preprocessing import MinMaxScaler, StandardScaler, PolynomialFeatures\n",
    "from sklearn.linear_model import LinearRegression, Ridge, SGDRegressor, Lasso, ElasticNet\n",
    "import warnings\n",
    "warnings.simplefilter('ignore')"
   ]
  },
  {
   "cell_type": "markdown",
   "metadata": {},
   "source": [
    "### 릿지 회귀(Ridge Regression)"
   ]
  },
  {
   "cell_type": "code",
   "execution_count": 2,
   "metadata": {},
   "outputs": [
    {
     "data": {
      "text/html": [
       "<div>\n",
       "<style scoped>\n",
       "    .dataframe tbody tr th:only-of-type {\n",
       "        vertical-align: middle;\n",
       "    }\n",
       "\n",
       "    .dataframe tbody tr th {\n",
       "        vertical-align: top;\n",
       "    }\n",
       "\n",
       "    .dataframe thead th {\n",
       "        text-align: right;\n",
       "    }\n",
       "</style>\n",
       "<table border=\"1\" class=\"dataframe\">\n",
       "  <thead>\n",
       "    <tr style=\"text-align: right;\">\n",
       "      <th></th>\n",
       "      <th>CRIM</th>\n",
       "      <th>ZN</th>\n",
       "      <th>INDUS</th>\n",
       "      <th>CHAS</th>\n",
       "      <th>NOX</th>\n",
       "      <th>RM</th>\n",
       "      <th>AGE</th>\n",
       "      <th>DIS</th>\n",
       "      <th>RAD</th>\n",
       "      <th>TAX</th>\n",
       "      <th>PTRATIO</th>\n",
       "      <th>B</th>\n",
       "      <th>LSTAT</th>\n",
       "      <th>MEDV</th>\n",
       "    </tr>\n",
       "  </thead>\n",
       "  <tbody>\n",
       "    <tr>\n",
       "      <th>0</th>\n",
       "      <td>0.00632</td>\n",
       "      <td>18.0</td>\n",
       "      <td>2.31</td>\n",
       "      <td>0.0</td>\n",
       "      <td>0.538</td>\n",
       "      <td>6.575</td>\n",
       "      <td>65.2</td>\n",
       "      <td>4.0900</td>\n",
       "      <td>1.0</td>\n",
       "      <td>296.0</td>\n",
       "      <td>15.3</td>\n",
       "      <td>396.90</td>\n",
       "      <td>4.98</td>\n",
       "      <td>24.0</td>\n",
       "    </tr>\n",
       "    <tr>\n",
       "      <th>1</th>\n",
       "      <td>0.02731</td>\n",
       "      <td>0.0</td>\n",
       "      <td>7.07</td>\n",
       "      <td>0.0</td>\n",
       "      <td>0.469</td>\n",
       "      <td>6.421</td>\n",
       "      <td>78.9</td>\n",
       "      <td>4.9671</td>\n",
       "      <td>2.0</td>\n",
       "      <td>242.0</td>\n",
       "      <td>17.8</td>\n",
       "      <td>396.90</td>\n",
       "      <td>9.14</td>\n",
       "      <td>21.6</td>\n",
       "    </tr>\n",
       "    <tr>\n",
       "      <th>2</th>\n",
       "      <td>0.02729</td>\n",
       "      <td>0.0</td>\n",
       "      <td>7.07</td>\n",
       "      <td>0.0</td>\n",
       "      <td>0.469</td>\n",
       "      <td>7.185</td>\n",
       "      <td>61.1</td>\n",
       "      <td>4.9671</td>\n",
       "      <td>2.0</td>\n",
       "      <td>242.0</td>\n",
       "      <td>17.8</td>\n",
       "      <td>392.83</td>\n",
       "      <td>4.03</td>\n",
       "      <td>34.7</td>\n",
       "    </tr>\n",
       "    <tr>\n",
       "      <th>3</th>\n",
       "      <td>0.03237</td>\n",
       "      <td>0.0</td>\n",
       "      <td>2.18</td>\n",
       "      <td>0.0</td>\n",
       "      <td>0.458</td>\n",
       "      <td>6.998</td>\n",
       "      <td>45.8</td>\n",
       "      <td>6.0622</td>\n",
       "      <td>3.0</td>\n",
       "      <td>222.0</td>\n",
       "      <td>18.7</td>\n",
       "      <td>394.63</td>\n",
       "      <td>2.94</td>\n",
       "      <td>33.4</td>\n",
       "    </tr>\n",
       "    <tr>\n",
       "      <th>4</th>\n",
       "      <td>0.06905</td>\n",
       "      <td>0.0</td>\n",
       "      <td>2.18</td>\n",
       "      <td>0.0</td>\n",
       "      <td>0.458</td>\n",
       "      <td>7.147</td>\n",
       "      <td>54.2</td>\n",
       "      <td>6.0622</td>\n",
       "      <td>3.0</td>\n",
       "      <td>222.0</td>\n",
       "      <td>18.7</td>\n",
       "      <td>396.90</td>\n",
       "      <td>5.33</td>\n",
       "      <td>36.2</td>\n",
       "    </tr>\n",
       "  </tbody>\n",
       "</table>\n",
       "</div>"
      ],
      "text/plain": [
       "      CRIM    ZN  INDUS  CHAS    NOX     RM   AGE     DIS  RAD    TAX  \\\n",
       "0  0.00632  18.0   2.31   0.0  0.538  6.575  65.2  4.0900  1.0  296.0   \n",
       "1  0.02731   0.0   7.07   0.0  0.469  6.421  78.9  4.9671  2.0  242.0   \n",
       "2  0.02729   0.0   7.07   0.0  0.469  7.185  61.1  4.9671  2.0  242.0   \n",
       "3  0.03237   0.0   2.18   0.0  0.458  6.998  45.8  6.0622  3.0  222.0   \n",
       "4  0.06905   0.0   2.18   0.0  0.458  7.147  54.2  6.0622  3.0  222.0   \n",
       "\n",
       "   PTRATIO       B  LSTAT  MEDV  \n",
       "0     15.3  396.90   4.98  24.0  \n",
       "1     17.8  396.90   9.14  21.6  \n",
       "2     17.8  392.83   4.03  34.7  \n",
       "3     18.7  394.63   2.94  33.4  \n",
       "4     18.7  396.90   5.33  36.2  "
      ]
     },
     "execution_count": 2,
     "metadata": {},
     "output_type": "execute_result"
    }
   ],
   "source": [
    "boston = load_boston()\n",
    "boston_df = pd.DataFrame( boston.data, columns=boston.feature_names )\n",
    "boston_df['MEDV'] = boston.target\n",
    "boston_df.head()"
   ]
  },
  {
   "cell_type": "code",
   "execution_count": 3,
   "metadata": {},
   "outputs": [],
   "source": [
    "x_data = boston_df.iloc[:,:-1]\n",
    "y_data = boston_df.iloc[:, -1]\n",
    "x_train, x_test, y_train, y_test = train_test_split( x_data, y_data, test_size=0.2, random_state=1 )"
   ]
  },
  {
   "cell_type": "code",
   "execution_count": 4,
   "metadata": {},
   "outputs": [
    {
     "name": "stdout",
     "output_type": "stream",
     "text": [
      "train data R2 : 0.729336032904444\n",
      "test data R2  : 0.763403805803235\n"
     ]
    }
   ],
   "source": [
    "model_ridge = make_pipeline( StandardScaler(),  Ridge() )\n",
    "model_ridge.fit( x_train, y_train )\n",
    "print(f'train data R2 : { model_ridge.score( x_train , y_train ) }' )\n",
    "print(f'test data R2  : { model_ridge.score( x_test , y_test ) }' )"
   ]
  },
  {
   "cell_type": "code",
   "execution_count": 5,
   "metadata": {},
   "outputs": [
    {
     "name": "stdout",
     "output_type": "stream",
     "text": [
      "train data R2 : 0.7289067264142005\n",
      "test data R2  : 0.7629020804027657\n"
     ]
    }
   ],
   "source": [
    "model_ridge5 = make_pipeline( StandardScaler(),  Ridge( alpha=5 ) )\n",
    "model_ridge5.fit( x_train, y_train )\n",
    "print(f'train data R2 : { model_ridge5.score( x_train , y_train ) }' )\n",
    "print(f'test data R2  : { model_ridge5.score( x_test , y_test ) }' )"
   ]
  },
  {
   "cell_type": "code",
   "execution_count": 6,
   "metadata": {},
   "outputs": [
    {
     "name": "stdout",
     "output_type": "stream",
     "text": [
      "train data R2 : 0.7279158914928879\n",
      "test data R2  : 0.7616503886395203\n"
     ]
    }
   ],
   "source": [
    "model_ridge10 = make_pipeline( StandardScaler(),  Ridge( alpha=10 ) )\n",
    "model_ridge10.fit( x_train, y_train )\n",
    "print(f'train data R2 : { model_ridge10.score( x_train , y_train ) }' )\n",
    "print(f'test data R2  : { model_ridge10.score( x_test , y_test ) }' )"
   ]
  },
  {
   "cell_type": "markdown",
   "metadata": {},
   "source": [
    "### 라쏘 회귀(Lasso Regression)"
   ]
  },
  {
   "cell_type": "code",
   "execution_count": 7,
   "metadata": {},
   "outputs": [
    {
     "name": "stdout",
     "output_type": "stream",
     "text": [
      "train data R2 : 0.6750322095123922\n",
      "test data R2  : 0.694723828834546\n"
     ]
    }
   ],
   "source": [
    "model_Lasso = make_pipeline( StandardScaler(),  Lasso(alpha=0.5) )\n",
    "model_Lasso.fit( x_train, y_train )\n",
    "print(f'train data R2 : { model_Lasso.score( x_train , y_train ) }' )\n",
    "print(f'test data R2  : { model_Lasso.score( x_test , y_test ) }' )"
   ]
  },
  {
   "cell_type": "code",
   "execution_count": 8,
   "metadata": {},
   "outputs": [
    {
     "name": "stdout",
     "output_type": "stream",
     "text": [
      "train data R2 : 0.7003419060083982\n",
      "test data R2  : 0.7092912054989274\n"
     ]
    }
   ],
   "source": [
    "model_lasso = Lasso(alpha=0.5 )\n",
    "model_lasso.fit( x_train, y_train )\n",
    "print(f'train data R2 : { model_lasso.score( x_train , y_train ) }' )\n",
    "print(f'test data R2  : { model_lasso.score( x_test , y_test ) }' )"
   ]
  },
  {
   "cell_type": "code",
   "execution_count": 9,
   "metadata": {},
   "outputs": [
    {
     "name": "stdout",
     "output_type": "stream",
     "text": [
      "{'alpha': 0.0001}\n",
      "0.7025122353642761\n"
     ]
    }
   ],
   "source": [
    "param_value = {'alpha':[ 0.0001, 0.01, 1, 2, 3, 4 ] }\n",
    "modelLasso  = Lasso()\n",
    "gridSearch  = GridSearchCV( modelLasso, param_grid=param_value, cv=5 )  # cv : 교차검정도 해줌. 디폴트값 5\n",
    "gridSearch.fit( x_train, y_train )\n",
    "print(gridSearch.best_params_)\n",
    "print(gridSearch.best_score_)"
   ]
  },
  {
   "cell_type": "code",
   "execution_count": 10,
   "metadata": {
    "scrolled": true
   },
   "outputs": [
    {
     "data": {
      "text/plain": [
       "{'mean_fit_time': array([0.00160227, 0.00119672, 0.00139618, 0.00099735, 0.00159588,\n",
       "        0.00099716]),\n",
       " 'std_fit_time': array([4.94091098e-04, 3.98945819e-04, 4.88616574e-04, 9.53674316e-08,\n",
       "        4.88538753e-04, 2.43140197e-07]),\n",
       " 'mean_score_time': array([0.00059862, 0.00079794, 0.00039897, 0.0009973 , 0.00039887,\n",
       "        0.00059857]),\n",
       " 'std_score_time': array([4.88772401e-04, 3.98969665e-04, 4.88636039e-04, 1.50789149e-07,\n",
       "        4.88519238e-04, 4.88733421e-04]),\n",
       " 'param_alpha': masked_array(data=[0.0001, 0.01, 1, 2, 3, 4],\n",
       "              mask=[False, False, False, False, False, False],\n",
       "        fill_value='?',\n",
       "             dtype=object),\n",
       " 'params': [{'alpha': 0.0001},\n",
       "  {'alpha': 0.01},\n",
       "  {'alpha': 1},\n",
       "  {'alpha': 2},\n",
       "  {'alpha': 3},\n",
       "  {'alpha': 4}],\n",
       " 'split0_test_score': array([0.75353015, 0.75586519, 0.70366523, 0.64284088, 0.58853271,\n",
       "        0.56033998]),\n",
       " 'split1_test_score': array([0.69197238, 0.68651375, 0.59368928, 0.55999341, 0.53728771,\n",
       "        0.51345391]),\n",
       " 'split2_test_score': array([0.68225283, 0.68151162, 0.60248809, 0.57978838, 0.57683779,\n",
       "        0.58301527]),\n",
       " 'split3_test_score': array([0.66905881, 0.67289585, 0.63413156, 0.5982089 , 0.56155455,\n",
       "        0.52807584]),\n",
       " 'split4_test_score': array([0.71574702, 0.71316643, 0.66486975, 0.62697241, 0.5998076 ,\n",
       "        0.57770426]),\n",
       " 'mean_test_score': array([0.70251224, 0.70199057, 0.63976878, 0.60156079, 0.57280407,\n",
       "        0.55251785]),\n",
       " 'std_test_score': array([0.0297276 , 0.03010912, 0.0406393 , 0.03020899, 0.02182116,\n",
       "        0.02738261]),\n",
       " 'rank_test_score': array([1, 2, 3, 4, 5, 6])}"
      ]
     },
     "execution_count": 10,
     "metadata": {},
     "output_type": "execute_result"
    }
   ],
   "source": [
    "gridSearch.cv_results_"
   ]
  },
  {
   "cell_type": "code",
   "execution_count": 11,
   "metadata": {
    "scrolled": true
   },
   "outputs": [
    {
     "data": {
      "text/plain": [
       "array([32.65451755, 28.09425116, 18.02726711, 21.47629568, 18.82908552,\n",
       "       19.88077272, 32.41998143, 18.06708964, 24.41908704, 27.00953035,\n",
       "       27.03787347, 28.75393746, 21.15618569, 26.85041791, 23.38805586,\n",
       "       20.66176498, 17.33031598, 38.24714047, 30.50412507,  8.74996034,\n",
       "       20.80262417, 16.26920784, 25.21841717, 24.85309794, 31.38345601,\n",
       "       10.71240508, 13.8046697 , 16.66025695, 36.52842352, 14.66802031,\n",
       "       21.12315375, 13.95484118, 43.160864  , 17.97790542, 21.80116716,\n",
       "       20.58470696, 17.60156619, 27.22266959,  9.46018155, 19.82795804,\n",
       "       24.30765777, 21.18903539, 29.57143119, 16.33972352, 19.31295781,\n",
       "       14.56458086, 39.20563841, 18.1096834 , 25.91031161, 20.32943949,\n",
       "       25.16213668, 24.42813032, 25.07251632, 26.65826038,  4.55804761,\n",
       "       24.08270516, 10.88692104, 26.89010932, 16.85748247, 35.88685368,\n",
       "       19.55883708, 27.51889298, 16.58465045, 18.7722969 , 11.13779245,\n",
       "       32.36427557, 36.7282874 , 21.96093821, 24.5767824 , 25.14700054,\n",
       "       23.43038287,  6.90751624, 16.56443681, 20.42095538, 20.80330135,\n",
       "       21.54021442, 33.85102664, 27.9452562 , 25.17979562, 34.65867138,\n",
       "       18.62514518, 23.97296001, 34.64008293, 13.34923602, 20.71340001,\n",
       "       30.07957403, 17.13541468, 24.30765555, 19.25709168, 16.98041183,\n",
       "       27.00792994, 41.85734251, 14.10871267, 23.25740407, 14.66374983,\n",
       "       21.86973593, 23.02740033, 29.08777596, 37.11849424, 20.53314057,\n",
       "       17.36584101, 17.71617663])"
      ]
     },
     "execution_count": 11,
     "metadata": {},
     "output_type": "execute_result"
    }
   ],
   "source": [
    "gridSearch.best_estimator_.predict( x_test )"
   ]
  },
  {
   "cell_type": "markdown",
   "metadata": {},
   "source": [
    "### 다중공선성, 과대 과소 적합"
   ]
  },
  {
   "cell_type": "code",
   "execution_count": 12,
   "metadata": {},
   "outputs": [
    {
     "name": "stdout",
     "output_type": "stream",
     "text": [
      "0.7003419060083982\n",
      "0.7092912054989274\n"
     ]
    },
    {
     "data": {
      "image/png": "[encoded data removed]",
      "text/plain": [
       "<Figure size 864x432 with 2 Axes>"
      ]
     },
     "metadata": {
      "needs_background": "light"
     },
     "output_type": "display_data"
    }
   ],
   "source": [
    "model_lasso = Lasso(alpha=0.5)\n",
    "model_lasso.fit( x_train, y_train)\n",
    "print( model_lasso.score( x_train, y_train ) )\n",
    "print( model_lasso.score( x_test, y_test) )\n",
    "\n",
    "param_value = {'alpha':[0.0001, 0.01, 1, 2, 3, 4] }\n",
    "modelLasso = Lasso()\n",
    "gridSearch = GridSearchCV( modelLasso, param_grid= param_value )\n",
    "gridSearch.fit( x_train, y_train)\n",
    "gridSearch.best_params_\n",
    "gridSearch.cv_results_\n",
    "\n",
    "fig = plt.figure(figsize=[12,6])\n",
    "rng = np.linspace(-10,10,100)\n",
    "mse = ( 0.5*(rng-3) )**2 + 30\n",
    "l2 = rng**2\n",
    "l1 = 5*np.abs(rng)\n",
    "ridge = mse + l2\n",
    "lasso = mse + l1\n",
    "\n",
    "plt.subplot(1,2,1)\n",
    "plt.plot(rng,mse,label='MSE')\n",
    "plt.plot(rng,l2,'--',label='L2')\n",
    "plt.plot(rng,ridge, lw=2, label='Ridge')\n",
    "plt.xlabel('w'); plt.ylabel('Error')\n",
    "plt.legend()\n",
    "\n",
    "plt.subplot(1,2,2)\n",
    "plt.plot(rng,mse,label='MSE')\n",
    "plt.plot(rng,l1,'--',label='L1')\n",
    "plt.plot(rng,lasso, lw=2, label='Lasso')\n",
    "plt.xlabel('w'); plt.ylabel('Error')\n",
    "plt.legend()\n",
    "plt.show()"
   ]
  },
  {
   "cell_type": "markdown",
   "metadata": {},
   "source": [
    "### 신축망(Elastic - Net)"
   ]
  },
  {
   "cell_type": "code",
   "execution_count": 13,
   "metadata": {},
   "outputs": [
    {
     "name": "stdout",
     "output_type": "stream",
     "text": [
      "train data R2 : 0.7231027704401572\n",
      "test data R2  : 0.7639149100563346\n"
     ]
    }
   ],
   "source": [
    "model_elastic = ElasticNet( alpha=0.01, l1_ratio=0.5 )\n",
    "model_elastic.fit( x_train, y_train )\n",
    "print(f'train data R2 : { model_elastic.score( x_train , y_train ) }' )\n",
    "print(f'test data R2  : { model_elastic.score( x_test , y_test ) }' )"
   ]
  },
  {
   "cell_type": "code",
   "execution_count": 14,
   "metadata": {
    "scrolled": true
   },
   "outputs": [],
   "source": [
    "param_value  = {'alpha':[ 0.0001, 0.01, 1, 2, 3, 4 ], 'ㅣ1_ratio':[ 0.1, 0.3, 0.5, 0.7, 0.8, 0.9 ] }\n",
    "modelElastic = make_pipeline( StandardScaler(),  ElasticNet() )\n",
    "#modelElastic = ElasticNet()\n",
    "gridSearch   = GridSearchCV( modelElastic, param_grid=param_value, cv=10 ) \n",
    "#gridSearch.fit( x_train, y_train )  # 정규화 된 데이터를 줘야함."
   ]
  },
  {
   "cell_type": "markdown",
   "metadata": {},
   "source": [
    "### 다항 회귀(Polynomial Regression)"
   ]
  },
  {
   "cell_type": "code",
   "execution_count": 15,
   "metadata": {},
   "outputs": [
    {
     "name": "stdout",
     "output_type": "stream",
     "text": [
      "train data R2 : 0.9264046957163291\n",
      "test data R2  : 0.9116244055634332\n"
     ]
    }
   ],
   "source": [
    "model = make_pipeline( PolynomialFeatures(degree=2), StandardScaler(), LinearRegression() )\n",
    "model.fit( x_train, y_train )\n",
    "print(f'train data R2 : { model.score( x_train , y_train ) }' )\n",
    "print(f'test data R2  : { model.score( x_test , y_test ) }' )"
   ]
  },
  {
   "cell_type": "markdown",
   "metadata": {},
   "source": [
    "### 신경망(NN : Neural Network)"
   ]
  },
  {
   "cell_type": "code",
   "execution_count": 16,
   "metadata": {},
   "outputs": [
    {
     "name": "stdout",
     "output_type": "stream",
     "text": [
      "(500, 1) (500, 1)\n"
     ]
    },
    {
     "data": {
      "image/png": "[encoded data removed]",
      "text/plain": [
       "<Figure size 864x288 with 1 Axes>"
      ]
     },
     "metadata": {
      "needs_background": "light"
     },
     "output_type": "display_data"
    }
   ],
   "source": [
    "sample_size = 500\n",
    "x = np.random.uniform(-20, 20, sample_size).reshape(-1, 1)\n",
    "y = x**4 + x**3 + x**2 + x + np.random.normal(0, 10, sample_size).reshape(-1, 1)\n",
    "print(x.shape, y.shape)\n",
    "plt.figure(figsize=(12, 4))\n",
    "plt.scatter(x, y, marker='o', s=20, alpha=0.4, c='m')\n",
    "plt.show()"
   ]
  },
  {
   "cell_type": "code",
   "execution_count": 17,
   "metadata": {},
   "outputs": [
    {
     "data": {
      "text/plain": [
       "-0.005711765595926677"
      ]
     },
     "execution_count": 17,
     "metadata": {},
     "output_type": "execute_result"
    }
   ],
   "source": [
    "x_train, x_test, y_train, y_test = train_test_split( x, y, train_size=0.7, test_size=0.3)\n",
    "model_lr = LinearRegression()\n",
    "model_lr.fit( x_train, y_train )\n",
    "model_lr.score( x_test, y_test )"
   ]
  },
  {
   "cell_type": "code",
   "execution_count": 18,
   "metadata": {},
   "outputs": [
    {
     "data": {
      "text/plain": [
       "0.9801224815556425"
      ]
     },
     "execution_count": 18,
     "metadata": {},
     "output_type": "execute_result"
    }
   ],
   "source": [
    "modelML = MLPRegressor( hidden_layer_sizes=[1000, 4], max_iter=5000, alpha=0.005, verbose=0, random_state=1)\n",
    "modelML.fit( x_train, y_train )\n",
    "modelML.score( x_test, y_test )"
   ]
  },
  {
   "cell_type": "code",
   "execution_count": 19,
   "metadata": {},
   "outputs": [
    {
     "data": {
      "image/png": "[encoded data removed]",
      "text/plain": [
       "<Figure size 864x288 with 1 Axes>"
      ]
     },
     "metadata": {
      "needs_background": "light"
     },
     "output_type": "display_data"
    }
   ],
   "source": [
    "plt.figure(figsize=(12, 4))\n",
    "plt.scatter( x, y, marker='o', s=20, alpha=0.4, c='m' )\n",
    "plt.scatter( x, model_lr.predict(x), c='r' )\n",
    "plt.scatter( x, modelML.predict(x), c='b' )\n",
    "plt.show()"
   ]
  }
 ],
 "metadata": {
  "kernelspec": {
   "display_name": "Python 3",
   "language": "python",
   "name": "python3"
  },
  "language_info": {
   "codemirror_mode": {
    "name": "ipython",
    "version": 3
   },
   "file_extension": ".py",
   "mimetype": "text/x-python",
   "name": "python",
   "nbconvert_exporter": "python",
   "pygments_lexer": "ipython3",
   "version": "3.7.6"
  }
 },
 "nbformat": 4,
 "nbformat_minor": 4
}
