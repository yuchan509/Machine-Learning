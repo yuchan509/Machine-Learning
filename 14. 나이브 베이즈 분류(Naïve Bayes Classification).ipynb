{
 "cells": [
  {
   "cell_type": "code",
   "execution_count": 2,
   "metadata": {},
   "outputs": [],
   "source": [
    "import numpy as np\n",
    "import pandas as pd\n",
    "import multiprocessing\n",
    "import matplotlib.pyplot as plt\n",
    "from sklearn.preprocessing import StandardScaler\n",
    "from sklearn.compose import make_column_transformer\n",
    "from sklearn.pipeline import make_pipeline, Pipeline\n",
    "from sklearn.datasets import make_classification, load_wine\n",
    "from sklearn.preprocessing import LabelEncoder, OneHotEncoder\n",
    "from sklearn.model_selection import train_test_split, GridSearchCV\n",
    "from sklearn.model_selection import cross_val_score, cross_validate\n",
    "from sklearn.naive_bayes import GaussianNB, BernoulliNB, MultinomialNB\n",
    "from warnings import filterwarnings\n",
    "filterwarnings('ignore')"
   ]
  },
  {
   "cell_type": "markdown",
   "metadata": {},
   "source": [
    "#### 나이브 베이스 분류기(Naive Bayes Classification)<br>\n",
    "\n",
    "* 베이즈 정리를 적용한 확률적 분류 알고리즘\n",
    "* 모든 특성들이 독립(Independent)임을 가정 (naive 가정)\n",
    "* 입력 특성에 따라 3개의 분류기 존재\n",
    "  * Gaussian Naive Bayes Classification    : int(정수), float(실수) => Continuous data\n",
    "  * Bernoulli Naive Bayes Classification   : binary(이진)\n",
    "  * Multinomial Naive Bayes Classification : int(정수)\n",
    "  * alpha : smoothing"
   ]
  },
  {
   "cell_type": "markdown",
   "metadata": {},
   "source": [
    "#### 나이브 베이즈 분류(Naïve Bayes Classification)의 확률 모델<br>\n",
    "\n",
    "* 나이브 베이즈(Naïve Bayes Classification)는 조건부 확률 모델.\n",
    "* *N*개의 특성을 나타내는 벡터 **x**를 입력 받아 k개의 가능한 확률적 결과를 출력.\n",
    "\n",
    "\\begin{equation}\n",
    "p(C_k | x_1,...,x_n)\n",
    "\\end{equation}\n",
    "\n",
    "* 위의 식에 베이즈 정리를 적용하면 다음과 같음.\n",
    "\n",
    "\\begin{equation}\n",
    "p(C_k | \\textbf{x}) = \\frac{p(C_k)p(\\textbf{x}|C_k)}{p(\\textbf{x})}\n",
    "\\end{equation}\n",
    "\n",
    "* 위의 식에서 분자만이 출력 값에 영향을 받기 때문에 분모 부분을 상수로 취급할 수 있음.\n",
    "\n",
    "\\begin{equation}\n",
    "\\begin{split}\n",
    "p(C_k | \\textbf{x}) & \\propto p(C_k)p(\\textbf{x}|C_k) \\\\\n",
    "& \\propto p(C_k, x_1, ..., x_n)\n",
    "\\end{split}\n",
    "\\end{equation}\n",
    "\n",
    "* 위의 식을 연쇄 법칙을 사용해 다음과 같이 쓸 수 있음.\n",
    "\n",
    "\\begin{equation}\n",
    "\\begin{split}\n",
    "p(C_k, x_1, ..., x_n) & = p(C_k)p(x_1, ..., x_n | C_k) \\\\\n",
    "& = p(C_k)p(x_1 | C_k)p(x_2, ..., x_n | C_k, x_1) \\\\\n",
    "& = p(C_k)p(x_1 | C_k)p(x_2 | C_k, x_1)p(x_3, ..., x_n | C_k, x_1, x_2) \\\\\n",
    "& = p(C_k)p(x_1 | C_k)p(x_2 | C_k, x_1)...p(x_n | C_k, x_1, x_2, ..., x_{n-1})\n",
    "\\end{split}\n",
    "\\end{equation}\n",
    "\n",
    "* 나이브 베이즈 분류기는 모든 특성이 독립이라고 가정하기 때문에 위의 식을 다음과 같이 쓸 수 있음.\n",
    "\n",
    "\\begin{equation}\n",
    "\\begin{split}\n",
    "p(C_k, x_1, ..., x_n) & \\propto p(C_k)p(x_1|C_k)p(x_2|C_k)...p(x_n|C_k) \\\\\n",
    "& \\propto p(C_k) \\prod_{i=1}^{n} p(x_i|C_k)\n",
    "\\end{split}\n",
    "\\end{equation}\n",
    "\n",
    "* 위의 식을 통해 나온 값들 중 가장 큰 값을 갖는 클래스가 예측 결과\n",
    "\n",
    "\\begin{equation}\n",
    "\\hat{y} = \\underset{k}{\\arg\\max} \\; p(C_k) \\prod_{i=1}^{n} p(x_i|C_k)\n",
    "\\end{equation}"
   ]
  },
  {
   "cell_type": "code",
   "execution_count": 3,
   "metadata": {},
   "outputs": [
    {
     "data": {
      "text/html": [
       "<div>\n",
       "<style scoped>\n",
       "    .dataframe tbody tr th:only-of-type {\n",
       "        vertical-align: middle;\n",
       "    }\n",
       "\n",
       "    .dataframe tbody tr th {\n",
       "        vertical-align: top;\n",
       "    }\n",
       "\n",
       "    .dataframe thead th {\n",
       "        text-align: right;\n",
       "    }\n",
       "</style>\n",
       "<table border=\"1\" class=\"dataframe\">\n",
       "  <thead>\n",
       "    <tr style=\"text-align: right;\">\n",
       "      <th></th>\n",
       "      <th>날씨</th>\n",
       "      <th>온도</th>\n",
       "      <th>외출 여부</th>\n",
       "    </tr>\n",
       "  </thead>\n",
       "  <tbody>\n",
       "    <tr>\n",
       "      <th>0</th>\n",
       "      <td>Sunny</td>\n",
       "      <td>Hot</td>\n",
       "      <td>No</td>\n",
       "    </tr>\n",
       "    <tr>\n",
       "      <th>1</th>\n",
       "      <td>Sunny</td>\n",
       "      <td>Hot</td>\n",
       "      <td>No</td>\n",
       "    </tr>\n",
       "    <tr>\n",
       "      <th>2</th>\n",
       "      <td>Overcast</td>\n",
       "      <td>Hot</td>\n",
       "      <td>Yes</td>\n",
       "    </tr>\n",
       "    <tr>\n",
       "      <th>3</th>\n",
       "      <td>Rainy</td>\n",
       "      <td>Mild</td>\n",
       "      <td>Yes</td>\n",
       "    </tr>\n",
       "    <tr>\n",
       "      <th>4</th>\n",
       "      <td>Rainy</td>\n",
       "      <td>Cool</td>\n",
       "      <td>Yes</td>\n",
       "    </tr>\n",
       "    <tr>\n",
       "      <th>5</th>\n",
       "      <td>Rainy</td>\n",
       "      <td>Cool</td>\n",
       "      <td>No</td>\n",
       "    </tr>\n",
       "    <tr>\n",
       "      <th>6</th>\n",
       "      <td>Overcast</td>\n",
       "      <td>Cool</td>\n",
       "      <td>Yes</td>\n",
       "    </tr>\n",
       "    <tr>\n",
       "      <th>7</th>\n",
       "      <td>Sunny</td>\n",
       "      <td>Mild</td>\n",
       "      <td>No</td>\n",
       "    </tr>\n",
       "    <tr>\n",
       "      <th>8</th>\n",
       "      <td>Sunny</td>\n",
       "      <td>Cool</td>\n",
       "      <td>Yes</td>\n",
       "    </tr>\n",
       "    <tr>\n",
       "      <th>9</th>\n",
       "      <td>Rainy</td>\n",
       "      <td>Mild</td>\n",
       "      <td>Yes</td>\n",
       "    </tr>\n",
       "    <tr>\n",
       "      <th>10</th>\n",
       "      <td>Sunny</td>\n",
       "      <td>Mild</td>\n",
       "      <td>Yes</td>\n",
       "    </tr>\n",
       "    <tr>\n",
       "      <th>11</th>\n",
       "      <td>Overcast</td>\n",
       "      <td>Mild</td>\n",
       "      <td>Yes</td>\n",
       "    </tr>\n",
       "    <tr>\n",
       "      <th>12</th>\n",
       "      <td>Overcast</td>\n",
       "      <td>Hot</td>\n",
       "      <td>Yes</td>\n",
       "    </tr>\n",
       "    <tr>\n",
       "      <th>13</th>\n",
       "      <td>Rainy</td>\n",
       "      <td>Mild</td>\n",
       "      <td>No</td>\n",
       "    </tr>\n",
       "  </tbody>\n",
       "</table>\n",
       "</div>"
      ],
      "text/plain": [
       "          날씨    온도 외출 여부\n",
       "0      Sunny   Hot    No\n",
       "1      Sunny   Hot    No\n",
       "2   Overcast   Hot   Yes\n",
       "3      Rainy  Mild   Yes\n",
       "4      Rainy  Cool   Yes\n",
       "5      Rainy  Cool    No\n",
       "6   Overcast  Cool   Yes\n",
       "7      Sunny  Mild    No\n",
       "8      Sunny  Cool   Yes\n",
       "9      Rainy  Mild   Yes\n",
       "10     Sunny  Mild   Yes\n",
       "11  Overcast  Mild   Yes\n",
       "12  Overcast   Hot   Yes\n",
       "13     Rainy  Mild    No"
      ]
     },
     "execution_count": 3,
     "metadata": {},
     "output_type": "execute_result"
    }
   ],
   "source": [
    "weather = ['Sunny','Sunny','Overcast','Rainy','Rainy','Rainy','Overcast',\n",
    "         'Sunny','Sunny','Rainy','Sunny','Overcast','Overcast','Rainy']\n",
    "temp    = ['Hot','Hot','Hot','Mild','Cool','Cool','Cool','Mild','Cool','Mild','Mild','Mild','Hot','Mild']\n",
    "play    = ['No','No','Yes','Yes','Yes','No','Yes','No','Yes','Yes','Yes','Yes','Yes','No']\n",
    "\n",
    "df              = pd.DataFrame( [weather, temp] ).T\n",
    "df.columns      = ['날씨', '온도']\n",
    "df['외출 여부'] = play\n",
    "df"
   ]
  },
  {
   "cell_type": "code",
   "execution_count": 4,
   "metadata": {},
   "outputs": [
    {
     "data": {
      "text/plain": [
       "array([[0., 0., 1., 0., 1., 0.],\n",
       "       [0., 0., 1., 0., 1., 0.],\n",
       "       [1., 0., 0., 0., 1., 0.],\n",
       "       [0., 1., 0., 0., 0., 1.],\n",
       "       [0., 1., 0., 1., 0., 0.],\n",
       "       [0., 1., 0., 1., 0., 0.],\n",
       "       [1., 0., 0., 1., 0., 0.],\n",
       "       [0., 0., 1., 0., 0., 1.],\n",
       "       [0., 0., 1., 1., 0., 0.],\n",
       "       [0., 1., 0., 0., 0., 1.],\n",
       "       [0., 0., 1., 0., 0., 1.],\n",
       "       [1., 0., 0., 0., 0., 1.],\n",
       "       [1., 0., 0., 0., 1., 0.],\n",
       "       [0., 1., 0., 0., 0., 1.]])"
      ]
     },
     "execution_count": 4,
     "metadata": {},
     "output_type": "execute_result"
    }
   ],
   "source": [
    "x_data = df.iloc[:, :-1 ]\n",
    "y_data = df.iloc[:, -1 ]\n",
    "ct     = make_column_transformer( (OneHotEncoder(), ['날씨', '온도']) )\n",
    "result = ct.fit_transform( df )\n",
    "result"
   ]
  },
  {
   "cell_type": "code",
   "execution_count": 5,
   "metadata": {},
   "outputs": [
    {
     "data": {
      "text/plain": [
       "['onehotencoder__x0_Overcast',\n",
       " 'onehotencoder__x0_Rainy',\n",
       " 'onehotencoder__x0_Sunny',\n",
       " 'onehotencoder__x1_Cool',\n",
       " 'onehotencoder__x1_Hot',\n",
       " 'onehotencoder__x1_Mild']"
      ]
     },
     "execution_count": 5,
     "metadata": {},
     "output_type": "execute_result"
    }
   ],
   "source": [
    "ct.get_feature_names()"
   ]
  },
  {
   "cell_type": "code",
   "execution_count": 6,
   "metadata": {},
   "outputs": [
    {
     "data": {
      "text/html": [
       "<div>\n",
       "<style scoped>\n",
       "    .dataframe tbody tr th:only-of-type {\n",
       "        vertical-align: middle;\n",
       "    }\n",
       "\n",
       "    .dataframe tbody tr th {\n",
       "        vertical-align: top;\n",
       "    }\n",
       "\n",
       "    .dataframe thead th {\n",
       "        text-align: right;\n",
       "    }\n",
       "</style>\n",
       "<table border=\"1\" class=\"dataframe\">\n",
       "  <thead>\n",
       "    <tr style=\"text-align: right;\">\n",
       "      <th></th>\n",
       "      <th>날씨</th>\n",
       "      <th>온도</th>\n",
       "    </tr>\n",
       "  </thead>\n",
       "  <tbody>\n",
       "    <tr>\n",
       "      <th>0</th>\n",
       "      <td>Sunny</td>\n",
       "      <td>Hot</td>\n",
       "    </tr>\n",
       "  </tbody>\n",
       "</table>\n",
       "</div>"
      ],
      "text/plain": [
       "      날씨   온도\n",
       "0  Sunny  Hot"
      ]
     },
     "execution_count": 6,
     "metadata": {},
     "output_type": "execute_result"
    }
   ],
   "source": [
    "testdf = pd.DataFrame( [['Sunny', 'Hot']], columns=['날씨', '온도'] )\n",
    "testdf"
   ]
  },
  {
   "cell_type": "code",
   "execution_count": 7,
   "metadata": {},
   "outputs": [
    {
     "data": {
      "text/plain": [
       "array(['No'], dtype='<U3')"
      ]
     },
     "execution_count": 7,
     "metadata": {},
     "output_type": "execute_result"
    }
   ],
   "source": [
    "model_pipe = make_pipeline( ct, BernoulliNB() )\n",
    "model_pipe.fit( x_data, y_data )\n",
    "model_pipe.predict( testdf )"
   ]
  },
  {
   "cell_type": "markdown",
   "metadata": {},
   "source": [
    "- wine data set을 나이즈 베이즈를 이용하여 test[0] 데이터에 대한 분류를 출력하고 Score를 구하시오."
   ]
  },
  {
   "cell_type": "code",
   "execution_count": 8,
   "metadata": {},
   "outputs": [
    {
     "name": "stdout",
     "output_type": "stream",
     "text": [
      " Actual  : 2\n",
      " Predict : 2.0\n",
      " Score   : 100.0%\n"
     ]
    }
   ],
   "source": [
    "wine = load_wine()\n",
    "x_train, x_test, y_train, y_test = train_test_split( wine.data, wine.target, test_size=0.25, stratify=wine.target  )\n",
    "model_wine = make_pipeline( StandardScaler(), GaussianNB() )   # target 2진 초과의 다항 범주(0, 1, 2)\n",
    "model_wine.fit( x_train, y_train )\n",
    "\n",
    "print( f' Actual  : { y_test[0]}' )\n",
    "print( f' Predict : { float(model_wine.predict( [x_test[0]] ) ) }' )\n",
    "print( f' Score   : { round( model_wine.score( x_test, y_test )*100, 3) }%' )"
   ]
  }
 ],
 "metadata": {
  "kernelspec": {
   "display_name": "Python 3",
   "language": "python",
   "name": "python3"
  },
  "language_info": {
   "codemirror_mode": {
    "name": "ipython",
    "version": 3
   },
   "file_extension": ".py",
   "mimetype": "text/x-python",
   "name": "python",
   "nbconvert_exporter": "python",
   "pygments_lexer": "ipython3",
   "version": "3.7.6"
  }
 },
 "nbformat": 4,
 "nbformat_minor": 4
}
