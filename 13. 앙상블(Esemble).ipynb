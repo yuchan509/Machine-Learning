{
 "cells": [
  {
   "cell_type": "code",
   "execution_count": 1,
   "metadata": {},
   "outputs": [],
   "source": [
    "import math\n",
    "import numpy as np\n",
    "import sklearn.metrics as m\n",
    "import matplotlib.pyplot as plt\n",
    "rom sklearn.metrics import accuracy_score\n",
    "from sklearn.pipeline import make_pipeline\n",
    "from sklearn.tree import DecisionTreeClassifier\n",
    "from sklearn.preprocessing import StandardScaler\n",
    "from sklearn.neighbors import KNeighborsClassifier\n",
    "from sklearn.linear_model import LogisticRegression\n",
    "from sklearn.model_selection import train_test_split\n",
    "from sklearn.datasets import load_breast_cancer, load_wine, load_iris\n",
    "from sklearn.ensemble import VotingClassifier, RandomForestClassifier, BaggingClassifier, AdaBoostClassifier, GradientBoostingClassifier\n",
    "from warnings import filterwarnings\n",
    "filterwarnings('ignore')"
   ]
  },
  {
   "cell_type": "markdown",
   "metadata": {},
   "source": [
    "#### Type of Esemble : Voting, Bagging, Boosting, Stacking etc... <br>\n",
    "\n",
    "\n",
    "#### Voting\n",
    "- 여러 종류의 알고리즘을 사용한 각각의 결과에 대해 투표를 통해 최종 결과를 예측하는 방식.<br><br>\n",
    "\n",
    "\n",
    "#### Bagging\n",
    "- Bagging은 Bootstrap aggregating의 줄임말.\n",
    "- Bootstrap : 모집단의 성질에 대해 표본을 통해 추정할 수 있는 것처럼, 표본의 성질에 대해서도 재표집(resampling)을 통해 추정할 수 있다는 것이다. 즉 주어진 표본에 대해서, 그 표본에서 또 다시 표본(재표본)을 여러번(1,000~10,000번, 혹은 그 이상)추출하여 표본의 평균이나 분산 등이 어떤 분포를 가지는가를 알아낼 수 있다.\n",
    "- 같은 알고리즘에 대해 데이터 표본을 다르게 두고 학습을 수행해 보팅(Voting)을 수행하는 방식.\n",
    "- 이 때의 데이터 표본은 중첩이 허용된다. 즉 10000개의 데이터에 대해 10개의 알고리즘이 배깅을 사용할 때,각 1000개의 데이터 내에는 중복된 데이터가 존재할 수 있다. \n",
    "- 배깅의 대표적인 방식이 Random Forest. <br><br>\n",
    "\n",
    "\n",
    "#### Boosting\n",
    "- 여러 개의 알고리즘이 순차적으로 학습을 하되, 앞에 학습한 알고리즘 예측이 틀린 데이터에 대해 올바르게 예측할 수 있도록, 그 다음번 알고리즘에 가중치(Ada)를 부여하여 학습과 예측을 진행하는 방식과 잔여오차를 다시 학습(Gradient)하는 방식. <br><br>\n",
    "\n",
    "\n",
    "\n",
    "* 부스팅 알고리즘은 대표적으로 아래와 같은 알고리즘들이 있음.\n",
    "     * AdaBoost\n",
    "     * Gradient Booting Machine(GBM)\n",
    "     * XGBoost\n",
    "     * LightGBM\n",
    "     * CatBoost\n"
   ]
  },
  {
   "cell_type": "markdown",
   "metadata": {},
   "source": []
  },
  {
   "cell_type": "markdown",
   "metadata": {},
   "source": [
    "- Voting\n",
    "    - Hard Voting\n",
    "\n",
    "    Classification을 예로 들어 보자면, 분류를 예측한 값이 1, 0, 0, 1, 1 이었다고 가정한다면 1이 3표, 0이 2표를 받았기 때문에 Hard Voting 방식에서는 1을 최종값으로 예측을 하게됨.<br><br>\n",
    "    \n",
    "    - Soft Voting\n",
    "    soft voting 방식은 각각의 확률의 평균 값을 계산한다음에 가장 확률이 높은 값으로 확정짓게 됩니다.\n",
    "        가령 class 0이 나올 확률이 (0.4, 0.9, 0.9, 0.4, 0.4)이었고, class 1이 나올 확률이 (0.6, 0.1, 0.1, 0.6, 0.6) 이었다면, class 0이 나올 최종 확률은 0.44, class 1이 나올 최종 확률은 0.4 가 되기 때문에 앞선 Hard Vote의 결과와는 다른 결과값으로 예측하게 됨.\n",
    "\n"
   ]
  },
  {
   "cell_type": "code",
   "execution_count": 2,
   "metadata": {},
   "outputs": [],
   "source": [
    "bcancer = load_breast_cancer()\n",
    "x_data  = bcancer.data\n",
    "y_data  = bcancer.target\n",
    "x_train, x_test, y_train, y_test = train_test_split( x_data, y_data, test_size=0.2, \n",
    "                                                    random_state=11,  stratify=y_data )"
   ]
  },
  {
   "cell_type": "code",
   "execution_count": 3,
   "metadata": {},
   "outputs": [
    {
     "name": "stdout",
     "output_type": "stream",
     "text": [
      "{'fit_time': array([0.02792478, 0.0279243 , 0.0279243 , 0.0289216 , 0.02892303]), 'score_time': array([0.00398993, 0.00399041, 0.00399041, 0.00299287, 0.00299168]), 'test_score': array([0.93406593, 0.94505495, 0.96703297, 0.92307692, 0.94505495])}\n",
      "===============================================================================================================================================\n",
      "[0 1 1 1 1 1 1 0 1 0 0 1 1 0 0 1 1 1 0 1 0 0 1 1 1 1 1 0 0 1 1 1 0 1 1 1 1\n",
      " 0 0 0 0 0 1 1 0 1 0 1 1 1 1 1 1 0 1 0 1 1 0 0 1 1 0 1 1 1 0 1 1 1 1 0 1 0\n",
      " 1 0 1 1 1 1 1 1 1 1 0 0 1 1 1 1 0 1 1 0 1 1 1 1 1 1 0 1 0 1 1 1 1 1 0 0 1\n",
      " 0 1 0]\n",
      "===============================================================================================================================================\n",
      "Accuracy of train data : 97.0%\n",
      "Accuracy of test data  : 91.0%\n"
     ]
    }
   ],
   "source": [
    "model_logi = LogisticRegression()\n",
    "model_knn  = KNeighborsClassifier()\n",
    "model_tree = DecisionTreeClassifier()\n",
    "model_vote = VotingClassifier( estimators=[ ('LogisticRegression', model_logi), \n",
    "                                           ('KNN', model_knn), ('Tree', model_tree) ] )\n",
    "model_vote.fit( x_train, y_train)\n",
    "cross_val =cross_validate( model_vote, x_train, y_train, cv =5)\n",
    "print( cross_val )\n",
    "\n",
    "print('='*143)\n",
    "print( model_vote.predict( x_test ) )\n",
    "\n",
    "print('='*143)\n",
    "print(f'Accuracy of train data : { round(model_vote.score( x_train, y_train ), 2)*100 }%' )\n",
    "print(f'Accuracy of test data  : { round(model_vote.score( x_test, y_test ),   2)*100 }%' )"
   ]
  },
  {
   "cell_type": "code",
   "execution_count": 4,
   "metadata": {},
   "outputs": [
    {
     "name": "stdout",
     "output_type": "stream",
     "text": [
      "- Result -\n",
      "================================\n",
      "LogisticRegression : 94.0 %\n",
      "LogisticRegression : 91.0 %\n",
      "================================\n",
      "KNeighborsClassifier : 95.0 %\n",
      "KNeighborsClassifier : 91.0 %\n",
      "================================\n",
      "DecisionTreeClassifier : 100.0 %\n",
      "DecisionTreeClassifier : 90.0 %\n"
     ]
    }
   ],
   "source": [
    "print('- Result -')\n",
    "for c in [ model_logi, model_knn, model_tree ]:\n",
    "    c.fit( x_train, y_train )\n",
    "    print('='*32)\n",
    "    print( c.__class__.__name__ ,':', round( c.score( x_train, y_train ), 2)*100,'%' )\n",
    "    print( c.__class__.__name__ ,':', round( c.score( x_test, y_test ), 2)*100,'%' )"
   ]
  },
  {
   "cell_type": "markdown",
   "metadata": {},
   "source": [
    "- 3개의 분류 클래스를 이용하여 Soft voting 방식으로 정확도를 구하시오."
   ]
  },
  {
   "cell_type": "code",
   "execution_count": 5,
   "metadata": {},
   "outputs": [
    {
     "name": "stdout",
     "output_type": "stream",
     "text": [
      "- Result -\n",
      "================================\n",
      "Accuracy of train data : 100.0%\n",
      "Accuracy of test data  : 97.2%\n",
      "================================\n",
      "Accuracy of train data : 97.2%\n",
      "Accuracy of test data  : 94.39999999999999%\n",
      "================================\n",
      "Accuracy of train data : 100.0%\n",
      "Accuracy of test data  : 91.7%\n",
      "================================\n",
      "Accuracy of train data : 100.0%\n",
      "Accuracy of test data  : 97.2%\n"
     ]
    }
   ],
   "source": [
    "wine = load_wine()\n",
    "x_train, x_test, y_train, y_test = train_test_split( wine.data, wine.target, test_size=0.2, \n",
    "                                                    random_state=11,  stratify=wine.target )\n",
    "model_logi = make_pipeline( StandardScaler(), LogisticRegression() )\n",
    "model_knn  = make_pipeline( StandardScaler(), KNeighborsClassifier() )\n",
    "model_tree = make_pipeline( StandardScaler(), DecisionTreeClassifier() )\n",
    "model_vote = VotingClassifier( estimators=[ ('LogisticRegression', model_logi), \n",
    "                                           ('KNN', model_knn), ('Tree', model_tree) ], voting='soft' )\n",
    "\n",
    "print('- Result -')\n",
    "for c in [ model_logi, model_knn, model_tree, model_vote ]:\n",
    "    c.fit( x_train, y_train )\n",
    "    print('='*32)\n",
    "    print(f'Accuracy of train data : {round( c.score( x_train, y_train ), 3)*100 }%')\n",
    "    print(f'Accuracy of test data  : {round( c.score( x_test, y_test ),   3)*100 }%')"
   ]
  },
  {
   "cell_type": "markdown",
   "metadata": {},
   "source": [
    "- Bagging"
   ]
  },
  {
   "cell_type": "code",
   "execution_count": 6,
   "metadata": {},
   "outputs": [],
   "source": [
    "model_pipe_knn = make_pipeline( StandardScaler(), KNeighborsClassifier() )\n",
    "model_bagg     = BaggingClassifier( model_pipe_knn, n_estimators=10, max_samples=0.5 ) \n",
    "# bootstrap=True : sampling with replacement"
   ]
  },
  {
   "cell_type": "code",
   "execution_count": 7,
   "metadata": {},
   "outputs": [
    {
     "name": "stdout",
     "output_type": "stream",
     "text": [
      "Accuracy of train data : 96.5%\n",
      "Accuracy of test data  : 94.39999999999999%\n"
     ]
    }
   ],
   "source": [
    "model_cross    = cross_validate( model_bagg, X=x_train, y=y_train )\n",
    "model_bagg.fit( x_train, y_train )\n",
    "model_bagg.predict( x_test )\n",
    "\n",
    "print(f'Accuracy of train data : {round( model_bagg.score( x_train, y_train ), 3)*100 }%')\n",
    "print(f'Accuracy of test data  : {round( model_bagg.score( x_test, y_test ),   3)*100 }%')"
   ]
  },
  {
   "cell_type": "code",
   "execution_count": 8,
   "metadata": {},
   "outputs": [
    {
     "data": {
      "text/plain": [
       "0.965"
      ]
     },
     "execution_count": 8,
     "metadata": {},
     "output_type": "execute_result"
    }
   ],
   "source": [
    "model_cross['test_score'].mean().round(3)"
   ]
  },
  {
   "cell_type": "markdown",
   "metadata": {},
   "source": [
    "- Random Forest ( Decision Tree + Bagging )"
   ]
  },
  {
   "cell_type": "code",
   "execution_count": 9,
   "metadata": {},
   "outputs": [
    {
     "data": {
      "text/plain": [
       "array([0, 1, 1, 0, 1, 2, 0, 2, 1, 1, 1, 1, 0, 0, 0, 1, 1, 1, 1, 2, 2, 0,\n",
       "       1, 2, 0, 1, 2, 2, 0, 1, 2, 1, 2, 0, 0, 2])"
      ]
     },
     "execution_count": 9,
     "metadata": {},
     "output_type": "execute_result"
    }
   ],
   "source": [
    "forest = RandomForestClassifier()\n",
    "forest.fit( x_train, y_train )\n",
    "forest.predict( x_test )"
   ]
  },
  {
   "cell_type": "code",
   "execution_count": 10,
   "metadata": {},
   "outputs": [
    {
     "name": "stdout",
     "output_type": "stream",
     "text": [
      "Accuracy of train data : 100.0%\n",
      "Accuracy of test data  : 97.2%\n"
     ]
    }
   ],
   "source": [
    "print(f'Accuracy of train data : {round( forest.score( x_train, y_train ), 3)*100 }%')\n",
    "print(f'Accuracy of test data  : {round( forest.score( x_test, y_test ),   3)*100 }%')"
   ]
  },
  {
   "cell_type": "markdown",
   "metadata": {},
   "source": [
    "- Boosting"
   ]
  },
  {
   "cell_type": "code",
   "execution_count": 11,
   "metadata": {
    "scrolled": true
   },
   "outputs": [
    {
     "data": {
      "text/plain": [
       "array([1, 1, 1, 0, 1, 2, 0, 2, 1, 1, 1, 1, 0, 0, 0, 1, 1, 1, 1, 2, 2, 0,\n",
       "       1, 2, 0, 1, 2, 2, 0, 1, 2, 1, 2, 0, 1, 1])"
      ]
     },
     "execution_count": 11,
     "metadata": {},
     "output_type": "execute_result"
    }
   ],
   "source": [
    "tree      = DecisionTreeClassifier( max_depth=1, criterion='entropy', random_state=1 )\n",
    "model_ada = AdaBoostClassifier( tree )\n",
    "model_ada.fit( x_train, y_train )\n",
    "model_ada.predict( x_test )"
   ]
  },
  {
   "cell_type": "code",
   "execution_count": 12,
   "metadata": {},
   "outputs": [
    {
     "name": "stdout",
     "output_type": "stream",
     "text": [
      "Accuracy of train data : 97.2%\n",
      "Accuracy of test data  : 88.9%\n"
     ]
    }
   ],
   "source": [
    "print(f'Accuracy of train data : {round( model_ada.score( x_train, y_train ), 3)*100 }%')\n",
    "print(f'Accuracy of test data  : {round( model_ada.score( x_test, y_test ),   3)*100 }%')"
   ]
  },
  {
   "cell_type": "code",
   "execution_count": 16,
   "metadata": {},
   "outputs": [],
   "source": [
    "# 위에서 배운 걸 토대로 하자면 아래와 같은 방식으로 찾을 수 있음.\n",
    "models = [ ('Ada', AdaBoostClassifier()),\n",
    "           ('Logit', LogisticRegression()),\n",
    "           ('Tree', DecisionTreeClassifier()),\n",
    "           ('KNN', KNeighborsClassifier())\n",
    "         ]\n",
    "# model_search = make_pipeline( StandardScaler(),  models )"
   ]
  },
  {
   "cell_type": "markdown",
   "metadata": {},
   "source": [
    "- Cancer data set을 이용하여 Logistic에 Bagging, Boosting을 적용하여 각각의 정확도를 구하고, ROC Curve를 그리시오."
   ]
  },
  {
   "cell_type": "code",
   "execution_count": 17,
   "metadata": {},
   "outputs": [
    {
     "name": "stdout",
     "output_type": "stream",
     "text": [
      "- Bagging -\n",
      "================================\n",
      "Accuracy of train data : 98.2%\n",
      "Accuracy of test data  : 99.1%\n",
      "--------------------------------\n",
      "- Boosting -\n",
      "================================\n",
      "Accuracy of train data : 98.0%\n",
      "Accuracy of test data  : 100.0%\n"
     ]
    },
    {
     "data": {
      "image/png": "[encoded data removed]",
      "text/plain": [
       "<Figure size 432x288 with 1 Axes>"
      ]
     },
     "metadata": {
      "needs_background": "light"
     },
     "output_type": "display_data"
    }
   ],
   "source": [
    "# 데이터 불러오기.\n",
    "cancer  = load_breast_cancer()\n",
    "\n",
    "# Boosting에서 pipelne을 통과하지 못하기 떄문에 직접 정규화.\n",
    "x_data  = StandardScaler().fit_transform( cancer.data )\n",
    "\n",
    "# Split Train data set : Test data set : 8 : 2\n",
    "x_train, x_test, y_train, y_test = train_test_split( x_data, cancer.target, test_size=0.2, \n",
    "                                                    random_state=2021,  stratify=cancer.target )\n",
    "# Logit model. \n",
    "model_Logit = LogisticRegression()\n",
    "\n",
    "# Bagging model.\n",
    "model_bagg  = BaggingClassifier( model_Logit, max_samples=0.5 ) \n",
    "model_bagg.fit( x_train, y_train )\n",
    "\n",
    "# Accuracy of bagging model.\n",
    "print('- Bagging -')\n",
    "print('='*32)\n",
    "print(f'Accuracy of train data : {round( model_bagg.score( x_train, y_train ), 3)*100 }%')\n",
    "print(f'Accuracy of test data  : {round( model_bagg.score( x_test, y_test ),   3)*100 }%')\n",
    "print('-'*32)\n",
    "\n",
    "# Boosting model.\n",
    "model_ada = AdaBoostClassifier( model_Logit )\n",
    "model_ada.fit( x_train, y_train )\n",
    "\n",
    "# Accuracy of Boosting model.\n",
    "print('- Boosting -')\n",
    "print('='*32)\n",
    "print(f'Accuracy of train data : {round( model_ada.score( x_train, y_train ), 3)*100 }%')\n",
    "print(f'Accuracy of test data  : {round( model_ada.score( x_test, y_test ),   3)*100 }%')\\\n",
    "\n",
    "# ROC Curve\n",
    "FPR1, TPR1, Thresholds1 = m.roc_curve( y_test, model_bagg.predict_proba( x_test )[:,1] )    # Predict proba of Bagging\n",
    "FPR2, TPR2, Thresholds2 = m.roc_curve( y_test, model_ada.predict_proba( x_test )[:,1] )     # Predict proba of Boosting\n",
    "plt.plot( FPR1, TPR1, 'r--', label='Bagging')\n",
    "plt.plot( FPR2, TPR2, 'b--', label='Boosting')\n",
    "plt.plot( [0,1], [0,1], 'm--', label='guess' )\n",
    "plt.xlabel( 'FPR : False Positive Rate, 1 - Specificity' ); plt.ylabel( 'TPR : True Positive Rate, Sensitivity' )\n",
    "plt.legend()\n",
    "plt.show()"
   ]
  }
 ],
 "metadata": {
  "kernelspec": {
   "display_name": "Python 3",
   "language": "python",
   "name": "python3"
  },
  "language_info": {
   "codemirror_mode": {
    "name": "ipython",
    "version": 3
   },
   "file_extension": ".py",
   "mimetype": "text/x-python",
   "name": "python",
   "nbconvert_exporter": "python",
   "pygments_lexer": "ipython3",
   "version": "3.7.6"
  }
 },
 "nbformat": 4,
 "nbformat_minor": 4
}
