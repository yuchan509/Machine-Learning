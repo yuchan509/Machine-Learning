{
 "cells": [
  {
   "cell_type": "code",
   "execution_count": 1,
   "metadata": {},
   "outputs": [],
   "source": [
    "import numpy as np\n",
    "import pandas as pd\n",
    "from tqdm import tqdm\n",
    "import sklearn.metrics as m\n",
    "import matplotlib.pyplot as plt\n",
    "from sklearn.metrics import accuracy_score\n",
    "from sklearn.pipeline import make_pipeline\n",
    "from sklearn.neural_network import MLPClassifier\n",
    "from sklearn.preprocessing import StandardScaler\n",
    "from sklearn.model_selection import GridSearchCV\n",
    "from sklearn.neighbors import KNeighborsClassifier\n",
    "from sklearn.linear_model import LogisticRegression\n",
    "from sklearn.model_selection import validation_curve\n",
    "from sklearn.model_selection import train_test_split\n",
    "from sklearn.model_selection import cross_val_score, cross_validate\n",
    "from sklearn.ensemble import VotingClassifier, RandomForestClassifier, BaggingClassifier, AdaBoostClassifier, GradientBoostingClassifier\n",
    "from warnings import filterwarnings\n",
    "filterwarnings('ignore')"
   ]
  },
  {
   "cell_type": "markdown",
   "metadata": {},
   "source": [
    "#### Pima-indians-diabetes data set을 이용하여 아래를 구하시오."
   ]
  },
  {
   "cell_type": "code",
   "execution_count": 2,
   "metadata": {},
   "outputs": [],
   "source": [
    "# Data.\n",
    "df     = pd.read_csv('data5/pima-indians-diabetes.data.csv')\n",
    "x_data = df.iloc[:, :-1]\n",
    "y_data = df['Outcome']   # binary data\n",
    "x_train, x_test, y_train, y_test = train_test_split( x_data, y_data, test_size=0.25, stratify=y_data, random_state=1)  "
   ]
  },
  {
   "cell_type": "markdown",
   "metadata": {},
   "source": [
    "- 1. Logistic 분류기를 선택하여 GridSearch로 최적 파라미터를 구하고, Accuracy, Precision, Recall, F1 score, ROC Curve , Vadation Curve 를  구하시오"
   ]
  },
  {
   "cell_type": "code",
   "execution_count": 3,
   "metadata": {},
   "outputs": [
    {
     "name": "stdout",
     "output_type": "stream",
     "text": [
      "- Accuracy of Logit model -\n",
      "----------------------------------------------------------------------------------------------------------------------------------\n",
      "Accuracy of train data         : 78.0%\n",
      "Accuracy of test data          : 78.0%\n",
      "----------------------------------------------------------------------------------------------------------------------------------\n",
      "- Precision  of Logit model -\n",
      "----------------------------------------------------------------------------------------------------------------------------------\n",
      "Precision score of train data  : 73.0%\n",
      "Precision score of test data   : 75.0%\n",
      "----------------------------------------------------------------------------------------------------------------------------------\n",
      "- Recall  of Logit model -\n",
      "----------------------------------------------------------------------------------------------------------------------------------\n",
      "Recall score of train data     : 61.0%\n",
      "Recall score of test data      : 54.0%\n",
      "----------------------------------------------------------------------------------------------------------------------------------\n",
      "- F1 score  of Logit model -\n",
      "----------------------------------------------------------------------------------------------------------------------------------\n",
      "F1 score of train data        : 66.0%\n",
      "F1 score of test data         : 63.0%\n",
      "----------------------------------------------------------------------------------------------------------------------------------\n",
      "- ROC Curve  of Logit model -\n",
      "----------------------------------------------------------------------------------------------------------------------------------\n"
     ]
    },
    {
     "data": {
      "image/png": "[encoded data removed]",
      "text/plain": [
       "<Figure size 432x288 with 1 Axes>"
      ]
     },
     "metadata": {
      "needs_background": "light"
     },
     "output_type": "display_data"
    },
    {
     "name": "stdout",
     "output_type": "stream",
     "text": [
      "----------------------------------------------------------------------------------------------------------------------------------\n",
      "- Validatain Curve  of Logit model -\n",
      "----------------------------------------------------------------------------------------------------------------------------------\n"
     ]
    },
    {
     "data": {
      "image/png": "[encoded data removed]",
      "text/plain": [
       "<Figure size 432x288 with 1 Axes>"
      ]
     },
     "metadata": {
      "needs_background": "light"
     },
     "output_type": "display_data"
    },
    {
     "data": {
      "text/plain": [
       "array([0.02, 0.02, 0.02, 0.02, 0.02, 0.02, 0.02, 0.02, 0.02, 0.02, 0.02])"
      ]
     },
     "execution_count": 3,
     "metadata": {},
     "output_type": "execute_result"
    }
   ],
   "source": [
    "# Logit model. \n",
    "model_Logit = make_pipeline( StandardScaler(),  LogisticRegression() )\n",
    "param_value = { 'logisticregression__penalty': [ 'l1', 'l2', 'elasticnet', 'none' ],\n",
    "                'logisticregression__C'      : np.logspace( -5, 5, 11 ),\n",
    "                'logisticregression__solver' : ['newton-cg', 'lbfgs', 'liblinear', 'sag', 'saga',]\n",
    "              }\n",
    "grid_search_logit = GridSearchCV( model_Logit , param_grid = param_value ) \n",
    "grid_search_logit.fit( x_train, y_train )\n",
    "\n",
    "# Accuracy of Logit model.\n",
    "print('- Accuracy of Logit model -')\n",
    "print('-'*130)\n",
    "print(f'Accuracy of train data         : {round( grid_search_logit.best_estimator_.score( x_train, y_train ), 2)*100 }%')\n",
    "print(f'Accuracy of test data          : {round( grid_search_logit.best_estimator_.score( x_test, y_test ),   2)*100 }%')\n",
    "print('-'*130)\n",
    "\n",
    "# Prediction of grid_search_logit.\n",
    "y_pred_train  = grid_search_logit.best_estimator_.predict( x_train )\n",
    "y_pred_test   = grid_search_logit.best_estimator_.predict( x_test )\n",
    "\n",
    "# Precision of grid_search_logit.\n",
    "print('- Precision  of Logit model -')\n",
    "print('-'*130)\n",
    "print(f'Precision score of train data  : { round(m.precision_score( y_train, y_pred_train ), 2)*100 }%' )\n",
    "print(f'Precision score of test data   : { round(m.precision_score( y_test,   y_pred_test ), 2)*100 }%' )\n",
    "print('-'*130)\n",
    "\n",
    "# Recall of grid_search_logit.\n",
    "print('- Recall  of Logit model -')\n",
    "print('-'*130)\n",
    "print(f'Recall score of train data     : { round(m.recall_score( y_train, y_pred_train  ), 2)*100   }%' )\n",
    "print(f'Recall score of test data      : { round(m.recall_score( y_test,   y_pred_test  ), 2)*100   }%' )\n",
    "print('-'*130)\n",
    "\n",
    "# F1 score of grid_search_logit.\n",
    "print('- F1 score  of Logit model -')\n",
    "print('-'*130)\n",
    "print(f'F1 score of train data        : { round(m.f1_score( y_train, y_pred_train  ), 2)*100       }%' )\n",
    "print(f'F1 score of test data         : { round(m.f1_score( y_test,   y_pred_test  ), 2)*100       }%' )\n",
    "print('-'*130)\n",
    "\n",
    "# ROC Curve\n",
    "print('- ROC Curve  of Logit model -')\n",
    "print('-'*130)\n",
    "FPR, TPR, Thresholds = m.roc_curve( y_test, grid_search_logit.predict_proba( x_test )[:,1] )    \n",
    "plt.plot( FPR, TPR, 'm--', label='Logistic')\n",
    "plt.plot( [0,1], [0,1], 'b--', label='guess' )\n",
    "plt.xlabel( 'FPR : False Positive Rate, 1 - Specificity' ); plt.ylabel( 'TPR : True Positive Rate, Sensitivity' )\n",
    "plt.legend()\n",
    "plt.show()\n",
    "print('-'*130)\n",
    "\n",
    "# Validataion Curve\n",
    "print('- Validatain Curve  of Logit model -')\n",
    "print('-'*130)\n",
    "param_range = np.logspace( -5, 5, 11 )\n",
    "train_score, test_score = validation_curve( estimator=grid_search_logit.best_estimator_, X=x_train, y=y_train, \n",
    "                                           param_name='logisticregression__C', param_range=param_range, scoring='f1' )\n",
    "\n",
    "plt.ylim( 0, 1.2 )\n",
    "plt.plot( param_range, train_score.mean( axis=1 ), 'r--' )\n",
    "plt.plot( param_range, test_score.mean( axis=1 ),  'b--' )\n",
    "plt.show()\n",
    "( train_score.mean( axis=1 ) - test_score.mean( axis=1 ) ).round(2)\n"
   ]
  },
  {
   "cell_type": "markdown",
   "metadata": {},
   "source": [
    "- 2. 여러개의 분류기를 선택하여 GridSearch로 최적 파라미터를 구하고\n",
    "Soft Voting 방식으로 Accuracy, Precision, Recall, F1 score, ROC Curve , Vadation Curve 를  구하시오."
   ]
  },
  {
   "cell_type": "code",
   "execution_count": 4,
   "metadata": {},
   "outputs": [
    {
     "name": "stderr",
     "output_type": "stream",
     "text": [
      "100%|████████████████████████████████████████████████████████████████████████████████████| 3/3 [02:09<00:00, 43.32s/it]\n"
     ]
    },
    {
     "name": "stdout",
     "output_type": "stream",
     "text": [
      "- Accuracy of Voting -\n",
      "----------------------------------------------------------------------------------------------------------------------------------\n",
      "Accuracy of train data         : 90.0%\n",
      "Accuracy of test data          : 77.0%\n",
      "----------------------------------------------------------------------------------------------------------------------------------\n",
      "- Precision of Voting model -\n",
      "----------------------------------------------------------------------------------------------------------------------------------\n",
      "Precision score of train data  : 90.0%\n",
      "Precision score of test data   : 71.0%\n",
      "----------------------------------------------------------------------------------------------------------------------------------\n",
      "- Recall of Voting model -\n",
      "----------------------------------------------------------------------------------------------------------------------------------\n",
      "Recall score of train data     : 79.0%\n",
      "Recall score of test data      : 55.00000000000001%\n",
      "----------------------------------------------------------------------------------------------------------------------------------\n",
      "- F1 score of Voting model -\n",
      "----------------------------------------------------------------------------------------------------------------------------------\n",
      "F1 score of train data        : 84.0%\n",
      "F1 score of test data         : 62.0%\n",
      "----------------------------------------------------------------------------------------------------------------------------------\n",
      "- ROC Curve of Voting model -\n",
      "----------------------------------------------------------------------------------------------------------------------------------\n"
     ]
    },
    {
     "data": {
      "image/png": "[encoded data removed]",
      "text/plain": [
       "<Figure size 432x288 with 1 Axes>"
      ]
     },
     "metadata": {
      "needs_background": "light"
     },
     "output_type": "display_data"
    },
    {
     "name": "stdout",
     "output_type": "stream",
     "text": [
      "----------------------------------------------------------------------------------------------------------------------------------\n",
      "- Validatain Curve  of Voting model -\n",
      "----------------------------------------------------------------------------------------------------------------------------------\n"
     ]
    },
    {
     "data": {
      "image/png": "[encoded data removed]",
      "text/plain": [
       "<Figure size 432x288 with 1 Axes>"
      ]
     },
     "metadata": {
      "needs_background": "light"
     },
     "output_type": "display_data"
    },
    {
     "data": {
      "text/plain": [
       "array([0.24, 0.23, 0.23, 0.24, 0.24, 0.24, 0.24, 0.24, 0.24])"
      ]
     },
     "execution_count": 4,
     "metadata": {},
     "output_type": "execute_result"
    }
   ],
   "source": [
    "# pipeline을 쓸 수가 없어서 X_data로 정규화.\n",
    "X_data  = StandardScaler().fit_transform( x_data )\n",
    "X_train, X_test, y_train, y_test = train_test_split( X_data, y_data, test_size=0.25, stratify=y_data, random_state=1 ) \n",
    "\n",
    "# GridSearch \n",
    "Classifiers    = []\n",
    "Parameters     = []\n",
    "\n",
    "MLP            = MLPClassifier(hidden_layer_sizes=(100, 2),max_iter=50, early_stopping = True)\n",
    "RF             = RandomForestClassifier(n_estimators=100, oob_score=True )\n",
    "KNN            = KNeighborsClassifier()\n",
    "\n",
    "Parameters_MLP = {'max_iter': [30,40,50], \n",
    "                  'hidden_layer_sizes':[(100,2), (80,2), (60,2), (40,2)], \n",
    "                  'random_state':[0,1,123,42],\n",
    "                  'learning_rate' : ['constant','adaptive'],\n",
    "                  'learning_rate_init':[0.001,0.003,0.005,0.0009]\n",
    "                 }\n",
    "\n",
    "Parameters_RF  = {\"max_features\": [2,3,4],\n",
    "                 \"random_state\":[0,1,123,42],\n",
    "                 \"n_estimators\" :[100,300,50,200]\n",
    "                 }\n",
    "\n",
    "Parameters_KNN = {\"n_neighbors\": [3,5,7,9],\n",
    "                  \"weights\": ['uniform','distance'],\n",
    "                   \"p\":[1,2,3]\n",
    "                 }\n",
    "\n",
    "Classifiers.append( MLP )\n",
    "Classifiers.append( RF  )\n",
    "Classifiers.append( KNN )\n",
    "\n",
    "Parameters.append( Parameters_MLP )\n",
    "Parameters.append( Parameters_RF  )\n",
    "Parameters.append( Parameters_KNN )\n",
    "\n",
    "def gridSearchCV( models, params, count ):\n",
    "    best_models=[]\n",
    "    for i in tqdm(range( 0, count )):\n",
    "        model_grid = GridSearchCV( models[i], Parameters[i] )\n",
    "        model_grid.fit( X_train, y_train )\n",
    "        best_models.append( model_grid.best_estimator_ )\n",
    "    return best_models\n",
    "\n",
    "best_model_list = gridSearchCV( Classifiers, Parameters, 3 )\n",
    "\n",
    "\n",
    "# Voting model\n",
    "model_vote = VotingClassifier( estimators=[('MLP', best_model_list[0]), ('Randomforest', best_model_list[1]), \n",
    "                             ('KNN', best_model_list[2])],  voting='soft' )\n",
    "model_vote.fit( X_train, y_train )\n",
    "\n",
    "# Accuracy of voting.\n",
    "print('- Accuracy of Voting -')\n",
    "print('-'*130)\n",
    "print(f'Accuracy of train data         : {round( model_vote.score( X_train, y_train ), 2)*100 }%')\n",
    "print(f'Accuracy of test data          : {round( model_vote.score( X_test, y_test ),   2)*100 }%')\n",
    "print('-'*130)\n",
    "\n",
    "# Prediction of Voting model.\n",
    "y_pred_train  = model_vote.predict( X_train )\n",
    "y_pred_test   = model_vote.predict( X_test )\n",
    "\n",
    "# Precision of  Voting model.\n",
    "print('- Precision of Voting model -')\n",
    "print('-'*130)\n",
    "print(f'Precision score of train data  : { round(m.precision_score( y_train, y_pred_train ), 2)*100 }%' )\n",
    "print(f'Precision score of test data   : { round(m.precision_score( y_test,   y_pred_test ), 2)*100 }%' )\n",
    "print('-'*130)\n",
    "\n",
    "# Recall of Voting model.\n",
    "print('- Recall of Voting model -')\n",
    "print('-'*130)\n",
    "print(f'Recall score of train data     : { round(m.recall_score( y_train, y_pred_train  ), 2)*100   }%' )\n",
    "print(f'Recall score of test data      : { round(m.recall_score( y_test,   y_pred_test  ), 2)*100   }%' )\n",
    "print('-'*130)\n",
    "\n",
    "# F1 score of  Voting model.\n",
    "print('- F1 score of Voting model -')\n",
    "print('-'*130)\n",
    "print(f'F1 score of train data        : { round(m.f1_score( y_train, y_pred_train  ), 2)*100       }%' )\n",
    "print(f'F1 score of test data         : { round(m.f1_score( y_test,   y_pred_test  ), 2)*100       }%' )\n",
    "print('-'*130)\n",
    "\n",
    "# ROC Curve\n",
    "print('- ROC Curve of Voting model -')\n",
    "print('-'*130)\n",
    "FPR, TPR, Thresholds = m.roc_curve( y_test, model_vote.predict_proba( X_test )[:,1] )    \n",
    "plt.plot( FPR, TPR, 'm--', label='Voting')\n",
    "plt.plot( [0,1], [0,1], 'b--', label='guess' )\n",
    "plt.xlabel( 'FPR : False Positive Rate, 1 - Specificity' ); plt.ylabel( 'TPR : True Positive Rate, Sensitivity' )\n",
    "plt.legend()\n",
    "plt.show()\n",
    "print('-'*130)\n",
    "\n",
    "# Validataion Curve\n",
    "print('- Validatain Curve  of Voting model -')\n",
    "print('-'*130)\n",
    "# model_vote.get_params().keys()\n",
    "param_range = list(range(1,10,1))\n",
    "train_score, test_score = validation_curve( estimator=model_vote, X=x_train, y=y_train, \n",
    "                                           param_name='KNN__p',\n",
    "                                           param_range=param_range, scoring='f1' )\n",
    "plt.ylim( 0, 1.2 )\n",
    "plt.plot( param_range, train_score.mean( axis=1 ), 'r--' )\n",
    "plt.plot( param_range, test_score.mean( axis=1 ),  'b--' )\n",
    "plt.show()\n",
    "( train_score.mean( axis=1 ) - test_score.mean( axis=1 ) ).round(2)"
   ]
  },
  {
   "cell_type": "markdown",
   "metadata": {},
   "source": [
    "- 3. Random Forest를 선택하여 GridSearch로 최적 파라미터를 구하고,\n",
    " Bagging 방식으로 Accuracy, Precision, Recall, F1 score, ROC Curve , Vadation Curve 를  구하시오.\n"
   ]
  },
  {
   "cell_type": "code",
   "execution_count": 5,
   "metadata": {},
   "outputs": [
    {
     "name": "stdout",
     "output_type": "stream",
     "text": [
      "Best Parameter : {'max_depth': 10, 'min_samples_leaf': 12, 'min_samples_split': 8, 'n_estimators': 100}\n",
      "Accuracy of train data : 35.0%\n",
      "Accuracy of test data  : 35.0%\n",
      "----------------------------------------------------------------------------------------------------------------------------------\n",
      "- Accuracy of Bagging model -\n",
      "----------------------------------------------------------------------------------------------------------------------------------\n",
      "Accuracy of train data         : 79.7%\n",
      "Accuracy of test data          : 73.4%\n",
      "----------------------------------------------------------------------------------------------------------------------------------\n",
      "- Precision  of Bagging model -\n",
      "----------------------------------------------------------------------------------------------------------------------------------\n",
      "Precision score of train data  : 80.4%\n",
      "Precision score of test data   : 71.1%\n",
      "----------------------------------------------------------------------------------------------------------------------------------\n",
      "- Recall  of Bagging model -\n",
      "----------------------------------------------------------------------------------------------------------------------------------\n",
      "Recall score of train data     : 55.2%\n",
      "Recall score of test data      : 40.300000000000004%\n",
      "----------------------------------------------------------------------------------------------------------------------------------\n",
      "- F1 score  of Bagging model -\n",
      "----------------------------------------------------------------------------------------------------------------------------------\n",
      "F1 score of train data        : 65.5%\n",
      "F1 score of test data         : 51.4%\n",
      "----------------------------------------------------------------------------------------------------------------------------------\n",
      "- ROC curve  of Bagging model -\n",
      "----------------------------------------------------------------------------------------------------------------------------------\n"
     ]
    },
    {
     "data": {
      "image/png": "[encoded data removed]",
      "text/plain": [
       "<Figure size 432x288 with 1 Axes>"
      ]
     },
     "metadata": {
      "needs_background": "light"
     },
     "output_type": "display_data"
    },
    {
     "name": "stdout",
     "output_type": "stream",
     "text": [
      "----------------------------------------------------------------------------------------------------------------------------------\n",
      "- Validatain Curve  of Bagging model -\n",
      "----------------------------------------------------------------------------------------------------------------------------------\n"
     ]
    },
    {
     "data": {
      "image/png": "[encoded data removed]",
      "text/plain": [
       "<Figure size 432x288 with 1 Axes>"
      ]
     },
     "metadata": {
      "needs_background": "light"
     },
     "output_type": "display_data"
    },
    {
     "data": {
      "text/plain": [
       "array([0.06, 0.08, 0.04, 0.03, 0.05, 0.05, 0.04, 0.05, 0.05, 0.05, 0.05,\n",
       "       0.06, 0.06, 0.05, 0.05, 0.05, 0.05, 0.06, 0.06, 0.05])"
      ]
     },
     "execution_count": 5,
     "metadata": {},
     "output_type": "execute_result"
    }
   ],
   "source": [
    "# Random forest model. \n",
    "model_forest =  RandomForestClassifier() \n",
    "param_value  = { 'n_estimators' : [10, 50, 100],\n",
    "                 'max_depth' : [6, 8, 10, 12],\n",
    "                 'min_samples_leaf' : [8, 12, 16],\n",
    "                 'min_samples_split' : [8, 16, 20]\n",
    "                }\n",
    "\n",
    "grid_search_forest = GridSearchCV( model_forest , param_grid = param_value ) \n",
    "grid_search_forest.fit( X_train, y_train )\n",
    "\n",
    "print(f'Best Parameter : { grid_search_forest.best_params_}')\n",
    "print(f'Accuracy of train data : { round(grid_search_forest.score( x_train , y_train ), 2)*100 }%' )\n",
    "print(f'Accuracy of test data  : { round(grid_search_forest.score( x_test , y_test   ), 2)*100 }%' )\n",
    "print('-'*130)\n",
    "\n",
    "# Bagging model.\n",
    "model_bagg  = BaggingClassifier( grid_search_forest.best_estimator_, max_samples=0.5 ) \n",
    "model_bagg.fit( X_train, y_train )\n",
    "\n",
    "# Accuracy of bagging model.\n",
    "print('- Accuracy of Bagging model -')\n",
    "print('-'*130)\n",
    "print(f'Accuracy of train data         : {round( model_bagg.score( X_train, y_train ), 3)*100 }%')\n",
    "print(f'Accuracy of test data          : {round( model_bagg.score( X_test, y_test ),   3)*100 }%')\n",
    "print('-'*130)\n",
    "\n",
    "# Prediction of bagging model.\n",
    "y_pred_train  = model_bagg.predict( X_train )\n",
    "y_pred_test   = model_bagg.predict( X_test )\n",
    "\n",
    "# Precision of bagging model.\n",
    "print('- Precision  of Bagging model -')\n",
    "print('-'*130)\n",
    "print(f'Precision score of train data  : { round(m.precision_score( y_train, y_pred_train ), 3)*100 }%' )\n",
    "print(f'Precision score of test data   : { round(m.precision_score( y_test,   y_pred_test ), 3)*100 }%' )\n",
    "print('-'*130)\n",
    "\n",
    "# Recall of bagging model.\n",
    "print('- Recall  of Bagging model -')\n",
    "print('-'*130)\n",
    "print(f'Recall score of train data     : { round(m.recall_score( y_train, y_pred_train  ), 3)*100   }%' )\n",
    "print(f'Recall score of test data      : { round(m.recall_score( y_test,   y_pred_test  ), 3)*100   }%' )\n",
    "print('-'*130)\n",
    "\n",
    "# F1 score of bagging model.\n",
    "print('- F1 score  of Bagging model -')\n",
    "print('-'*130)\n",
    "print(f'F1 score of train data        : { round(m.f1_score( y_train, y_pred_train  ), 3)*100       }%' )\n",
    "print(f'F1 score of test data         : { round(m.f1_score( y_test,   y_pred_test  ), 3)*100       }%' )\n",
    "print('-'*130)\n",
    "\n",
    "# ROC Curve\n",
    "print('- ROC curve  of Bagging model -')\n",
    "print('-'*130)\n",
    "FPR, TPR, Thresholds = m.roc_curve( y_test, model_bagg.predict_proba( X_test )[:,1] )    # Predict proba of Bagging\n",
    "plt.plot( FPR, TPR, 'm--', label='Logistic Bagging')\n",
    "plt.plot( [0,1], [0,1], 'b--', label='guess' )\n",
    "plt.xlabel( 'FPR : False Positive Rate, 1 - Specificity' ); plt.ylabel( 'TPR : True Positive Rate, Sensitivity' )\n",
    "plt.legend()\n",
    "plt.show()\n",
    "print('-'*130)\n",
    "\n",
    "# Validataion Curve\n",
    "print('- Validatain Curve  of Bagging model -')\n",
    "print('-'*130)\n",
    "param_range = list(range(1,100,5))\n",
    "train_score, test_score = validation_curve( estimator=model_bagg, X=x_train, y=y_train, \n",
    "                                           param_name='n_estimators', param_range=param_range, scoring='f1' )\n",
    "\n",
    "plt.ylim( 0, 1.2 )\n",
    "plt.plot( param_range, train_score.mean( axis=1 ), 'r--' )\n",
    "plt.plot( param_range, test_score.mean( axis=1 ),  'b--' )\n",
    "plt.show()\n",
    "( train_score.mean( axis=1 ) - test_score.mean( axis=1 ) ).round(2)"
   ]
  }
 ],
 "metadata": {
  "kernelspec": {
   "display_name": "Python 3",
   "language": "python",
   "name": "python3"
  },
  "language_info": {
   "codemirror_mode": {
    "name": "ipython",
    "version": 3
   },
   "file_extension": ".py",
   "mimetype": "text/x-python",
   "name": "python",
   "nbconvert_exporter": "python",
   "pygments_lexer": "ipython3",
   "version": "3.7.6"
  }
 },
 "nbformat": 4,
 "nbformat_minor": 4
}
