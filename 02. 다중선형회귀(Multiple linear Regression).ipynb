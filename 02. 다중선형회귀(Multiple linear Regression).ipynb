{
 "cells": [
  {
   "cell_type": "code",
   "execution_count": 166,
   "metadata": {},
   "outputs": [],
   "source": [
    "import mglearn\n",
    "import matplotlib\n",
    "import numpy as np\n",
    "import pandas as pd\n",
    "import seaborn as sns\n",
    "import matplotlib.pyplot as plt\n",
    "matplotlib.rcParams['font.family']='Malgun Gothic'\n",
    "matplotlib.rcParams['axes.unicode_minus'] = False\n",
    "\n",
    "from sklearn.datasets import load_boston, fetch_california_housing\n",
    "from sklearn.pipeline import make_pipeline\n",
    "from sklearn.neural_network import MLPRegressor\n",
    "from sklearn.model_selection import cross_val_score                         # 교차 검증\n",
    "from sklearn.model_selection import train_test_split\n",
    "from sklearn.preprocessing import MinMaxScaler, StandardScaler\n",
    "from sklearn.linear_model import LinearRegression, SGDRegressor\n",
    "from statsmodels.stats.outliers_influence import variance_inflation_factor  # VIF\n",
    "\n",
    "import warnings\n",
    "warnings.simplefilter('ignore')"
   ]
  },
  {
   "cell_type": "markdown",
   "metadata": {},
   "source": [
    "#### EX1. data-01"
   ]
  },
  {
   "cell_type": "code",
   "execution_count": 2,
   "metadata": {},
   "outputs": [
    {
     "data": {
      "text/html": [
       "<div>\n",
       "<style scoped>\n",
       "    .dataframe tbody tr th:only-of-type {\n",
       "        vertical-align: middle;\n",
       "    }\n",
       "\n",
       "    .dataframe tbody tr th {\n",
       "        vertical-align: top;\n",
       "    }\n",
       "\n",
       "    .dataframe thead th {\n",
       "        text-align: right;\n",
       "    }\n",
       "</style>\n",
       "<table border=\"1\" class=\"dataframe\">\n",
       "  <thead>\n",
       "    <tr style=\"text-align: right;\">\n",
       "      <th></th>\n",
       "      <th>q1</th>\n",
       "      <th>q2</th>\n",
       "      <th>mid</th>\n",
       "      <th>final</th>\n",
       "    </tr>\n",
       "  </thead>\n",
       "  <tbody>\n",
       "    <tr>\n",
       "      <th>0</th>\n",
       "      <td>73</td>\n",
       "      <td>80</td>\n",
       "      <td>75</td>\n",
       "      <td>152</td>\n",
       "    </tr>\n",
       "    <tr>\n",
       "      <th>1</th>\n",
       "      <td>93</td>\n",
       "      <td>88</td>\n",
       "      <td>93</td>\n",
       "      <td>185</td>\n",
       "    </tr>\n",
       "    <tr>\n",
       "      <th>2</th>\n",
       "      <td>89</td>\n",
       "      <td>91</td>\n",
       "      <td>90</td>\n",
       "      <td>180</td>\n",
       "    </tr>\n",
       "    <tr>\n",
       "      <th>3</th>\n",
       "      <td>96</td>\n",
       "      <td>98</td>\n",
       "      <td>100</td>\n",
       "      <td>196</td>\n",
       "    </tr>\n",
       "    <tr>\n",
       "      <th>4</th>\n",
       "      <td>73</td>\n",
       "      <td>66</td>\n",
       "      <td>70</td>\n",
       "      <td>142</td>\n",
       "    </tr>\n",
       "  </tbody>\n",
       "</table>\n",
       "</div>"
      ],
      "text/plain": [
       "   q1  q2  mid  final\n",
       "0  73  80   75    152\n",
       "1  93  88   93    185\n",
       "2  89  91   90    180\n",
       "3  96  98  100    196\n",
       "4  73  66   70    142"
      ]
     },
     "execution_count": 2,
     "metadata": {},
     "output_type": "execute_result"
    }
   ],
   "source": [
    "df = pd.read_csv( 'data4/data-01.csv', header=None )\n",
    "df.columns = ['q1', 'q2', 'mid', 'final']\n",
    "df.head()"
   ]
  },
  {
   "cell_type": "code",
   "execution_count": 3,
   "metadata": {},
   "outputs": [],
   "source": [
    "x_data = df.iloc[:, :-1]"
   ]
  },
  {
   "cell_type": "code",
   "execution_count": 110,
   "metadata": {},
   "outputs": [
    {
     "data": {
      "text/html": [
       "<div>\n",
       "<style scoped>\n",
       "    .dataframe tbody tr th:only-of-type {\n",
       "        vertical-align: middle;\n",
       "    }\n",
       "\n",
       "    .dataframe tbody tr th {\n",
       "        vertical-align: top;\n",
       "    }\n",
       "\n",
       "    .dataframe thead th {\n",
       "        text-align: right;\n",
       "    }\n",
       "</style>\n",
       "<table border=\"1\" class=\"dataframe\">\n",
       "  <thead>\n",
       "    <tr style=\"text-align: right;\">\n",
       "      <th></th>\n",
       "      <th>mid</th>\n",
       "      <th>q1</th>\n",
       "    </tr>\n",
       "  </thead>\n",
       "  <tbody>\n",
       "    <tr>\n",
       "      <th>0</th>\n",
       "      <td>75</td>\n",
       "      <td>73</td>\n",
       "    </tr>\n",
       "    <tr>\n",
       "      <th>1</th>\n",
       "      <td>93</td>\n",
       "      <td>93</td>\n",
       "    </tr>\n",
       "    <tr>\n",
       "      <th>2</th>\n",
       "      <td>90</td>\n",
       "      <td>89</td>\n",
       "    </tr>\n",
       "    <tr>\n",
       "      <th>3</th>\n",
       "      <td>100</td>\n",
       "      <td>96</td>\n",
       "    </tr>\n",
       "    <tr>\n",
       "      <th>4</th>\n",
       "      <td>70</td>\n",
       "      <td>73</td>\n",
       "    </tr>\n",
       "  </tbody>\n",
       "</table>\n",
       "</div>"
      ],
      "text/plain": [
       "   mid  q1\n",
       "0   75  73\n",
       "1   93  93\n",
       "2   90  89\n",
       "3  100  96\n",
       "4   70  73"
      ]
     },
     "execution_count": 110,
     "metadata": {},
     "output_type": "execute_result"
    }
   ],
   "source": [
    "df[ ['mid', 'q1'] ].head()"
   ]
  },
  {
   "cell_type": "code",
   "execution_count": 109,
   "metadata": {},
   "outputs": [
    {
     "data": {
      "text/html": [
       "<div>\n",
       "<style scoped>\n",
       "    .dataframe tbody tr th:only-of-type {\n",
       "        vertical-align: middle;\n",
       "    }\n",
       "\n",
       "    .dataframe tbody tr th {\n",
       "        vertical-align: top;\n",
       "    }\n",
       "\n",
       "    .dataframe thead th {\n",
       "        text-align: right;\n",
       "    }\n",
       "</style>\n",
       "<table border=\"1\" class=\"dataframe\">\n",
       "  <thead>\n",
       "    <tr style=\"text-align: right;\">\n",
       "      <th></th>\n",
       "      <th>mid</th>\n",
       "      <th>q1</th>\n",
       "      <th>q2</th>\n",
       "    </tr>\n",
       "  </thead>\n",
       "  <tbody>\n",
       "    <tr>\n",
       "      <th>0</th>\n",
       "      <td>75</td>\n",
       "      <td>73</td>\n",
       "      <td>80</td>\n",
       "    </tr>\n",
       "    <tr>\n",
       "      <th>1</th>\n",
       "      <td>93</td>\n",
       "      <td>93</td>\n",
       "      <td>88</td>\n",
       "    </tr>\n",
       "    <tr>\n",
       "      <th>2</th>\n",
       "      <td>90</td>\n",
       "      <td>89</td>\n",
       "      <td>91</td>\n",
       "    </tr>\n",
       "    <tr>\n",
       "      <th>3</th>\n",
       "      <td>100</td>\n",
       "      <td>96</td>\n",
       "      <td>98</td>\n",
       "    </tr>\n",
       "    <tr>\n",
       "      <th>4</th>\n",
       "      <td>70</td>\n",
       "      <td>73</td>\n",
       "      <td>66</td>\n",
       "    </tr>\n",
       "  </tbody>\n",
       "</table>\n",
       "</div>"
      ],
      "text/plain": [
       "   mid  q1  q2\n",
       "0   75  73  80\n",
       "1   93  93  88\n",
       "2   90  89  91\n",
       "3  100  96  98\n",
       "4   70  73  66"
      ]
     },
     "execution_count": 109,
     "metadata": {},
     "output_type": "execute_result"
    }
   ],
   "source": [
    "df[ df.columns.difference(['final']) ].head()"
   ]
  },
  {
   "cell_type": "code",
   "execution_count": 6,
   "metadata": {},
   "outputs": [],
   "source": [
    "y_data = df.iloc[:, -1]"
   ]
  },
  {
   "cell_type": "code",
   "execution_count": 7,
   "metadata": {},
   "outputs": [
    {
     "data": {
      "text/plain": [
       "LinearRegression(copy_X=True, fit_intercept=True, n_jobs=None, normalize=False)"
      ]
     },
     "execution_count": 7,
     "metadata": {},
     "output_type": "execute_result"
    }
   ],
   "source": [
    "model = LinearRegression()\n",
    "model.fit( x_data, y_data )"
   ]
  },
  {
   "cell_type": "code",
   "execution_count": 8,
   "metadata": {},
   "outputs": [
    {
     "data": {
      "text/plain": [
       "array([0.35593822, 0.54251876, 1.16744422])"
      ]
     },
     "execution_count": 8,
     "metadata": {},
     "output_type": "execute_result"
    }
   ],
   "source": [
    "model.coef_"
   ]
  },
  {
   "cell_type": "code",
   "execution_count": 9,
   "metadata": {},
   "outputs": [
    {
     "data": {
      "text/plain": [
       "-4.3361024012403675"
      ]
     },
     "execution_count": 9,
     "metadata": {},
     "output_type": "execute_result"
    }
   ],
   "source": [
    "model.intercept_"
   ]
  },
  {
   "cell_type": "markdown",
   "metadata": {},
   "source": [
    "#### q1:70점, q2:75점 mid:75점인 경우 예측값을 구하시오."
   ]
  },
  {
   "cell_type": "code",
   "execution_count": 10,
   "metadata": {},
   "outputs": [
    {
     "data": {
      "text/plain": [
       "148.8267959476565"
      ]
     },
     "execution_count": 10,
     "metadata": {},
     "output_type": "execute_result"
    }
   ],
   "source": [
    "model.coef_[0]*70 + model.coef_[1]*75 +model.coef_[2]*75 + model.intercept_"
   ]
  },
  {
   "cell_type": "code",
   "execution_count": 11,
   "metadata": {},
   "outputs": [
    {
     "data": {
      "text/plain": [
       "array([[148.82679595]])"
      ]
     },
     "execution_count": 11,
     "metadata": {},
     "output_type": "execute_result"
    }
   ],
   "source": [
    "np.matmul( [ [70,75,75] ], model.coef_.reshape(-1, 1) ) + model.intercept_"
   ]
  },
  {
   "cell_type": "markdown",
   "metadata": {},
   "source": [
    "#### < Reference > \n",
    ": **reshape()** 의 '-1'이 의미하는 바는, 변경된 배열의 '-1' 위치의 차원은 \"원래 배열의 길이와 남은 차원으로 부터 추정\"이 된다는 뜻입니다. (One shape dimension can be -1. In this case, the value is inferred from the length of the array and remaining dimensions.)\n"
   ]
  },
  {
   "cell_type": "code",
   "execution_count": 12,
   "metadata": {},
   "outputs": [
    {
     "data": {
      "text/plain": [
       "array([148.82679595])"
      ]
     },
     "execution_count": 12,
     "metadata": {},
     "output_type": "execute_result"
    }
   ],
   "source": [
    "model.predict( [[70, 75, 75]] )"
   ]
  },
  {
   "cell_type": "markdown",
   "metadata": {},
   "source": [
    "#### q1:60점 q2:55점 mid:65점, q1:90점 q2:85점 mid:95점 인 경우 예측값을 구하시오."
   ]
  },
  {
   "cell_type": "code",
   "execution_count": 13,
   "metadata": {},
   "outputs": [
    {
     "data": {
      "text/plain": [
       "array([122.74259645, 184.71963222])"
      ]
     },
     "execution_count": 13,
     "metadata": {},
     "output_type": "execute_result"
    }
   ],
   "source": [
    "model.predict( [[60, 55, 65], [90, 85, 95]] )"
   ]
  },
  {
   "cell_type": "code",
   "execution_count": 14,
   "metadata": {},
   "outputs": [
    {
     "data": {
      "text/plain": [
       "array([122.74259645, 184.71963222])"
      ]
     },
     "execution_count": 14,
     "metadata": {},
     "output_type": "execute_result"
    }
   ],
   "source": [
    "_ = np.array( [60,55,65,90,85,95] ).reshape(2, -1)\n",
    "_ = pd.DataFrame(_)\n",
    "model.predict(_)"
   ]
  },
  {
   "cell_type": "markdown",
   "metadata": {},
   "source": [
    "#### 결정 계수( $ \\text{R}^2 $  : Coefficient of determination )"
   ]
  },
  {
   "cell_type": "code",
   "execution_count": 15,
   "metadata": {},
   "outputs": [
    {
     "data": {
      "text/plain": [
       "0.98966157894484"
      ]
     },
     "execution_count": 15,
     "metadata": {},
     "output_type": "execute_result"
    }
   ],
   "source": [
    "model.score( x_data, y_data )"
   ]
  },
  {
   "cell_type": "code",
   "execution_count": 16,
   "metadata": {},
   "outputs": [
    {
     "data": {
      "image/png": "[encoded data removed]",
      "text/plain": [
       "<Figure size 504x360 with 1 Axes>"
      ]
     },
     "metadata": {
      "needs_background": "light"
     },
     "output_type": "display_data"
    }
   ],
   "source": [
    "plt.figure( figsize=(7,5))\n",
    "plt.xlabel('x');plt.ylabel('y')\n",
    "plt.plot( model.predict(x_data), color='m' )\n",
    "plt.plot( y_data, 'b--' )\n",
    "plt.show()"
   ]
  },
  {
   "cell_type": "markdown",
   "metadata": {},
   "source": [
    "#### Ex2. Boston dataset"
   ]
  },
  {
   "cell_type": "code",
   "execution_count": 17,
   "metadata": {
    "scrolled": true
   },
   "outputs": [
    {
     "data": {
      "text/plain": [
       "dict_keys(['data', 'target', 'feature_names', 'DESCR', 'filename'])"
      ]
     },
     "execution_count": 17,
     "metadata": {},
     "output_type": "execute_result"
    }
   ],
   "source": [
    "boston = load_boston()\n",
    "boston.keys()"
   ]
  },
  {
   "cell_type": "code",
   "execution_count": 21,
   "metadata": {},
   "outputs": [
    {
     "data": {
      "text/html": [
       "<div>\n",
       "<style scoped>\n",
       "    .dataframe tbody tr th:only-of-type {\n",
       "        vertical-align: middle;\n",
       "    }\n",
       "\n",
       "    .dataframe tbody tr th {\n",
       "        vertical-align: top;\n",
       "    }\n",
       "\n",
       "    .dataframe thead th {\n",
       "        text-align: right;\n",
       "    }\n",
       "</style>\n",
       "<table border=\"1\" class=\"dataframe\">\n",
       "  <thead>\n",
       "    <tr style=\"text-align: right;\">\n",
       "      <th></th>\n",
       "      <th>CRIM</th>\n",
       "      <th>ZN</th>\n",
       "      <th>INDUS</th>\n",
       "      <th>CHAS</th>\n",
       "      <th>NOX</th>\n",
       "      <th>RM</th>\n",
       "      <th>AGE</th>\n",
       "      <th>DIS</th>\n",
       "      <th>RAD</th>\n",
       "      <th>TAX</th>\n",
       "      <th>PTRATIO</th>\n",
       "      <th>B</th>\n",
       "      <th>LSTAT</th>\n",
       "      <th>MEDV</th>\n",
       "    </tr>\n",
       "  </thead>\n",
       "  <tbody>\n",
       "    <tr>\n",
       "      <th>0</th>\n",
       "      <td>0.00632</td>\n",
       "      <td>18.0</td>\n",
       "      <td>2.31</td>\n",
       "      <td>0.0</td>\n",
       "      <td>0.538</td>\n",
       "      <td>6.575</td>\n",
       "      <td>65.2</td>\n",
       "      <td>4.0900</td>\n",
       "      <td>1.0</td>\n",
       "      <td>296.0</td>\n",
       "      <td>15.3</td>\n",
       "      <td>396.90</td>\n",
       "      <td>4.98</td>\n",
       "      <td>24.0</td>\n",
       "    </tr>\n",
       "    <tr>\n",
       "      <th>1</th>\n",
       "      <td>0.02731</td>\n",
       "      <td>0.0</td>\n",
       "      <td>7.07</td>\n",
       "      <td>0.0</td>\n",
       "      <td>0.469</td>\n",
       "      <td>6.421</td>\n",
       "      <td>78.9</td>\n",
       "      <td>4.9671</td>\n",
       "      <td>2.0</td>\n",
       "      <td>242.0</td>\n",
       "      <td>17.8</td>\n",
       "      <td>396.90</td>\n",
       "      <td>9.14</td>\n",
       "      <td>21.6</td>\n",
       "    </tr>\n",
       "    <tr>\n",
       "      <th>2</th>\n",
       "      <td>0.02729</td>\n",
       "      <td>0.0</td>\n",
       "      <td>7.07</td>\n",
       "      <td>0.0</td>\n",
       "      <td>0.469</td>\n",
       "      <td>7.185</td>\n",
       "      <td>61.1</td>\n",
       "      <td>4.9671</td>\n",
       "      <td>2.0</td>\n",
       "      <td>242.0</td>\n",
       "      <td>17.8</td>\n",
       "      <td>392.83</td>\n",
       "      <td>4.03</td>\n",
       "      <td>34.7</td>\n",
       "    </tr>\n",
       "    <tr>\n",
       "      <th>3</th>\n",
       "      <td>0.03237</td>\n",
       "      <td>0.0</td>\n",
       "      <td>2.18</td>\n",
       "      <td>0.0</td>\n",
       "      <td>0.458</td>\n",
       "      <td>6.998</td>\n",
       "      <td>45.8</td>\n",
       "      <td>6.0622</td>\n",
       "      <td>3.0</td>\n",
       "      <td>222.0</td>\n",
       "      <td>18.7</td>\n",
       "      <td>394.63</td>\n",
       "      <td>2.94</td>\n",
       "      <td>33.4</td>\n",
       "    </tr>\n",
       "    <tr>\n",
       "      <th>4</th>\n",
       "      <td>0.06905</td>\n",
       "      <td>0.0</td>\n",
       "      <td>2.18</td>\n",
       "      <td>0.0</td>\n",
       "      <td>0.458</td>\n",
       "      <td>7.147</td>\n",
       "      <td>54.2</td>\n",
       "      <td>6.0622</td>\n",
       "      <td>3.0</td>\n",
       "      <td>222.0</td>\n",
       "      <td>18.7</td>\n",
       "      <td>396.90</td>\n",
       "      <td>5.33</td>\n",
       "      <td>36.2</td>\n",
       "    </tr>\n",
       "  </tbody>\n",
       "</table>\n",
       "</div>"
      ],
      "text/plain": [
       "      CRIM    ZN  INDUS  CHAS    NOX     RM   AGE     DIS  RAD    TAX  \\\n",
       "0  0.00632  18.0   2.31   0.0  0.538  6.575  65.2  4.0900  1.0  296.0   \n",
       "1  0.02731   0.0   7.07   0.0  0.469  6.421  78.9  4.9671  2.0  242.0   \n",
       "2  0.02729   0.0   7.07   0.0  0.469  7.185  61.1  4.9671  2.0  242.0   \n",
       "3  0.03237   0.0   2.18   0.0  0.458  6.998  45.8  6.0622  3.0  222.0   \n",
       "4  0.06905   0.0   2.18   0.0  0.458  7.147  54.2  6.0622  3.0  222.0   \n",
       "\n",
       "   PTRATIO       B  LSTAT  MEDV  \n",
       "0     15.3  396.90   4.98  24.0  \n",
       "1     17.8  396.90   9.14  21.6  \n",
       "2     17.8  392.83   4.03  34.7  \n",
       "3     18.7  394.63   2.94  33.4  \n",
       "4     18.7  396.90   5.33  36.2  "
      ]
     },
     "execution_count": 21,
     "metadata": {},
     "output_type": "execute_result"
    }
   ],
   "source": [
    "boston_df = pd.DataFrame(boston.data, columns=boston.feature_names)\n",
    "boston_df['MEDV'] = boston.target\n",
    "boston_df.head()"
   ]
  },
  {
   "cell_type": "code",
   "execution_count": 22,
   "metadata": {},
   "outputs": [
    {
     "data": {
      "text/plain": [
       "(14, 506)"
      ]
     },
     "execution_count": 22,
     "metadata": {},
     "output_type": "execute_result"
    }
   ],
   "source": [
    "len( boston_df.columns ), len( boston_df )"
   ]
  },
  {
   "cell_type": "code",
   "execution_count": 23,
   "metadata": {},
   "outputs": [],
   "source": [
    "x_data = boston_df.iloc[:,:-1]\n",
    "y_data = boston_df.iloc[:, -1]"
   ]
  },
  {
   "cell_type": "code",
   "execution_count": 24,
   "metadata": {},
   "outputs": [
    {
     "name": "stdout",
     "output_type": "stream",
     "text": [
      "x_train shape: (404, 13) \n",
      "x_test shape:  (102, 13) \n",
      "y_train shape: (404, 13) \n",
      "y_test shape:  (102, 13) \n"
     ]
    }
   ],
   "source": [
    "x_train, x_test, y_train, y_test = train_test_split( x_data, y_data, test_size=0.2, random_state=1 )\n",
    "print(f'x_train shape: { x_train.shape } ')\n",
    "print(f'x_test shape:  { x_test.shape } ' )\n",
    "print(f'y_train shape: { x_train.shape } ')\n",
    "print(f'y_test shape:  { x_test.shape } ' )"
   ]
  },
  {
   "cell_type": "code",
   "execution_count": 25,
   "metadata": {},
   "outputs": [
    {
     "data": {
      "text/plain": [
       "LinearRegression(copy_X=True, fit_intercept=True, n_jobs=None, normalize=False)"
      ]
     },
     "execution_count": 25,
     "metadata": {},
     "output_type": "execute_result"
    }
   ],
   "source": [
    "modelBoston = LinearRegression()\n",
    "modelBoston.fit( x_train, y_train )"
   ]
  },
  {
   "cell_type": "markdown",
   "metadata": {},
   "source": [
    "#### train data 보다 test data가 현저히 적으면 과대적합"
   ]
  },
  {
   "cell_type": "code",
   "execution_count": 26,
   "metadata": {},
   "outputs": [
    {
     "name": "stdout",
     "output_type": "stream",
     "text": [
      "훈련 데이터 R2 : 0.7293585058196337\n",
      "테스트 데이터 R2 : 0.7634174432138463\n"
     ]
    }
   ],
   "source": [
    "print(f'훈련 데이터 R2 : { modelBoston.score( x_train, y_train ) }' )\n",
    "print(f'테스트 데이터 R2 : { modelBoston.score( x_test, y_test ) }' )"
   ]
  },
  {
   "cell_type": "code",
   "execution_count": 27,
   "metadata": {},
   "outputs": [
    {
     "data": {
      "text/plain": [
       "CRIM         0.04932\n",
       "ZN          33.00000\n",
       "INDUS        2.18000\n",
       "CHAS         0.00000\n",
       "NOX          0.47200\n",
       "RM           6.84900\n",
       "AGE         70.30000\n",
       "DIS          3.18270\n",
       "RAD          7.00000\n",
       "TAX        222.00000\n",
       "PTRATIO     18.40000\n",
       "B          396.90000\n",
       "LSTAT        7.53000\n",
       "Name: 307, dtype: float64"
      ]
     },
     "execution_count": 27,
     "metadata": {},
     "output_type": "execute_result"
    }
   ],
   "source": [
    "x_test.iloc[0]"
   ]
  },
  {
   "cell_type": "code",
   "execution_count": 28,
   "metadata": {},
   "outputs": [
    {
     "data": {
      "text/plain": [
       "28.2"
      ]
     },
     "execution_count": 28,
     "metadata": {},
     "output_type": "execute_result"
    }
   ],
   "source": [
    "y_test.iloc[0]"
   ]
  },
  {
   "cell_type": "code",
   "execution_count": 29,
   "metadata": {},
   "outputs": [
    {
     "data": {
      "text/plain": [
       "array([32.65503184])"
      ]
     },
     "execution_count": 29,
     "metadata": {},
     "output_type": "execute_result"
    }
   ],
   "source": [
    "modelBoston.predict( [x_test.iloc[0]] )"
   ]
  },
  {
   "cell_type": "markdown",
   "metadata": {},
   "source": [
    "#### 학습에 의한 방법과 딥러닝을 통한 방법을 통해 Train set, Test set   $\\; \\text{R}^2 $  값을 구하시오."
   ]
  },
  {
   "cell_type": "markdown",
   "metadata": {},
   "source": [
    "#### 학습(Learning)을 통한 다중회귀"
   ]
  },
  {
   "cell_type": "code",
   "execution_count": 30,
   "metadata": {},
   "outputs": [
    {
     "name": "stdout",
     "output_type": "stream",
     "text": [
      "-- Epoch 1\n",
      "Norm: 1531235745220.27, NNZs: 13, Bias: 10039635410.707159, T: 363, Avg. loss: 176931105649824262448035659776.000000\n",
      "Total training time: 0.00 seconds.\n",
      "-- Epoch 2\n",
      "Norm: 1979498291784.63, NNZs: 13, Bias: 7129866596.597542, T: 726, Avg. loss: 81601683810161759613936992256.000000\n",
      "Total training time: 0.00 seconds.\n",
      "-- Epoch 3\n",
      "Norm: 1571565207367.66, NNZs: 13, Bias: 9167311983.021114, T: 1089, Avg. loss: 67084537909859336631789551616.000000\n",
      "Total training time: 0.00 seconds.\n",
      "-- Epoch 4\n",
      "Norm: 2138380669422.73, NNZs: 13, Bias: 10849388293.805216, T: 1452, Avg. loss: 51449809874938516120392433664.000000\n",
      "Total training time: 0.00 seconds.\n",
      "-- Epoch 5\n",
      "Norm: 1322224248733.93, NNZs: 13, Bias: 20070516806.366158, T: 1815, Avg. loss: 48355819014052707511629250560.000000\n",
      "Total training time: 0.00 seconds.\n",
      "-- Epoch 6\n",
      "Norm: 1099100130829.04, NNZs: 13, Bias: 19016762085.631607, T: 2178, Avg. loss: 42714575560942253778334121984.000000\n",
      "Total training time: 0.00 seconds.\n",
      "-- Epoch 7\n",
      "Norm: 1151564444315.90, NNZs: 13, Bias: 14720313743.939457, T: 2541, Avg. loss: 38015351671709050692605837312.000000\n",
      "Total training time: 0.01 seconds.\n",
      "-- Epoch 8\n",
      "Norm: 1235161381726.45, NNZs: 13, Bias: 16164441880.539923, T: 2904, Avg. loss: 35468890455829838858152837120.000000\n",
      "Total training time: 0.01 seconds.\n",
      "-- Epoch 9\n",
      "Norm: 1366074132681.17, NNZs: 13, Bias: 17397150676.387329, T: 3267, Avg. loss: 33500345115841409701700960256.000000\n",
      "Total training time: 0.01 seconds.\n",
      "-- Epoch 10\n",
      "Norm: 1314669702397.13, NNZs: 13, Bias: 18701709802.440701, T: 3630, Avg. loss: 32339795619839498940659531776.000000\n",
      "Total training time: 0.01 seconds.\n",
      "Convergence after 10 epochs took 0.01 seconds\n"
     ]
    },
    {
     "data": {
      "text/plain": [
       "SGDRegressor(alpha=0.0001, average=False, early_stopping=True, epsilon=0.1,\n",
       "             eta0=0.01, fit_intercept=True, l1_ratio=0.15,\n",
       "             learning_rate='invscaling', loss='squared_loss', max_iter=100,\n",
       "             n_iter_no_change=5, penalty='l2', power_t=0.25, random_state=None,\n",
       "             shuffle=True, tol=0.001, validation_fraction=0.1, verbose=1,\n",
       "             warm_start=False)"
      ]
     },
     "execution_count": 30,
     "metadata": {},
     "output_type": "execute_result"
    }
   ],
   "source": [
    "modelSGD = SGDRegressor( max_iter = 100, alpha=0.0001, early_stopping=True, verbose=1 )\n",
    "modelSGD.fit( x_train, y_train  )"
   ]
  },
  {
   "cell_type": "code",
   "execution_count": 31,
   "metadata": {},
   "outputs": [
    {
     "name": "stdout",
     "output_type": "stream",
     "text": [
      "훈련 데이터 R2 : -6.20207714221284e+26\n",
      "테스트 데이터 R2 : -5.27167975288049e+26\n"
     ]
    }
   ],
   "source": [
    "print(f'훈련 데이터 R2 : { modelSGD.score( x_train , y_train ) }' )\n",
    "print(f'테스트 데이터 R2 : { modelSGD.score( x_test , y_test ) }' )"
   ]
  },
  {
   "cell_type": "markdown",
   "metadata": {},
   "source": [
    "#### 정규화(Normalization), 다중공선성(Multicollinearity) 확인이 필요해 보임."
   ]
  },
  {
   "cell_type": "markdown",
   "metadata": {},
   "source": [
    "#### 정규화 후 새로 적합"
   ]
  },
  {
   "cell_type": "code",
   "execution_count": 99,
   "metadata": {},
   "outputs": [
    {
     "data": {
      "text/plain": [
       "array([[-0.41978194,  0.28482986, -1.2879095 , ..., -1.45900038,\n",
       "         0.44105193, -1.0755623 ],\n",
       "       [-0.41733926, -0.48772236, -0.59338101, ..., -0.30309415,\n",
       "         0.44105193, -0.49243937],\n",
       "       [-0.41734159, -0.48772236, -0.59338101, ..., -0.30309415,\n",
       "         0.39642699, -1.2087274 ],\n",
       "       ...,\n",
       "       [-0.41344658, -0.48772236,  0.11573841, ...,  1.17646583,\n",
       "         0.44105193, -0.98304761],\n",
       "       [-0.40776407, -0.48772236,  0.11573841, ...,  1.17646583,\n",
       "         0.4032249 , -0.86530163],\n",
       "       [-0.41500016, -0.48772236,  0.11573841, ...,  1.17646583,\n",
       "         0.44105193, -0.66905833]])"
      ]
     },
     "execution_count": 99,
     "metadata": {},
     "output_type": "execute_result"
    }
   ],
   "source": [
    "scaleX  = StandardScaler()\n",
    "x_dataS = scaleX.fit_transform( x_data )\n",
    "x_dataS"
   ]
  },
  {
   "cell_type": "code",
   "execution_count": 33,
   "metadata": {},
   "outputs": [],
   "source": [
    "x_trainS, x_testS, y_trainS, y_testS = train_test_split( x_dataS, y_data, test_size=0.2,random_state=1 )"
   ]
  },
  {
   "cell_type": "code",
   "execution_count": 34,
   "metadata": {},
   "outputs": [
    {
     "data": {
      "text/plain": [
       "SGDRegressor(alpha=0.0001, average=False, early_stopping=True, epsilon=0.1,\n",
       "             eta0=0.01, fit_intercept=True, l1_ratio=0.15,\n",
       "             learning_rate='invscaling', loss='squared_loss', max_iter=100,\n",
       "             n_iter_no_change=5, penalty='l2', power_t=0.25, random_state=None,\n",
       "             shuffle=True, tol=0.001, validation_fraction=0.1, verbose=0,\n",
       "             warm_start=False)"
      ]
     },
     "execution_count": 34,
     "metadata": {},
     "output_type": "execute_result"
    }
   ],
   "source": [
    "modelSGDs = SGDRegressor( max_iter = 100, alpha=0.0001, early_stopping=True, verbose=0 )\n",
    "modelSGDs.fit( x_trainS, y_trainS  )"
   ]
  },
  {
   "cell_type": "code",
   "execution_count": 35,
   "metadata": {},
   "outputs": [
    {
     "name": "stdout",
     "output_type": "stream",
     "text": [
      "훈련 데이터 R2 : 0.7187349677948173\n",
      "테스트 데이터 R2 : 0.7766031751963205\n"
     ]
    }
   ],
   "source": [
    "print(f'훈련 데이터 R2 : { modelSGDs.score( x_trainS , y_trainS ) }' )\n",
    "print(f'테스트 데이터 R2 : { modelSGDs.score( x_testS , y_testS ) }' )"
   ]
  },
  {
   "cell_type": "code",
   "execution_count": 36,
   "metadata": {},
   "outputs": [
    {
     "data": {
      "text/plain": [
       "array([31.19181943])"
      ]
     },
     "execution_count": 36,
     "metadata": {},
     "output_type": "execute_result"
    }
   ],
   "source": [
    "modelSGDs.predict( [ x_testS[0] ] )"
   ]
  },
  {
   "cell_type": "markdown",
   "metadata": {},
   "source": [
    "#### 딥러닝(Deep learning)을 이용한 다중회귀"
   ]
  },
  {
   "cell_type": "code",
   "execution_count": 37,
   "metadata": {
    "scrolled": true
   },
   "outputs": [
    {
     "name": "stdout",
     "output_type": "stream",
     "text": [
      "Iteration 1, loss = 265.72601715\n",
      "Iteration 2, loss = 164.56555148\n",
      "Iteration 3, loss = 88.78335494\n",
      "Iteration 4, loss = 55.27085521\n",
      "Iteration 5, loss = 44.84167992\n",
      "Iteration 6, loss = 44.85285696\n",
      "Iteration 7, loss = 43.79575978\n",
      "Iteration 8, loss = 40.74545043\n",
      "Iteration 9, loss = 38.29900403\n",
      "Iteration 10, loss = 37.02926821\n",
      "Iteration 11, loss = 36.19145267\n",
      "Iteration 12, loss = 35.55110007\n",
      "Iteration 13, loss = 35.35094697\n",
      "Iteration 14, loss = 34.71110666\n",
      "Iteration 15, loss = 33.83331289\n",
      "Iteration 16, loss = 33.09711547\n",
      "Iteration 17, loss = 32.62847777\n",
      "Iteration 18, loss = 32.34288589\n",
      "Iteration 19, loss = 32.08511714\n",
      "Iteration 20, loss = 31.73628859\n",
      "Iteration 21, loss = 31.44127175\n",
      "Iteration 22, loss = 31.25752584\n",
      "Iteration 23, loss = 31.06522851\n",
      "Iteration 24, loss = 30.94663506\n",
      "Iteration 25, loss = 30.70403055\n",
      "Iteration 26, loss = 30.31018819\n",
      "Iteration 27, loss = 30.20727540\n",
      "Iteration 28, loss = 30.11491286\n",
      "Iteration 29, loss = 29.98834835\n",
      "Iteration 30, loss = 29.82560207\n",
      "Iteration 31, loss = 29.66707638\n",
      "Iteration 32, loss = 29.58957083\n",
      "Iteration 33, loss = 29.52597986\n",
      "Iteration 34, loss = 29.38021509\n",
      "Iteration 35, loss = 29.26487922\n",
      "Iteration 36, loss = 29.25022000\n",
      "Iteration 37, loss = 29.20289269\n",
      "Iteration 38, loss = 28.94000945\n",
      "Iteration 39, loss = 28.62015809\n",
      "Iteration 40, loss = 28.52951086\n",
      "Iteration 41, loss = 28.62762173\n",
      "Iteration 42, loss = 28.37582056\n",
      "Iteration 43, loss = 28.26067456\n",
      "Iteration 44, loss = 28.23578399\n",
      "Iteration 45, loss = 28.14790596\n",
      "Iteration 46, loss = 27.92439130\n",
      "Iteration 47, loss = 27.81310602\n",
      "Iteration 48, loss = 27.96335191\n",
      "Iteration 49, loss = 28.00356657\n",
      "Iteration 50, loss = 27.72848715\n",
      "Iteration 51, loss = 27.59566234\n",
      "Iteration 52, loss = 27.56709086\n",
      "Iteration 53, loss = 27.71881510\n",
      "Iteration 54, loss = 27.65034530\n",
      "Iteration 55, loss = 27.56291921\n",
      "Iteration 56, loss = 27.35106746\n",
      "Iteration 57, loss = 27.45339601\n",
      "Iteration 58, loss = 28.15816619\n",
      "Iteration 59, loss = 27.82377492\n",
      "Iteration 60, loss = 26.95391977\n",
      "Iteration 61, loss = 27.16092858\n",
      "Iteration 62, loss = 27.33488611\n",
      "Iteration 63, loss = 27.53651981\n",
      "Iteration 64, loss = 27.85062699\n",
      "Iteration 65, loss = 26.93977294\n",
      "Iteration 66, loss = 27.08578838\n",
      "Iteration 67, loss = 27.54821220\n",
      "Iteration 68, loss = 27.83550133\n",
      "Iteration 69, loss = 26.64833170\n",
      "Iteration 70, loss = 26.81542712\n",
      "Iteration 71, loss = 27.51645422\n",
      "Iteration 72, loss = 26.74561767\n",
      "Iteration 73, loss = 26.36816914\n",
      "Iteration 74, loss = 27.26345285\n",
      "Iteration 75, loss = 28.26280924\n",
      "Iteration 76, loss = 26.94376892\n",
      "Iteration 77, loss = 26.10796541\n",
      "Iteration 78, loss = 26.57960033\n",
      "Iteration 79, loss = 27.74058083\n",
      "Iteration 80, loss = 28.50764062\n",
      "Iteration 81, loss = 26.64119001\n",
      "Iteration 82, loss = 26.06972750\n",
      "Iteration 83, loss = 27.80948009\n",
      "Iteration 84, loss = 27.04804148\n",
      "Iteration 85, loss = 25.71934533\n",
      "Iteration 86, loss = 25.23840465\n",
      "Iteration 87, loss = 26.24258450\n",
      "Iteration 88, loss = 26.08903983\n",
      "Iteration 89, loss = 25.37292177\n",
      "Iteration 90, loss = 25.29968124\n",
      "Iteration 91, loss = 25.23833571\n",
      "Iteration 92, loss = 25.11042358\n",
      "Iteration 93, loss = 25.16998709\n",
      "Iteration 94, loss = 24.98948005\n",
      "Iteration 95, loss = 24.97594298\n",
      "Iteration 96, loss = 24.96986354\n",
      "Iteration 97, loss = 24.84909266\n",
      "Iteration 98, loss = 24.66314871\n",
      "Iteration 99, loss = 25.17537058\n",
      "Iteration 100, loss = 25.93022647\n",
      "Iteration 101, loss = 26.79030814\n",
      "Iteration 102, loss = 26.43627212\n",
      "Iteration 103, loss = 25.10553974\n",
      "Iteration 104, loss = 24.41383399\n",
      "Iteration 105, loss = 24.48586168\n",
      "Iteration 106, loss = 24.55875706\n",
      "Iteration 107, loss = 24.25870359\n",
      "Iteration 108, loss = 24.93376380\n",
      "Iteration 109, loss = 26.69583087\n",
      "Iteration 110, loss = 25.80311850\n",
      "Iteration 111, loss = 24.09743051\n",
      "Iteration 112, loss = 24.61017353\n",
      "Iteration 113, loss = 25.21633104\n",
      "Iteration 114, loss = 24.34549411\n",
      "Iteration 115, loss = 23.85582528\n",
      "Iteration 116, loss = 25.07435381\n",
      "Iteration 117, loss = 25.58884327\n",
      "Iteration 118, loss = 24.68675038\n",
      "Iteration 119, loss = 23.80227064\n",
      "Iteration 120, loss = 23.49441151\n",
      "Iteration 121, loss = 23.58937663\n",
      "Iteration 122, loss = 23.50148906\n",
      "Iteration 123, loss = 23.37547428\n",
      "Iteration 124, loss = 23.68942672\n",
      "Iteration 125, loss = 25.00263205\n",
      "Iteration 126, loss = 24.45249674\n",
      "Iteration 127, loss = 23.57300435\n",
      "Iteration 128, loss = 25.56914502\n",
      "Iteration 129, loss = 24.61857887\n",
      "Iteration 130, loss = 22.93835139\n",
      "Iteration 131, loss = 24.61957732\n",
      "Iteration 132, loss = 25.47562141\n",
      "Iteration 133, loss = 25.02275486\n",
      "Iteration 134, loss = 23.54691870\n",
      "Iteration 135, loss = 22.76395638\n",
      "Iteration 136, loss = 22.85964158\n",
      "Iteration 137, loss = 22.81090243\n",
      "Iteration 138, loss = 22.70442249\n",
      "Iteration 139, loss = 22.49538378\n",
      "Iteration 140, loss = 22.60934828\n",
      "Iteration 141, loss = 23.33355409\n",
      "Iteration 142, loss = 23.64957632\n",
      "Iteration 143, loss = 22.88876813\n",
      "Iteration 144, loss = 22.58653977\n",
      "Iteration 145, loss = 22.48856756\n",
      "Iteration 146, loss = 22.28176024\n",
      "Iteration 147, loss = 22.23269350\n",
      "Iteration 148, loss = 22.29260017\n",
      "Iteration 149, loss = 22.12743065\n",
      "Iteration 150, loss = 21.86082508\n",
      "Iteration 151, loss = 21.83006331\n",
      "Iteration 152, loss = 21.70995228\n",
      "Iteration 153, loss = 22.03485591\n",
      "Iteration 154, loss = 21.80172451\n",
      "Iteration 155, loss = 21.51118230\n",
      "Iteration 156, loss = 21.49438313\n",
      "Iteration 157, loss = 21.47152276\n",
      "Iteration 158, loss = 21.42708174\n",
      "Iteration 159, loss = 21.53727580\n",
      "Iteration 160, loss = 21.51476473\n",
      "Iteration 161, loss = 21.40598100\n",
      "Iteration 162, loss = 21.24876371\n",
      "Iteration 163, loss = 21.13124129\n",
      "Iteration 164, loss = 21.08245630\n",
      "Iteration 165, loss = 21.41476501\n",
      "Iteration 166, loss = 22.06891836\n",
      "Iteration 167, loss = 21.12750187\n",
      "Iteration 168, loss = 21.22098909\n",
      "Iteration 169, loss = 24.45824439\n",
      "Iteration 170, loss = 26.04483447\n",
      "Iteration 171, loss = 21.64063383\n",
      "Iteration 172, loss = 21.12910613\n",
      "Iteration 173, loss = 22.14162393\n",
      "Iteration 174, loss = 20.97299729\n",
      "Iteration 175, loss = 20.45034810\n",
      "Iteration 176, loss = 20.43917359\n",
      "Iteration 177, loss = 20.34038031\n",
      "Iteration 178, loss = 20.37474690\n",
      "Iteration 179, loss = 20.15538233\n",
      "Iteration 180, loss = 20.11612331\n",
      "Iteration 181, loss = 20.09218320\n",
      "Iteration 182, loss = 20.34489468\n",
      "Iteration 183, loss = 20.33318952\n",
      "Iteration 184, loss = 20.90174323\n",
      "Iteration 185, loss = 21.44170474\n",
      "Iteration 186, loss = 20.35407133\n",
      "Iteration 187, loss = 20.03779442\n",
      "Iteration 188, loss = 20.08899625\n",
      "Iteration 189, loss = 19.70648409\n",
      "Iteration 190, loss = 19.89378623\n",
      "Iteration 191, loss = 20.55944135\n",
      "Iteration 192, loss = 22.72089957\n",
      "Iteration 193, loss = 21.99896970\n",
      "Iteration 194, loss = 19.40805069\n",
      "Iteration 195, loss = 21.08627417\n",
      "Iteration 196, loss = 21.41609749\n",
      "Iteration 197, loss = 19.83752373\n",
      "Iteration 198, loss = 19.33915283\n",
      "Iteration 199, loss = 23.40074567\n",
      "Iteration 200, loss = 23.52332269\n",
      "Iteration 201, loss = 19.37887030\n",
      "Iteration 202, loss = 21.59348578\n",
      "Iteration 203, loss = 22.57978563\n",
      "Iteration 204, loss = 19.42358941\n",
      "Iteration 205, loss = 21.01872003\n",
      "Iteration 206, loss = 19.87369981\n",
      "Iteration 207, loss = 19.14954491\n",
      "Iteration 208, loss = 20.47073342\n",
      "Iteration 209, loss = 18.90853858\n",
      "Iteration 210, loss = 18.96041418\n",
      "Iteration 211, loss = 18.47801621\n",
      "Iteration 212, loss = 18.72491602\n",
      "Iteration 213, loss = 18.78710006\n",
      "Iteration 214, loss = 18.49124907\n",
      "Iteration 215, loss = 18.47687859\n",
      "Iteration 216, loss = 18.40134039\n",
      "Iteration 217, loss = 18.34830953\n",
      "Iteration 218, loss = 18.46423941\n",
      "Iteration 219, loss = 18.56543686\n",
      "Iteration 220, loss = 18.47808709\n",
      "Iteration 221, loss = 18.07833130\n",
      "Iteration 222, loss = 18.47451493\n",
      "Iteration 223, loss = 17.99995252\n",
      "Iteration 224, loss = 18.27590927\n",
      "Iteration 225, loss = 18.11349799\n",
      "Iteration 226, loss = 18.20883440\n",
      "Iteration 227, loss = 18.01118377\n",
      "Iteration 228, loss = 18.05313927\n",
      "Iteration 229, loss = 18.36495078\n",
      "Iteration 230, loss = 18.59957546\n",
      "Iteration 231, loss = 18.29318443\n",
      "Iteration 232, loss = 17.68974649\n",
      "Iteration 233, loss = 17.66066778\n",
      "Iteration 234, loss = 17.52780887\n",
      "Iteration 235, loss = 17.52323593\n",
      "Iteration 236, loss = 17.46726556\n",
      "Iteration 237, loss = 17.27365390\n",
      "Iteration 238, loss = 17.26665768\n",
      "Iteration 239, loss = 17.25001750\n",
      "Iteration 240, loss = 17.44681093\n",
      "Iteration 241, loss = 17.96779494\n",
      "Iteration 242, loss = 17.06592763\n",
      "Iteration 243, loss = 17.63384851\n",
      "Iteration 244, loss = 18.97699919\n",
      "Iteration 245, loss = 17.97055305\n",
      "Iteration 246, loss = 16.89920151\n",
      "Iteration 247, loss = 18.51312422\n"
     ]
    },
    {
     "name": "stdout",
     "output_type": "stream",
     "text": [
      "Iteration 248, loss = 16.92208433\n",
      "Iteration 249, loss = 18.82955224\n",
      "Iteration 250, loss = 19.37778500\n",
      "Iteration 251, loss = 17.29822601\n",
      "Iteration 252, loss = 16.89222136\n",
      "Iteration 253, loss = 19.87820786\n",
      "Iteration 254, loss = 18.43464510\n",
      "Iteration 255, loss = 17.71007187\n",
      "Iteration 256, loss = 21.11519542\n",
      "Iteration 257, loss = 18.15434567\n",
      "Iteration 258, loss = 16.75865647\n",
      "Iteration 259, loss = 16.57262038\n",
      "Iteration 260, loss = 16.71225399\n",
      "Iteration 261, loss = 17.05961707\n",
      "Iteration 262, loss = 16.74320034\n",
      "Iteration 263, loss = 16.43225391\n",
      "Iteration 264, loss = 16.87439981\n",
      "Iteration 265, loss = 16.95686750\n",
      "Iteration 266, loss = 16.59333547\n",
      "Iteration 267, loss = 16.20348044\n",
      "Iteration 268, loss = 16.83840449\n",
      "Iteration 269, loss = 16.40960583\n",
      "Iteration 270, loss = 16.37871136\n",
      "Iteration 271, loss = 17.43707356\n",
      "Iteration 272, loss = 17.25064555\n",
      "Iteration 273, loss = 16.33534701\n",
      "Iteration 274, loss = 15.63161310\n",
      "Iteration 275, loss = 15.62865065\n",
      "Iteration 276, loss = 15.49217328\n",
      "Iteration 277, loss = 15.44818076\n",
      "Iteration 278, loss = 15.59516611\n",
      "Iteration 279, loss = 15.83927921\n",
      "Iteration 280, loss = 15.40043984\n",
      "Iteration 281, loss = 15.38472667\n",
      "Iteration 282, loss = 15.41988374\n",
      "Iteration 283, loss = 15.55266126\n",
      "Iteration 284, loss = 16.61431155\n",
      "Iteration 285, loss = 15.89727928\n",
      "Iteration 286, loss = 15.95077757\n",
      "Iteration 287, loss = 15.68626604\n",
      "Iteration 288, loss = 16.65255524\n",
      "Iteration 289, loss = 18.13668117\n",
      "Iteration 290, loss = 15.52696374\n",
      "Iteration 291, loss = 21.19033088\n",
      "Iteration 292, loss = 17.10541604\n",
      "Training loss did not improve more than tol=0.000100 for 10 consecutive epochs. Stopping.\n"
     ]
    },
    {
     "data": {
      "text/plain": [
       "MLPRegressor(activation='relu', alpha=0.1, batch_size='auto', beta_1=0.9,\n",
       "             beta_2=0.999, early_stopping=False, epsilon=1e-08,\n",
       "             hidden_layer_sizes=(100, 10, 3), learning_rate='constant',\n",
       "             learning_rate_init=0.001, max_fun=15000, max_iter=5000,\n",
       "             momentum=0.9, n_iter_no_change=10, nesterovs_momentum=True,\n",
       "             power_t=0.5, random_state=None, shuffle=True, solver='adam',\n",
       "             tol=0.0001, validation_fraction=0.1, verbose=1, warm_start=False)"
      ]
     },
     "execution_count": 37,
     "metadata": {},
     "output_type": "execute_result"
    }
   ],
   "source": [
    "modelNN = MLPRegressor( max_iter=5000, alpha=0.1, verbose=1, hidden_layer_sizes=(100, 10, 3) )\n",
    "modelNN.fit(  x_train , y_train  )"
   ]
  },
  {
   "cell_type": "code",
   "execution_count": 38,
   "metadata": {
    "scrolled": true
   },
   "outputs": [
    {
     "name": "stdout",
     "output_type": "stream",
     "text": [
      "훈련 데이터 R2 : 0.6044596868386063\n",
      "테스트 데이터 R2 : 0.53909496832991\n"
     ]
    }
   ],
   "source": [
    "print(f'훈련 데이터 R2 : { modelNN.score( x_train , y_train ) }' )\n",
    "print(f'테스트 데이터 R2 : { modelNN.score( x_test , y_test ) }' )"
   ]
  },
  {
   "cell_type": "code",
   "execution_count": 39,
   "metadata": {},
   "outputs": [
    {
     "name": "stdout",
     "output_type": "stream",
     "text": [
      "Iteration 1, loss = 282.28568284\n",
      "Iteration 2, loss = 279.12417350\n",
      "Iteration 3, loss = 276.20129904\n",
      "Iteration 4, loss = 273.28010278\n",
      "Iteration 5, loss = 270.43806066\n",
      "Iteration 6, loss = 267.50062676\n",
      "Iteration 7, loss = 264.46751066\n",
      "Iteration 8, loss = 261.24099075\n",
      "Iteration 9, loss = 257.91118895\n",
      "Iteration 10, loss = 254.39212150\n",
      "Iteration 11, loss = 250.70371950\n",
      "Iteration 12, loss = 246.77355325\n",
      "Iteration 13, loss = 242.68510421\n",
      "Iteration 14, loss = 238.44327100\n",
      "Iteration 15, loss = 234.08278358\n",
      "Iteration 16, loss = 229.70647171\n",
      "Iteration 17, loss = 225.15298667\n",
      "Iteration 18, loss = 220.43622695\n",
      "Iteration 19, loss = 215.32437076\n",
      "Iteration 20, loss = 209.91830484\n",
      "Iteration 21, loss = 204.15444863\n",
      "Iteration 22, loss = 197.99947267\n",
      "Iteration 23, loss = 191.70843398\n",
      "Iteration 24, loss = 185.50803176\n",
      "Iteration 25, loss = 179.16838776\n",
      "Iteration 26, loss = 172.65837911\n",
      "Iteration 27, loss = 165.93933963\n",
      "Iteration 28, loss = 159.42347889\n",
      "Iteration 29, loss = 152.39553322\n",
      "Iteration 30, loss = 145.22181646\n",
      "Iteration 31, loss = 137.83101889\n",
      "Iteration 32, loss = 130.28849966\n",
      "Iteration 33, loss = 122.32971627\n",
      "Iteration 34, loss = 114.64694329\n",
      "Iteration 35, loss = 107.09140591\n",
      "Iteration 36, loss = 99.99414319\n",
      "Iteration 37, loss = 93.06360218\n",
      "Iteration 38, loss = 86.49201267\n",
      "Iteration 39, loss = 80.36375582\n",
      "Iteration 40, loss = 74.47270578\n",
      "Iteration 41, loss = 68.96668714\n",
      "Iteration 42, loss = 63.89326877\n",
      "Iteration 43, loss = 59.25521192\n",
      "Iteration 44, loss = 54.94361702\n",
      "Iteration 45, loss = 51.01968360\n",
      "Iteration 46, loss = 47.37604671\n",
      "Iteration 47, loss = 44.09051751\n",
      "Iteration 48, loss = 41.34493875\n",
      "Iteration 49, loss = 39.13879409\n",
      "Iteration 50, loss = 37.28280127\n",
      "Iteration 51, loss = 35.43744087\n",
      "Iteration 52, loss = 33.92105967\n",
      "Iteration 53, loss = 32.53433719\n",
      "Iteration 54, loss = 31.19884568\n",
      "Iteration 55, loss = 29.96210157\n",
      "Iteration 56, loss = 28.83704241\n",
      "Iteration 57, loss = 27.78955733\n",
      "Iteration 58, loss = 26.80324095\n",
      "Iteration 59, loss = 25.87209766\n",
      "Iteration 60, loss = 24.97211265\n",
      "Iteration 61, loss = 24.09805247\n",
      "Iteration 62, loss = 23.23443716\n",
      "Iteration 63, loss = 22.26221350\n",
      "Iteration 64, loss = 21.26724627\n",
      "Iteration 65, loss = 20.36573832\n",
      "Iteration 66, loss = 19.64089156\n",
      "Iteration 67, loss = 18.97100100\n",
      "Iteration 68, loss = 18.34232471\n",
      "Iteration 69, loss = 17.78103468\n",
      "Iteration 70, loss = 17.23905247\n",
      "Iteration 71, loss = 16.79673841\n",
      "Iteration 72, loss = 16.42759290\n",
      "Iteration 73, loss = 16.07791437\n",
      "Iteration 74, loss = 15.75107455\n",
      "Iteration 75, loss = 15.45164387\n",
      "Iteration 76, loss = 15.18268575\n",
      "Iteration 77, loss = 14.91751728\n",
      "Iteration 78, loss = 14.62510919\n",
      "Iteration 79, loss = 14.38647924\n",
      "Iteration 80, loss = 14.17363193\n",
      "Iteration 81, loss = 13.96993152\n",
      "Iteration 82, loss = 13.80157162\n",
      "Iteration 83, loss = 13.64091097\n",
      "Iteration 84, loss = 13.48733829\n",
      "Iteration 85, loss = 13.31603546\n",
      "Iteration 86, loss = 13.15748232\n",
      "Iteration 87, loss = 12.97710203\n",
      "Iteration 88, loss = 12.82048063\n",
      "Iteration 89, loss = 12.68024050\n",
      "Iteration 90, loss = 12.58103838\n",
      "Iteration 91, loss = 12.49648442\n",
      "Iteration 92, loss = 12.43814643\n",
      "Iteration 93, loss = 12.36818638\n",
      "Iteration 94, loss = 12.25881198\n",
      "Iteration 95, loss = 12.13224302\n",
      "Iteration 96, loss = 11.99459334\n",
      "Iteration 97, loss = 11.87180973\n",
      "Iteration 98, loss = 11.78596582\n",
      "Iteration 99, loss = 11.73231350\n",
      "Iteration 100, loss = 11.65577652\n",
      "Iteration 101, loss = 11.58160670\n",
      "Iteration 102, loss = 11.50358448\n",
      "Iteration 103, loss = 11.44908781\n",
      "Iteration 104, loss = 11.40812831\n",
      "Iteration 105, loss = 11.35546879\n",
      "Iteration 106, loss = 11.29909070\n",
      "Iteration 107, loss = 11.24528532\n",
      "Iteration 108, loss = 11.19096025\n",
      "Iteration 109, loss = 11.12577409\n",
      "Iteration 110, loss = 11.06932581\n",
      "Iteration 111, loss = 11.02311917\n",
      "Iteration 112, loss = 10.97620639\n",
      "Iteration 113, loss = 10.92751092\n",
      "Iteration 114, loss = 10.87678225\n",
      "Iteration 115, loss = 10.82508540\n",
      "Iteration 116, loss = 10.75346340\n",
      "Iteration 117, loss = 10.71684754\n",
      "Iteration 118, loss = 10.67644968\n",
      "Iteration 119, loss = 10.63804815\n",
      "Iteration 120, loss = 10.56120904\n",
      "Iteration 121, loss = 10.48115399\n",
      "Iteration 122, loss = 10.40135766\n",
      "Iteration 123, loss = 10.34552330\n",
      "Iteration 124, loss = 10.29835170\n",
      "Iteration 125, loss = 10.24478618\n",
      "Iteration 126, loss = 10.19298477\n",
      "Iteration 127, loss = 10.14708428\n",
      "Iteration 128, loss = 10.09485030\n",
      "Iteration 129, loss = 10.07295799\n",
      "Iteration 130, loss = 10.06679053\n",
      "Iteration 131, loss = 10.08477262\n",
      "Iteration 132, loss = 10.06303914\n",
      "Iteration 133, loss = 10.00092951\n",
      "Iteration 134, loss = 9.91676779\n",
      "Iteration 135, loss = 9.87671914\n",
      "Iteration 136, loss = 9.84541333\n",
      "Iteration 137, loss = 9.81777193\n",
      "Iteration 138, loss = 9.77770606\n",
      "Iteration 139, loss = 9.72579899\n",
      "Iteration 140, loss = 9.64852905\n",
      "Iteration 141, loss = 9.59669554\n",
      "Iteration 142, loss = 9.52679591\n",
      "Iteration 143, loss = 9.47054249\n",
      "Iteration 144, loss = 9.41751737\n",
      "Iteration 145, loss = 9.36060055\n",
      "Iteration 146, loss = 9.31114838\n",
      "Iteration 147, loss = 9.26995022\n",
      "Iteration 148, loss = 9.22308796\n",
      "Iteration 149, loss = 9.17060912\n",
      "Iteration 150, loss = 9.11851112\n",
      "Iteration 151, loss = 9.07832004\n",
      "Iteration 152, loss = 9.04866548\n",
      "Iteration 153, loss = 9.00473079\n",
      "Iteration 154, loss = 8.96484831\n",
      "Iteration 155, loss = 8.95645268\n",
      "Iteration 156, loss = 8.94901327\n",
      "Iteration 157, loss = 8.90545467\n",
      "Iteration 158, loss = 8.84394605\n",
      "Iteration 159, loss = 8.80005561\n",
      "Iteration 160, loss = 8.75611059\n",
      "Iteration 161, loss = 8.72221548\n",
      "Iteration 162, loss = 8.68934509\n",
      "Iteration 163, loss = 8.66447679\n",
      "Iteration 164, loss = 8.65124193\n",
      "Iteration 165, loss = 8.62953002\n",
      "Iteration 166, loss = 8.60356581\n",
      "Iteration 167, loss = 8.55665120\n",
      "Iteration 168, loss = 8.51213003\n",
      "Iteration 169, loss = 8.44487558\n",
      "Iteration 170, loss = 8.43468718\n",
      "Iteration 171, loss = 8.41179175\n",
      "Iteration 172, loss = 8.38926933\n",
      "Iteration 173, loss = 8.41511605\n",
      "Iteration 174, loss = 8.45451706\n",
      "Iteration 175, loss = 8.50073168\n",
      "Iteration 176, loss = 8.53484134\n",
      "Iteration 177, loss = 8.52437148\n",
      "Iteration 178, loss = 8.45725216\n",
      "Iteration 179, loss = 8.38419384\n",
      "Iteration 180, loss = 8.30142969\n",
      "Iteration 181, loss = 8.24071581\n",
      "Iteration 182, loss = 8.19202403\n",
      "Iteration 183, loss = 8.12395649\n",
      "Iteration 184, loss = 8.06244368\n",
      "Iteration 185, loss = 8.00175991\n",
      "Iteration 186, loss = 7.98446183\n",
      "Iteration 187, loss = 7.96798662\n",
      "Iteration 188, loss = 7.93300427\n",
      "Iteration 189, loss = 7.89938934\n",
      "Iteration 190, loss = 7.87160681\n",
      "Iteration 191, loss = 7.83313317\n",
      "Iteration 192, loss = 7.78782361\n",
      "Iteration 193, loss = 7.77067382\n",
      "Iteration 194, loss = 7.76288036\n",
      "Iteration 195, loss = 7.73539980\n",
      "Iteration 196, loss = 7.71059505\n",
      "Iteration 197, loss = 7.70376635\n",
      "Iteration 198, loss = 7.75056545\n",
      "Iteration 199, loss = 7.80478642\n",
      "Iteration 200, loss = 7.77402305\n",
      "Iteration 201, loss = 7.66867224\n",
      "Iteration 202, loss = 7.59399916\n",
      "Iteration 203, loss = 7.54468637\n",
      "Iteration 204, loss = 7.49469388\n",
      "Iteration 205, loss = 7.46184003\n",
      "Iteration 206, loss = 7.43759119\n",
      "Iteration 207, loss = 7.40358942\n",
      "Iteration 208, loss = 7.37362022\n",
      "Iteration 209, loss = 7.34760432\n",
      "Iteration 210, loss = 7.31869766\n",
      "Iteration 211, loss = 7.28757901\n",
      "Iteration 212, loss = 7.25303727\n",
      "Iteration 213, loss = 7.24301102\n",
      "Iteration 214, loss = 7.32937800\n",
      "Iteration 215, loss = 7.31144657\n",
      "Iteration 216, loss = 7.24701861\n",
      "Iteration 217, loss = 7.19856820\n",
      "Iteration 218, loss = 7.19415826\n",
      "Iteration 219, loss = 7.21332810\n",
      "Iteration 220, loss = 7.21574280\n",
      "Iteration 221, loss = 7.17964108\n",
      "Iteration 222, loss = 7.09912007\n",
      "Iteration 223, loss = 7.03533073\n",
      "Iteration 224, loss = 6.97665456\n",
      "Iteration 225, loss = 6.95417716\n",
      "Iteration 226, loss = 6.92298210\n",
      "Iteration 227, loss = 6.89208067\n",
      "Iteration 228, loss = 6.87025986\n",
      "Iteration 229, loss = 6.82567977\n",
      "Iteration 230, loss = 6.80149332\n",
      "Iteration 231, loss = 6.77779507\n",
      "Iteration 232, loss = 6.75769437\n",
      "Iteration 233, loss = 6.73616181\n",
      "Iteration 234, loss = 6.71587024\n",
      "Iteration 235, loss = 6.70043388\n",
      "Iteration 236, loss = 6.68113099\n",
      "Iteration 237, loss = 6.66864536\n",
      "Iteration 238, loss = 6.66781032\n",
      "Iteration 239, loss = 6.66880749\n",
      "Iteration 240, loss = 6.66782066\n",
      "Iteration 241, loss = 6.62746341\n",
      "Iteration 242, loss = 6.62982520\n",
      "Iteration 243, loss = 6.62233624\n",
      "Iteration 244, loss = 6.59303652\n",
      "Iteration 245, loss = 6.57913529\n",
      "Iteration 246, loss = 6.56126026\n",
      "Iteration 247, loss = 6.56537335\n",
      "Iteration 248, loss = 6.59556830\n",
      "Iteration 249, loss = 6.59401607\n",
      "Iteration 250, loss = 6.57396855\n",
      "Iteration 251, loss = 6.56457690\n",
      "Iteration 252, loss = 6.54530530\n",
      "Iteration 253, loss = 6.52517325\n",
      "Iteration 254, loss = 6.51297854\n",
      "Iteration 255, loss = 6.48639434\n",
      "Iteration 256, loss = 6.48558335\n",
      "Iteration 257, loss = 6.46383095\n",
      "Iteration 258, loss = 6.41903032\n"
     ]
    },
    {
     "name": "stdout",
     "output_type": "stream",
     "text": [
      "Iteration 259, loss = 6.37235177\n",
      "Iteration 260, loss = 6.34506172\n",
      "Iteration 261, loss = 6.33498342\n",
      "Iteration 262, loss = 6.32033532\n",
      "Iteration 263, loss = 6.31846471\n",
      "Iteration 264, loss = 6.30751539\n",
      "Iteration 265, loss = 6.29503279\n",
      "Iteration 266, loss = 6.27636414\n",
      "Iteration 267, loss = 6.25469685\n",
      "Iteration 268, loss = 6.23558463\n",
      "Iteration 269, loss = 6.22413656\n",
      "Iteration 270, loss = 6.21495082\n",
      "Iteration 271, loss = 6.19423077\n",
      "Iteration 272, loss = 6.18105158\n",
      "Iteration 273, loss = 6.16999048\n",
      "Iteration 274, loss = 6.17303886\n",
      "Iteration 275, loss = 6.18655264\n",
      "Iteration 276, loss = 6.19308090\n",
      "Iteration 277, loss = 6.16515776\n",
      "Iteration 278, loss = 6.14328878\n",
      "Iteration 279, loss = 6.13041493\n",
      "Iteration 280, loss = 6.10818851\n",
      "Iteration 281, loss = 6.09508398\n",
      "Iteration 282, loss = 6.07793458\n",
      "Iteration 283, loss = 6.05756589\n",
      "Iteration 284, loss = 6.02367166\n",
      "Iteration 285, loss = 5.99239260\n",
      "Iteration 286, loss = 5.97457997\n",
      "Iteration 287, loss = 5.99538810\n",
      "Iteration 288, loss = 6.04893237\n",
      "Iteration 289, loss = 6.10654827\n",
      "Iteration 290, loss = 6.12176143\n",
      "Iteration 291, loss = 6.10153521\n",
      "Iteration 292, loss = 6.09496248\n",
      "Iteration 293, loss = 6.16816093\n",
      "Iteration 294, loss = 6.26699471\n",
      "Iteration 295, loss = 6.31003707\n",
      "Iteration 296, loss = 6.29987371\n",
      "Iteration 297, loss = 6.21240525\n",
      "Training loss did not improve more than tol=0.000100 for 10 consecutive epochs. Stopping.\n"
     ]
    },
    {
     "data": {
      "text/plain": [
       "MLPRegressor(activation='relu', alpha=0.1, batch_size='auto', beta_1=0.9,\n",
       "             beta_2=0.999, early_stopping=False, epsilon=1e-08,\n",
       "             hidden_layer_sizes=(100, 10, 3), learning_rate='constant',\n",
       "             learning_rate_init=0.001, max_fun=15000, max_iter=5000,\n",
       "             momentum=0.9, n_iter_no_change=10, nesterovs_momentum=True,\n",
       "             power_t=0.5, random_state=None, shuffle=True, solver='adam',\n",
       "             tol=0.0001, validation_fraction=0.1, verbose=1, warm_start=False)"
      ]
     },
     "execution_count": 39,
     "metadata": {},
     "output_type": "execute_result"
    }
   ],
   "source": [
    "modelNN2 = MLPRegressor( max_iter=5000, alpha=0.1, verbose=1, hidden_layer_sizes=(100, 10, 3) )\n",
    "modelNN2.fit(  x_trainS , y_trainS  )"
   ]
  },
  {
   "cell_type": "code",
   "execution_count": 40,
   "metadata": {
    "scrolled": true
   },
   "outputs": [
    {
     "name": "stdout",
     "output_type": "stream",
     "text": [
      "훈련 데이터 R2 : 0.8496258336787899\n",
      "테스트 데이터 R2 : 0.8713296432682837\n"
     ]
    }
   ],
   "source": [
    "print(f'훈련 데이터 R2 : { modelNN2.score( x_trainS , y_trainS ) }' )\n",
    "print(f'테스트 데이터 R2 : { modelNN2.score( x_testS , y_testS ) }' )"
   ]
  },
  {
   "cell_type": "code",
   "execution_count": 41,
   "metadata": {},
   "outputs": [
    {
     "data": {
      "text/plain": [
       "array([27.07524163])"
      ]
     },
     "execution_count": 41,
     "metadata": {},
     "output_type": "execute_result"
    }
   ],
   "source": [
    "modelNN2.predict( [ x_testS[0] ] )"
   ]
  },
  {
   "cell_type": "code",
   "execution_count": 101,
   "metadata": {},
   "outputs": [
    {
     "data": {
      "text/plain": [
       "array([29.3850385])"
      ]
     },
     "execution_count": 101,
     "metadata": {},
     "output_type": "execute_result"
    }
   ],
   "source": [
    "xx = scaleX.transform( [x_data.iloc[0]] )\n",
    "modelNN2.predict(xx )"
   ]
  },
  {
   "cell_type": "markdown",
   "metadata": {},
   "source": [
    "#### make_pmipeline ( 위와 같은 문제를 편하게 해결하기 위해 )"
   ]
  },
  {
   "cell_type": "code",
   "execution_count": 72,
   "metadata": {},
   "outputs": [],
   "source": [
    "x_train, x_test, y_train, y_test = train_test_split( x_data, y_data, test_size=0.2, random_state=1 )"
   ]
  },
  {
   "cell_type": "code",
   "execution_count": 73,
   "metadata": {},
   "outputs": [
    {
     "data": {
      "text/plain": [
       "Pipeline(memory=None,\n",
       "         steps=[('standardscaler',\n",
       "                 StandardScaler(copy=True, with_mean=True, with_std=True)),\n",
       "                ('linearregression',\n",
       "                 LinearRegression(copy_X=True, fit_intercept=True, n_jobs=None,\n",
       "                                  normalize=False))],\n",
       "         verbose=False)"
      ]
     },
     "execution_count": 73,
     "metadata": {},
     "output_type": "execute_result"
    }
   ],
   "source": [
    "model = make_pipeline( StandardScaler(), LinearRegression() )\n",
    "model.fit( x_train, y_train )"
   ]
  },
  {
   "cell_type": "code",
   "execution_count": 74,
   "metadata": {},
   "outputs": [
    {
     "name": "stdout",
     "output_type": "stream",
     "text": [
      "훈련 데이터 R2 : 0.7293585058196337\n",
      "테스트 데이터 R2 : 0.7634174432138474\n"
     ]
    }
   ],
   "source": [
    "print(f'훈련 데이터 R2 : { model.score( x_train , y_train ) }' )\n",
    "print(f'테스트 데이터 R2 : { model.score( x_test , y_test ) }' )"
   ]
  },
  {
   "cell_type": "code",
   "execution_count": 77,
   "metadata": {},
   "outputs": [
    {
     "data": {
      "text/plain": [
       "array([32.65503184])"
      ]
     },
     "execution_count": 77,
     "metadata": {},
     "output_type": "execute_result"
    }
   ],
   "source": [
    "model.predict( [x_test.iloc[0]] )"
   ]
  },
  {
   "cell_type": "markdown",
   "metadata": {},
   "source": [
    "#### 교차 검증 (Cross Validation) ==> 데이터가 작은 경우 "
   ]
  },
  {
   "cell_type": "markdown",
   "metadata": {},
   "source": [
    "#### 원데이터 사용."
   ]
  },
  {
   "cell_type": "code",
   "execution_count": 108,
   "metadata": {},
   "outputs": [
    {
     "name": "stdout",
     "output_type": "stream",
     "text": [
      "[ 0.73376082  0.4730725  -1.00631454  0.64113984  0.54766046  0.73640292\n",
      "  0.37828386 -0.12922703 -0.76843243  0.4189435 ]\n",
      "0.20252899006056418\n"
     ]
    },
    {
     "name": "stderr",
     "output_type": "stream",
     "text": [
      "[Parallel(n_jobs=1)]: Using backend SequentialBackend with 1 concurrent workers.\n",
      "[Parallel(n_jobs=1)]: Done  10 out of  10 | elapsed:    0.0s finished\n"
     ]
    }
   ],
   "source": [
    "r2score = cross_val_score( model, x_data, y_data, cv=10, scoring='r2', verbose=1)  \n",
    "print( r2score )\n",
    "print( r2score.mean() )"
   ]
  },
  {
   "cell_type": "markdown",
   "metadata": {},
   "source": [
    "#### 다중공선성(Multicollinearity)"
   ]
  },
  {
   "cell_type": "markdown",
   "metadata": {},
   "source": [
    "회귀 모형에서 다중공선성을 파악할 수 있는 대표적인 방법으로 VIF으로 사용하면 된다."
   ]
  },
  {
   "cell_type": "code",
   "execution_count": 113,
   "metadata": {},
   "outputs": [
    {
     "data": {
      "image/png": "[encoded data removed]",
      "text/plain": [
       "<Figure size 720x576 with 2 Axes>"
      ]
     },
     "metadata": {
      "needs_background": "light"
     },
     "output_type": "display_data"
    }
   ],
   "source": [
    "plt.figure( figsize=(10,8) )\n",
    "sns.heatmap( boston_df.corr(), vmin=-1, vmax=1, annot=True, linewidths=0.2, cmap='BuPu' ); plt.show()"
   ]
  },
  {
   "cell_type": "code",
   "execution_count": 119,
   "metadata": {},
   "outputs": [
    {
     "data": {
      "text/html": [
       "<div>\n",
       "<style scoped>\n",
       "    .dataframe tbody tr th:only-of-type {\n",
       "        vertical-align: middle;\n",
       "    }\n",
       "\n",
       "    .dataframe tbody tr th {\n",
       "        vertical-align: top;\n",
       "    }\n",
       "\n",
       "    .dataframe thead th {\n",
       "        text-align: right;\n",
       "    }\n",
       "</style>\n",
       "<table border=\"1\" class=\"dataframe\">\n",
       "  <thead>\n",
       "    <tr style=\"text-align: right;\">\n",
       "      <th></th>\n",
       "      <th>VIF</th>\n",
       "      <th>features</th>\n",
       "    </tr>\n",
       "  </thead>\n",
       "  <tbody>\n",
       "    <tr>\n",
       "      <th>0</th>\n",
       "      <td>2.131404</td>\n",
       "      <td>CRIM</td>\n",
       "    </tr>\n",
       "    <tr>\n",
       "      <th>1</th>\n",
       "      <td>2.910004</td>\n",
       "      <td>ZN</td>\n",
       "    </tr>\n",
       "    <tr>\n",
       "      <th>2</th>\n",
       "      <td>14.485874</td>\n",
       "      <td>INDUS</td>\n",
       "    </tr>\n",
       "    <tr>\n",
       "      <th>3</th>\n",
       "      <td>1.176266</td>\n",
       "      <td>CHAS</td>\n",
       "    </tr>\n",
       "    <tr>\n",
       "      <th>4</th>\n",
       "      <td>74.004269</td>\n",
       "      <td>NOX</td>\n",
       "    </tr>\n",
       "    <tr>\n",
       "      <th>5</th>\n",
       "      <td>136.101743</td>\n",
       "      <td>RM</td>\n",
       "    </tr>\n",
       "    <tr>\n",
       "      <th>6</th>\n",
       "      <td>21.398863</td>\n",
       "      <td>AGE</td>\n",
       "    </tr>\n",
       "    <tr>\n",
       "      <th>7</th>\n",
       "      <td>15.430455</td>\n",
       "      <td>DIS</td>\n",
       "    </tr>\n",
       "    <tr>\n",
       "      <th>8</th>\n",
       "      <td>15.369980</td>\n",
       "      <td>RAD</td>\n",
       "    </tr>\n",
       "    <tr>\n",
       "      <th>9</th>\n",
       "      <td>61.939713</td>\n",
       "      <td>TAX</td>\n",
       "    </tr>\n",
       "    <tr>\n",
       "      <th>10</th>\n",
       "      <td>87.227233</td>\n",
       "      <td>PTRATIO</td>\n",
       "    </tr>\n",
       "    <tr>\n",
       "      <th>11</th>\n",
       "      <td>21.351015</td>\n",
       "      <td>B</td>\n",
       "    </tr>\n",
       "    <tr>\n",
       "      <th>12</th>\n",
       "      <td>12.615188</td>\n",
       "      <td>LSTAT</td>\n",
       "    </tr>\n",
       "    <tr>\n",
       "      <th>13</th>\n",
       "      <td>24.503206</td>\n",
       "      <td>MEDV</td>\n",
       "    </tr>\n",
       "  </tbody>\n",
       "</table>\n",
       "</div>"
      ],
      "text/plain": [
       "           VIF features\n",
       "0     2.131404     CRIM\n",
       "1     2.910004       ZN\n",
       "2    14.485874    INDUS\n",
       "3     1.176266     CHAS\n",
       "4    74.004269      NOX\n",
       "5   136.101743       RM\n",
       "6    21.398863      AGE\n",
       "7    15.430455      DIS\n",
       "8    15.369980      RAD\n",
       "9    61.939713      TAX\n",
       "10   87.227233  PTRATIO\n",
       "11   21.351015        B\n",
       "12   12.615188    LSTAT\n",
       "13   24.503206     MEDV"
      ]
     },
     "execution_count": 119,
     "metadata": {},
     "output_type": "execute_result"
    }
   ],
   "source": [
    "vif = pd.DataFrame()\n",
    "vif['VIF'] = [ variance_inflation_factor( boston_df.values, i ) for i in range( boston_df.shape[1] ) ]\n",
    "vif['features'] = boston_df.columns\n",
    "vif"
   ]
  },
  {
   "cell_type": "markdown",
   "metadata": {},
   "source": [
    "#### 연습문제\n",
    "\n",
    "- 캘리 포니아 주택 가격을 이용하여 교차검증, 다중공선성을 확인한 후, 다중공선성이 높은 컬럼을 제외하고 학습하여 교차검증 값을 확인하시오."
   ]
  },
  {
   "cell_type": "markdown",
   "metadata": {},
   "source": [
    "#### 캘리포니아 주택 가격 데이터 Information\n",
    "\n",
    "| 속성 | 설명 |\n",
    "|------|------|\n",
    "| MedInc | 블록의 중간 소득 |\n",
    "| HouseAge | 블록의 중간 주택 연도 |\n",
    "| AveRooms | 자치시(town)별 비소매 상업지역 토지 비율 |\n",
    "| AveBedrms | 찰스 강(Charles River)에 대한 변수 (강의 경계에 위치하면 1, 그렇지 않으면 0) |\n",
    "| Population | 10,000,000당  일산화질소 농도 |\n",
    "| AveOccup | 주택 1가구당 평균 방의 수 |\n",
    "| Latitude | 1940년 이전에 건축된 소유주택 비율 |\n",
    "| Longitude | 5개의 보스턴 고용 센터까지의 가중 거리 |"
   ]
  },
  {
   "cell_type": "markdown",
   "metadata": {},
   "source": [
    "#### Code 한눈에 보기"
   ]
  },
  {
   "cell_type": "code",
   "execution_count": null,
   "metadata": {},
   "outputs": [],
   "source": [
    "cal             = fetch_california_housing()\n",
    "cal_df          = pd.DataFrame(cal.data, columns=cal.feature_names)\n",
    "cal_df['Price'] = cal.target\n",
    "\n",
    "# 상관관계\n",
    "plt.figure( figsize=(10,8) )\n",
    "sns.heatmap( cal_df.corr(), vmin=-1, vmax=1, annot=True, linewidths=0.2, cmap='BuPu' ); plt.show()\n",
    "\n",
    "calVIF             = pd.DataFrame()\n",
    "calVIF['VIF']      = [ variance_inflation_factor( cal_df.values, i ) for i in range( cal_df.shape[1] ) ]\n",
    "calVIF['features'] = cal_df.columns\n",
    "calVIF\n",
    "\n",
    "# 서로 연관성 깊은 변수 한개씩만 제거.\n",
    "cal_df2             = cal_df[ cal_df.columns.difference(['MedInc','AveBedrms', 'Longitude']) ]\n",
    "calVIF2             = pd.DataFrame()\n",
    "calVIF2['VIF']      = [ variance_inflation_factor( cal_df2.values, i ) for i in range( cal_df2.shape[1] ) ]\n",
    "calVIF2['features'] = cal_df2.columns\n",
    "calVIF2\n",
    "\n",
    "# 10이상 VIF 지수 가지는 변수 제거. -> 'Latitude' 추가\n",
    "cal_df3             = cal_df[ cal_df.columns.difference(['MedInc','AveBedrms', 'Longitude', 'Latitude']) ]\n",
    "calVIF3             = pd.DataFrame()\n",
    "calVIF3['VIF']      = [ variance_inflation_factor( cal_df3.values, i ) for i in range( cal_df3.shape[1] ) ]\n",
    "calVIF3['features'] = cal_df3.columns\n",
    "calVIF3\n",
    "\n",
    "\n",
    "# 교차 검증....?? 올바른 결과인가?\n",
    "x_data  = cal_df3.iloc[:,:-1]\n",
    "y_data  = cal_df3.iloc[:, -1]\n",
    "model   = make_pipeline( StandardScaler(), LinearRegression() )\n",
    "r2score = cross_val_score( model, x_data, y_data, cv=10, scoring='r2', verbose=1)  \n",
    "print( r2score )\n",
    "print( r2score.mean() )\n",
    "\n",
    "\n",
    "## 학습하기.\n",
    "x_train, x_test, y_train, y_test = train_test_split( x_data, y_data, test_size=0.2,random_state=1 )\n",
    "model.fit( x_train, y_train )\n",
    "print(f'train data R2 : { model.score( x_train , y_train ) }' )\n",
    "print(f'test data R2 : { model.score( x_test , y_test ) }' )\n",
    "\n",
    "## 결과는 만족스럽지 못함... 즉각적인 변수제거 방법은 별로 좋아보이지 않음.\n",
    "## 차원축소 방법을 통한 공선성 제거를 기대해보는 것이 좋아 보임."
   ]
  },
  {
   "cell_type": "code",
   "execution_count": 155,
   "metadata": {},
   "outputs": [
    {
     "data": {
      "text/html": [
       "<div>\n",
       "<style scoped>\n",
       "    .dataframe tbody tr th:only-of-type {\n",
       "        vertical-align: middle;\n",
       "    }\n",
       "\n",
       "    .dataframe tbody tr th {\n",
       "        vertical-align: top;\n",
       "    }\n",
       "\n",
       "    .dataframe thead th {\n",
       "        text-align: right;\n",
       "    }\n",
       "</style>\n",
       "<table border=\"1\" class=\"dataframe\">\n",
       "  <thead>\n",
       "    <tr style=\"text-align: right;\">\n",
       "      <th></th>\n",
       "      <th>MedInc</th>\n",
       "      <th>HouseAge</th>\n",
       "      <th>AveRooms</th>\n",
       "      <th>AveBedrms</th>\n",
       "      <th>Population</th>\n",
       "      <th>AveOccup</th>\n",
       "      <th>Latitude</th>\n",
       "      <th>Longitude</th>\n",
       "      <th>Price</th>\n",
       "    </tr>\n",
       "  </thead>\n",
       "  <tbody>\n",
       "    <tr>\n",
       "      <th>0</th>\n",
       "      <td>8.3252</td>\n",
       "      <td>41.0</td>\n",
       "      <td>6.984127</td>\n",
       "      <td>1.023810</td>\n",
       "      <td>322.0</td>\n",
       "      <td>2.555556</td>\n",
       "      <td>37.88</td>\n",
       "      <td>-122.23</td>\n",
       "      <td>4.526</td>\n",
       "    </tr>\n",
       "    <tr>\n",
       "      <th>1</th>\n",
       "      <td>8.3014</td>\n",
       "      <td>21.0</td>\n",
       "      <td>6.238137</td>\n",
       "      <td>0.971880</td>\n",
       "      <td>2401.0</td>\n",
       "      <td>2.109842</td>\n",
       "      <td>37.86</td>\n",
       "      <td>-122.22</td>\n",
       "      <td>3.585</td>\n",
       "    </tr>\n",
       "    <tr>\n",
       "      <th>2</th>\n",
       "      <td>7.2574</td>\n",
       "      <td>52.0</td>\n",
       "      <td>8.288136</td>\n",
       "      <td>1.073446</td>\n",
       "      <td>496.0</td>\n",
       "      <td>2.802260</td>\n",
       "      <td>37.85</td>\n",
       "      <td>-122.24</td>\n",
       "      <td>3.521</td>\n",
       "    </tr>\n",
       "    <tr>\n",
       "      <th>3</th>\n",
       "      <td>5.6431</td>\n",
       "      <td>52.0</td>\n",
       "      <td>5.817352</td>\n",
       "      <td>1.073059</td>\n",
       "      <td>558.0</td>\n",
       "      <td>2.547945</td>\n",
       "      <td>37.85</td>\n",
       "      <td>-122.25</td>\n",
       "      <td>3.413</td>\n",
       "    </tr>\n",
       "    <tr>\n",
       "      <th>4</th>\n",
       "      <td>3.8462</td>\n",
       "      <td>52.0</td>\n",
       "      <td>6.281853</td>\n",
       "      <td>1.081081</td>\n",
       "      <td>565.0</td>\n",
       "      <td>2.181467</td>\n",
       "      <td>37.85</td>\n",
       "      <td>-122.25</td>\n",
       "      <td>3.422</td>\n",
       "    </tr>\n",
       "  </tbody>\n",
       "</table>\n",
       "</div>"
      ],
      "text/plain": [
       "   MedInc  HouseAge  AveRooms  AveBedrms  Population  AveOccup  Latitude  \\\n",
       "0  8.3252      41.0  6.984127   1.023810       322.0  2.555556     37.88   \n",
       "1  8.3014      21.0  6.238137   0.971880      2401.0  2.109842     37.86   \n",
       "2  7.2574      52.0  8.288136   1.073446       496.0  2.802260     37.85   \n",
       "3  5.6431      52.0  5.817352   1.073059       558.0  2.547945     37.85   \n",
       "4  3.8462      52.0  6.281853   1.081081       565.0  2.181467     37.85   \n",
       "\n",
       "   Longitude  Price  \n",
       "0    -122.23  4.526  \n",
       "1    -122.22  3.585  \n",
       "2    -122.24  3.521  \n",
       "3    -122.25  3.413  \n",
       "4    -122.25  3.422  "
      ]
     },
     "execution_count": 155,
     "metadata": {},
     "output_type": "execute_result"
    }
   ],
   "source": [
    "cal    = fetch_california_housing()\n",
    "cal_df = pd.DataFrame(cal.data, columns=cal.feature_names)\n",
    "cal_df['Price'] = cal.target\n",
    "cal_df.head()"
   ]
  },
  {
   "cell_type": "code",
   "execution_count": 156,
   "metadata": {
    "scrolled": false
   },
   "outputs": [
    {
     "data": {
      "image/png": "[encoded data removed]",
      "text/plain": [
       "<Figure size 720x576 with 2 Axes>"
      ]
     },
     "metadata": {
      "needs_background": "light"
     },
     "output_type": "display_data"
    }
   ],
   "source": [
    "plt.figure( figsize=(10,8) )\n",
    "sns.heatmap( cal_df.corr(), vmin=-1, vmax=1, annot=True, linewidths=0.2, cmap='BuPu' ); plt.show()"
   ]
  },
  {
   "cell_type": "code",
   "execution_count": 165,
   "metadata": {},
   "outputs": [
    {
     "name": "stdout",
     "output_type": "stream",
     "text": [
      "[0.48254494 0.61416063 0.42274892 0.48178521 0.55705986 0.5412919\n",
      " 0.47496038 0.45844938 0.48177943 0.59528796]\n",
      "0.5110068610524554\n"
     ]
    },
    {
     "name": "stderr",
     "output_type": "stream",
     "text": [
      "[Parallel(n_jobs=1)]: Using backend SequentialBackend with 1 concurrent workers.\n",
      "[Parallel(n_jobs=1)]: Done  10 out of  10 | elapsed:    0.0s finished\n"
     ]
    }
   ],
   "source": [
    "x_data  = cal_df.iloc[:,:-1]\n",
    "y_data  = cal_df.iloc[:, -1]\n",
    "model   = make_pipeline( StandardScaler(), LinearRegression() )\n",
    "r2score = cross_val_score( model, x_data, y_data, cv=10, scoring='r2', verbose=1)  \n",
    "print( r2score )\n",
    "print( r2score.mean() )"
   ]
  },
  {
   "cell_type": "code",
   "execution_count": 157,
   "metadata": {},
   "outputs": [
    {
     "data": {
      "text/html": [
       "<div>\n",
       "<style scoped>\n",
       "    .dataframe tbody tr th:only-of-type {\n",
       "        vertical-align: middle;\n",
       "    }\n",
       "\n",
       "    .dataframe tbody tr th {\n",
       "        vertical-align: top;\n",
       "    }\n",
       "\n",
       "    .dataframe thead th {\n",
       "        text-align: right;\n",
       "    }\n",
       "</style>\n",
       "<table border=\"1\" class=\"dataframe\">\n",
       "  <thead>\n",
       "    <tr style=\"text-align: right;\">\n",
       "      <th></th>\n",
       "      <th>VIF</th>\n",
       "      <th>features</th>\n",
       "    </tr>\n",
       "  </thead>\n",
       "  <tbody>\n",
       "    <tr>\n",
       "      <th>0</th>\n",
       "      <td>19.624998</td>\n",
       "      <td>MedInc</td>\n",
       "    </tr>\n",
       "    <tr>\n",
       "      <th>1</th>\n",
       "      <td>7.592663</td>\n",
       "      <td>HouseAge</td>\n",
       "    </tr>\n",
       "    <tr>\n",
       "      <th>2</th>\n",
       "      <td>47.956351</td>\n",
       "      <td>AveRooms</td>\n",
       "    </tr>\n",
       "    <tr>\n",
       "      <th>3</th>\n",
       "      <td>45.358192</td>\n",
       "      <td>AveBedrms</td>\n",
       "    </tr>\n",
       "    <tr>\n",
       "      <th>4</th>\n",
       "      <td>2.936078</td>\n",
       "      <td>Population</td>\n",
       "    </tr>\n",
       "    <tr>\n",
       "      <th>5</th>\n",
       "      <td>1.099530</td>\n",
       "      <td>AveOccup</td>\n",
       "    </tr>\n",
       "    <tr>\n",
       "      <th>6</th>\n",
       "      <td>568.497332</td>\n",
       "      <td>Latitude</td>\n",
       "    </tr>\n",
       "    <tr>\n",
       "      <th>7</th>\n",
       "      <td>640.064211</td>\n",
       "      <td>Longitude</td>\n",
       "    </tr>\n",
       "    <tr>\n",
       "      <th>8</th>\n",
       "      <td>9.285659</td>\n",
       "      <td>Price</td>\n",
       "    </tr>\n",
       "  </tbody>\n",
       "</table>\n",
       "</div>"
      ],
      "text/plain": [
       "          VIF    features\n",
       "0   19.624998      MedInc\n",
       "1    7.592663    HouseAge\n",
       "2   47.956351    AveRooms\n",
       "3   45.358192   AveBedrms\n",
       "4    2.936078  Population\n",
       "5    1.099530    AveOccup\n",
       "6  568.497332    Latitude\n",
       "7  640.064211   Longitude\n",
       "8    9.285659       Price"
      ]
     },
     "execution_count": 157,
     "metadata": {},
     "output_type": "execute_result"
    }
   ],
   "source": [
    "calVIF             = pd.DataFrame()\n",
    "calVIF['VIF']      = [ variance_inflation_factor( cal_df.values, i ) for i in range( cal_df.shape[1] ) ]\n",
    "calVIF['features'] = cal_df.columns\n",
    "calVIF"
   ]
  },
  {
   "cell_type": "code",
   "execution_count": 158,
   "metadata": {
    "scrolled": true
   },
   "outputs": [
    {
     "data": {
      "text/html": [
       "<div>\n",
       "<style scoped>\n",
       "    .dataframe tbody tr th:only-of-type {\n",
       "        vertical-align: middle;\n",
       "    }\n",
       "\n",
       "    .dataframe tbody tr th {\n",
       "        vertical-align: top;\n",
       "    }\n",
       "\n",
       "    .dataframe thead th {\n",
       "        text-align: right;\n",
       "    }\n",
       "</style>\n",
       "<table border=\"1\" class=\"dataframe\">\n",
       "  <thead>\n",
       "    <tr style=\"text-align: right;\">\n",
       "      <th></th>\n",
       "      <th>VIF</th>\n",
       "      <th>features</th>\n",
       "    </tr>\n",
       "  </thead>\n",
       "  <tbody>\n",
       "    <tr>\n",
       "      <th>0</th>\n",
       "      <td>1.095045</td>\n",
       "      <td>AveOccup</td>\n",
       "    </tr>\n",
       "    <tr>\n",
       "      <th>1</th>\n",
       "      <td>6.333040</td>\n",
       "      <td>AveRooms</td>\n",
       "    </tr>\n",
       "    <tr>\n",
       "      <th>2</th>\n",
       "      <td>6.979517</td>\n",
       "      <td>HouseAge</td>\n",
       "    </tr>\n",
       "    <tr>\n",
       "      <th>3</th>\n",
       "      <td>18.182280</td>\n",
       "      <td>Latitude</td>\n",
       "    </tr>\n",
       "    <tr>\n",
       "      <th>4</th>\n",
       "      <td>2.780785</td>\n",
       "      <td>Population</td>\n",
       "    </tr>\n",
       "    <tr>\n",
       "      <th>5</th>\n",
       "      <td>4.301634</td>\n",
       "      <td>Price</td>\n",
       "    </tr>\n",
       "  </tbody>\n",
       "</table>\n",
       "</div>"
      ],
      "text/plain": [
       "         VIF    features\n",
       "0   1.095045    AveOccup\n",
       "1   6.333040    AveRooms\n",
       "2   6.979517    HouseAge\n",
       "3  18.182280    Latitude\n",
       "4   2.780785  Population\n",
       "5   4.301634       Price"
      ]
     },
     "execution_count": 158,
     "metadata": {},
     "output_type": "execute_result"
    }
   ],
   "source": [
    "cal_df2             = cal_df[ cal_df.columns.difference(['MedInc','AveBedrms', 'Longitude']) ]\n",
    "calVIF2             = pd.DataFrame()\n",
    "calVIF2['VIF']      = [ variance_inflation_factor( cal_df2.values, i ) for i in range( cal_df2.shape[1] ) ]\n",
    "calVIF2['features'] = cal_df2.columns\n",
    "calVIF2"
   ]
  },
  {
   "cell_type": "code",
   "execution_count": 159,
   "metadata": {},
   "outputs": [
    {
     "data": {
      "text/html": [
       "<div>\n",
       "<style scoped>\n",
       "    .dataframe tbody tr th:only-of-type {\n",
       "        vertical-align: middle;\n",
       "    }\n",
       "\n",
       "    .dataframe tbody tr th {\n",
       "        vertical-align: top;\n",
       "    }\n",
       "\n",
       "    .dataframe thead th {\n",
       "        text-align: right;\n",
       "    }\n",
       "</style>\n",
       "<table border=\"1\" class=\"dataframe\">\n",
       "  <thead>\n",
       "    <tr style=\"text-align: right;\">\n",
       "      <th></th>\n",
       "      <th>VIF</th>\n",
       "      <th>features</th>\n",
       "    </tr>\n",
       "  </thead>\n",
       "  <tbody>\n",
       "    <tr>\n",
       "      <th>0</th>\n",
       "      <td>1.094209</td>\n",
       "      <td>AveOccup</td>\n",
       "    </tr>\n",
       "    <tr>\n",
       "      <th>1</th>\n",
       "      <td>4.049803</td>\n",
       "      <td>AveRooms</td>\n",
       "    </tr>\n",
       "    <tr>\n",
       "      <th>2</th>\n",
       "      <td>3.705824</td>\n",
       "      <td>HouseAge</td>\n",
       "    </tr>\n",
       "    <tr>\n",
       "      <th>3</th>\n",
       "      <td>2.103699</td>\n",
       "      <td>Population</td>\n",
       "    </tr>\n",
       "    <tr>\n",
       "      <th>4</th>\n",
       "      <td>4.137874</td>\n",
       "      <td>Price</td>\n",
       "    </tr>\n",
       "  </tbody>\n",
       "</table>\n",
       "</div>"
      ],
      "text/plain": [
       "        VIF    features\n",
       "0  1.094209    AveOccup\n",
       "1  4.049803    AveRooms\n",
       "2  3.705824    HouseAge\n",
       "3  2.103699  Population\n",
       "4  4.137874       Price"
      ]
     },
     "execution_count": 159,
     "metadata": {},
     "output_type": "execute_result"
    }
   ],
   "source": [
    "cal_df3             = cal_df[ cal_df.columns.difference(['MedInc','AveBedrms', 'Longitude', 'Latitude']) ]\n",
    "calVIF3             = pd.DataFrame()\n",
    "calVIF3['VIF']      = [ variance_inflation_factor( cal_df3.values, i ) for i in range( cal_df3.shape[1] ) ]\n",
    "calVIF3['features'] = cal_df3.columns\n",
    "calVIF3"
   ]
  },
  {
   "cell_type": "code",
   "execution_count": 167,
   "metadata": {},
   "outputs": [
    {
     "name": "stdout",
     "output_type": "stream",
     "text": [
      "[-0.34293393 -0.32648583 -0.01593999  0.10603612 -0.07164817 -0.09129106\n",
      " -0.97241306  0.069965   -0.63723898 -0.33797483]\n",
      "-0.2619924734380744\n"
     ]
    },
    {
     "name": "stderr",
     "output_type": "stream",
     "text": [
      "[Parallel(n_jobs=1)]: Using backend SequentialBackend with 1 concurrent workers.\n",
      "[Parallel(n_jobs=1)]: Done  10 out of  10 | elapsed:    0.0s finished\n"
     ]
    }
   ],
   "source": [
    "x_data  = cal_df3.iloc[:,:-1]\n",
    "y_data  = cal_df3.iloc[:, -1]\n",
    "model   = make_pipeline( StandardScaler(), LinearRegression() )\n",
    "r2score = cross_val_score( model, x_data, y_data, cv=10, scoring='r2', verbose=1)  \n",
    "print( r2score )\n",
    "print( r2score.mean() )"
   ]
  }
 ],
 "metadata": {
  "kernelspec": {
   "display_name": "Python 3",
   "language": "python",
   "name": "python3"
  },
  "language_info": {
   "codemirror_mode": {
    "name": "ipython",
    "version": 3
   },
   "file_extension": ".py",
   "mimetype": "text/x-python",
   "name": "python",
   "nbconvert_exporter": "python",
   "pygments_lexer": "ipython3",
   "version": "3.7.6"
  }
 },
 "nbformat": 4,
 "nbformat_minor": 4
}
