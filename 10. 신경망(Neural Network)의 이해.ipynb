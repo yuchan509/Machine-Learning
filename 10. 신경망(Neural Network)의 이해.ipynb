{
 "cells": [
  {
   "cell_type": "code",
   "execution_count": 57,
   "metadata": {},
   "outputs": [],
   "source": [
    "import mglearn\n",
    "import numpy as np \n",
    "import pandas as pd \n",
    "import seaborn as sb \n",
    "import matplotlib.pyplot as plt\n",
    "from sklearn.neural_network import MLPClassifier\n",
    "from sklearn.linear_model import LogisticRegression\n",
    "from sklearn.model_selection import train_test_split\n",
    "import warnings\n",
    "warnings.simplefilter('ignore')"
   ]
  },
  {
   "cell_type": "markdown",
   "metadata": {},
   "source": [
    "Problem of XOR"
   ]
  },
  {
   "cell_type": "code",
   "execution_count": 68,
   "metadata": {},
   "outputs": [],
   "source": [
    "x_data = np.array( [[0,0],[0,1],[1,0],[1,1]])\n",
    "y_data = np.array( [[0],[1],[1],[0]])"
   ]
  },
  {
   "cell_type": "code",
   "execution_count": 69,
   "metadata": {},
   "outputs": [
    {
     "data": {
      "text/plain": [
       "LogisticRegression(C=1.0, class_weight=None, dual=False, fit_intercept=True,\n",
       "                   intercept_scaling=1, l1_ratio=None, max_iter=100,\n",
       "                   multi_class='auto', n_jobs=None, penalty='l2',\n",
       "                   random_state=None, solver='lbfgs', tol=0.0001, verbose=0,\n",
       "                   warm_start=False)"
      ]
     },
     "execution_count": 69,
     "metadata": {},
     "output_type": "execute_result"
    }
   ],
   "source": [
    "model_logi =  LogisticRegression( )\n",
    "model_logi.fit( x_data, y_data )"
   ]
  },
  {
   "cell_type": "code",
   "execution_count": 70,
   "metadata": {},
   "outputs": [
    {
     "data": {
      "text/plain": [
       "array([[0., 0.]])"
      ]
     },
     "execution_count": 70,
     "metadata": {},
     "output_type": "execute_result"
    }
   ],
   "source": [
    "model_logi.coef_"
   ]
  },
  {
   "cell_type": "code",
   "execution_count": 71,
   "metadata": {},
   "outputs": [
    {
     "data": {
      "text/plain": [
       "0.5"
      ]
     },
     "execution_count": 71,
     "metadata": {},
     "output_type": "execute_result"
    }
   ],
   "source": [
    "model_logi.score( x_data, y_data )"
   ]
  },
  {
   "cell_type": "code",
   "execution_count": 72,
   "metadata": {},
   "outputs": [
    {
     "data": {
      "text/plain": [
       "array([0, 0, 0, 0])"
      ]
     },
     "execution_count": 72,
     "metadata": {},
     "output_type": "execute_result"
    }
   ],
   "source": [
    "model_logi.predict( x_data )"
   ]
  },
  {
   "cell_type": "markdown",
   "metadata": {},
   "source": [
    "Solution"
   ]
  },
  {
   "cell_type": "code",
   "execution_count": 86,
   "metadata": {},
   "outputs": [
    {
     "data": {
      "text/plain": [
       "MLPClassifier(activation='relu', alpha=0.0001, batch_size='auto', beta_1=0.9,\n",
       "              beta_2=0.999, early_stopping=False, epsilon=1e-08,\n",
       "              hidden_layer_sizes=(100,), learning_rate='constant',\n",
       "              learning_rate_init=0.001, max_fun=15000, max_iter=200,\n",
       "              momentum=0.9, n_iter_no_change=10, nesterovs_momentum=True,\n",
       "              power_t=0.5, random_state=None, shuffle=True, solver='adam',\n",
       "              tol=0.0001, validation_fraction=0.1, verbose=False,\n",
       "              warm_start=False)"
      ]
     },
     "execution_count": 86,
     "metadata": {},
     "output_type": "execute_result"
    }
   ],
   "source": [
    "model = MLPClassifier()\n",
    "model.fit( x_data, y_data )"
   ]
  },
  {
   "cell_type": "code",
   "execution_count": 87,
   "metadata": {},
   "outputs": [
    {
     "data": {
      "text/plain": [
       "1.0"
      ]
     },
     "execution_count": 87,
     "metadata": {},
     "output_type": "execute_result"
    }
   ],
   "source": [
    "model.score( x_data, y_data )"
   ]
  },
  {
   "cell_type": "code",
   "execution_count": 88,
   "metadata": {},
   "outputs": [
    {
     "data": {
      "text/plain": [
       "array([0, 1, 1, 0])"
      ]
     },
     "execution_count": 88,
     "metadata": {},
     "output_type": "execute_result"
    }
   ],
   "source": [
    "model.predict( x_data )"
   ]
  },
  {
   "cell_type": "code",
   "execution_count": 89,
   "metadata": {
    "collapsed": true
   },
   "outputs": [
    {
     "data": {
      "text/plain": [
       "[array([[ 1.25512920e-02,  7.61327151e-03, -5.76812599e-02,\n",
       "         -3.00041050e-04, -2.06814714e-01, -1.46955843e-01,\n",
       "         -2.65537634e-01, -2.29738803e-01, -1.69431696e-02,\n",
       "         -1.50855001e-02,  2.57690072e-01, -3.35449125e-01,\n",
       "         -1.71542333e-01,  3.74204465e-01,  2.47226905e-01,\n",
       "         -2.55457726e-07,  2.59875339e-02, -9.62851265e-02,\n",
       "         -7.10397016e-02, -6.65340140e-03, -4.82215526e-02,\n",
       "          1.37395169e-01,  2.05960461e-07, -2.44999823e-01,\n",
       "         -2.42892705e-01,  1.56070939e-01, -3.86352988e-02,\n",
       "          2.68187911e-02,  1.13458512e-01, -7.85663619e-02,\n",
       "         -3.17770508e-02,  3.82078446e-02,  2.58769680e-01,\n",
       "          2.78174868e-01, -1.67753434e-01, -1.82230853e-01,\n",
       "          1.75462845e-01, -5.24753264e-02, -1.75214039e-01,\n",
       "          2.14319022e-01,  2.82403447e-01, -5.39054990e-06,\n",
       "         -6.21646228e-02, -1.63188848e-02, -1.24993934e-01,\n",
       "         -1.79228598e-03,  2.85579706e-01,  2.28610250e-01,\n",
       "         -2.36936124e-01,  2.15063311e-01,  8.15199287e-04,\n",
       "         -2.68495971e-03,  2.57723395e-01, -5.15726790e-02,\n",
       "          1.88788340e-01, -1.78428470e-01, -1.89969269e-01,\n",
       "         -5.28683947e-03, -2.47941747e-01,  1.27908829e-02,\n",
       "          1.47287997e-01, -1.40428601e-01,  9.60322240e-06,\n",
       "         -9.54625155e-03,  2.26612189e-01, -2.77985232e-01,\n",
       "         -9.39384288e-02,  2.51892388e-01, -1.18278859e-02,\n",
       "          1.25958611e-01,  3.45815501e-06, -8.25096423e-02,\n",
       "         -1.53769577e-01,  3.58006833e-01,  2.11617088e-01,\n",
       "          6.76115913e-02, -1.54251835e-01,  2.19471391e-01,\n",
       "          1.42521842e-01,  8.03595371e-07, -2.63871982e-01,\n",
       "          1.39617934e-01,  2.73026230e-01, -1.15682444e-01,\n",
       "          1.48242710e-01,  2.30681704e-06, -4.24593930e-06,\n",
       "          2.15233471e-01,  6.00484896e-09,  3.80051763e-02,\n",
       "          2.67293705e-01,  2.46492801e-01, -1.43613263e-01,\n",
       "          1.98463612e-01,  4.84280837e-02, -3.89378978e-02,\n",
       "         -1.16180158e-01, -2.33544046e-02, -2.27428799e-01,\n",
       "         -2.78050958e-08],\n",
       "        [-2.84983274e-04, -2.24861297e-02,  2.30047953e-01,\n",
       "          4.64163050e-06, -1.06644756e-02, -1.46786619e-01,\n",
       "         -2.65120957e-01, -2.29170482e-01,  9.89280147e-02,\n",
       "          1.10381777e-05,  2.59817583e-01,  3.34186327e-01,\n",
       "          2.18642131e-01, -3.73636053e-01, -2.48177436e-01,\n",
       "         -5.52626939e-06,  2.28832104e-01, -1.33626474e-01,\n",
       "         -1.98926841e-05, -4.43063314e-03,  3.59341113e-04,\n",
       "         -1.95487915e-01, -6.69873663e-03,  2.81245305e-01,\n",
       "          2.43008379e-01,  1.97728001e-01,  1.39423781e-01,\n",
       "          2.52568943e-02, -1.61324575e-01, -7.59483270e-02,\n",
       "          5.55800431e-07,  6.34840435e-02, -1.55041509e-01,\n",
       "         -2.77559141e-01,  2.01429513e-01, -1.84858923e-01,\n",
       "          5.50929254e-02, -1.51814653e-06, -1.73534632e-01,\n",
       "          2.15180644e-01,  1.98053628e-01, -7.55024837e-04,\n",
       "         -6.60601631e-02, -3.24225878e-02,  1.80062056e-01,\n",
       "          5.62241742e-02, -2.85668715e-01, -2.27813270e-01,\n",
       "         -2.36800906e-01, -2.15223424e-01, -3.69527862e-04,\n",
       "         -4.81583507e-02,  2.57438264e-01, -2.29507524e-02,\n",
       "         -1.86754663e-01, -1.77974054e-01,  1.54083542e-01,\n",
       "          1.59691612e-01,  1.94992559e-01, -1.73713924e-02,\n",
       "          7.69849710e-02,  5.92382127e-02, -1.28728720e-06,\n",
       "          3.62822114e-08, -2.26432513e-01, -2.78013804e-01,\n",
       "         -1.46168754e-01, -5.22834471e-02, -6.18570219e-02,\n",
       "          1.21505632e-01, -2.22506762e-02,  5.37939834e-07,\n",
       "          1.17404654e-01,  2.83211838e-01, -9.48584846e-02,\n",
       "         -5.24769631e-02, -1.54269457e-01,  2.19928063e-01,\n",
       "         -2.38451454e-02,  3.79462910e-02,  2.63487925e-01,\n",
       "         -7.82630219e-02, -2.72829547e-01, -3.66901051e-02,\n",
       "          7.60589749e-02,  7.88374599e-07, -1.10937142e-06,\n",
       "         -4.36161698e-02,  2.19211284e-05,  2.97979362e-09,\n",
       "         -2.75606452e-01, -4.21115150e-02, -1.43903296e-01,\n",
       "          1.98746351e-01,  1.95721455e-01,  1.41527591e-01,\n",
       "          6.29008599e-02, -8.10488355e-02,  2.27441809e-01,\n",
       "         -3.18728057e-03]]),\n",
       " array([[-2.92924747e-07],\n",
       "        [ 4.23913639e-02],\n",
       "        [-1.30410116e-01],\n",
       "        [-2.85636104e-03],\n",
       "        [ 1.64813265e-01],\n",
       "        [-1.16951046e-01],\n",
       "        [-3.25974759e-01],\n",
       "        [-2.44264123e-01],\n",
       "        [ 9.93990305e-04],\n",
       "        [-1.25336378e-02],\n",
       "        [-1.91482054e-01],\n",
       "        [ 3.14601809e-01],\n",
       "        [ 2.34150397e-01],\n",
       "        [ 3.24098694e-01],\n",
       "        [ 3.40282987e-01],\n",
       "        [ 1.05885387e-07],\n",
       "        [ 1.31155210e-01],\n",
       "        [ 9.61481205e-02],\n",
       "        [-2.18303176e-05],\n",
       "        [ 1.56985285e-02],\n",
       "        [ 1.80487977e-02],\n",
       "        [-6.05286747e-02],\n",
       "        [-2.22074367e-05],\n",
       "        [ 4.49823911e-01],\n",
       "        [ 3.06831713e-01],\n",
       "        [-8.83269863e-02],\n",
       "        [ 3.06057744e-02],\n",
       "        [ 2.31744751e-02],\n",
       "        [-2.54499134e-01],\n",
       "        [-1.37426187e-01],\n",
       "        [-3.60928195e-02],\n",
       "        [-2.10851898e-01],\n",
       "        [ 2.50863311e-01],\n",
       "        [ 3.52851059e-01],\n",
       "        [ 3.61563087e-01],\n",
       "        [-4.60305251e-01],\n",
       "        [ 7.98591893e-02],\n",
       "        [ 5.20391588e-03],\n",
       "        [-3.88572341e-01],\n",
       "        [-4.42459459e-01],\n",
       "        [-4.09381979e-01],\n",
       "        [-2.21488931e-05],\n",
       "        [-4.86895353e-02],\n",
       "        [ 4.49272789e-02],\n",
       "        [ 1.65023906e-01],\n",
       "        [-2.55586707e-03],\n",
       "        [ 2.76310869e-01],\n",
       "        [ 4.30118989e-01],\n",
       "        [-4.03224976e-01],\n",
       "        [ 3.28387763e-01],\n",
       "        [ 4.38442169e-02],\n",
       "        [ 1.53807800e-02],\n",
       "        [-2.47065812e-01],\n",
       "        [-7.42582369e-07],\n",
       "        [ 4.15498684e-01],\n",
       "        [-3.65220160e-01],\n",
       "        [-2.01122976e-01],\n",
       "        [ 2.01456232e-01],\n",
       "        [ 5.13049747e-01],\n",
       "        [ 1.35914221e-01],\n",
       "        [-9.48917197e-02],\n",
       "        [-7.66282183e-02],\n",
       "        [-3.79364912e-02],\n",
       "        [ 6.99228877e-02],\n",
       "        [ 4.58889003e-01],\n",
       "        [-2.51425709e-01],\n",
       "        [ 6.33519471e-03],\n",
       "        [-6.00303350e-02],\n",
       "        [ 2.44009156e-07],\n",
       "        [ 1.58416303e-01],\n",
       "        [ 3.25012351e-02],\n",
       "        [ 2.03411513e-02],\n",
       "        [-1.51603252e-01],\n",
       "        [-2.41057334e-01],\n",
       "        [-1.82911088e-01],\n",
       "        [ 9.64376429e-02],\n",
       "        [-4.51138985e-01],\n",
       "        [-4.01838724e-01],\n",
       "        [-1.80017536e-01],\n",
       "        [-6.37142920e-04],\n",
       "        [ 2.59312976e-01],\n",
       "        [-6.68711865e-03],\n",
       "        [ 2.34161860e-01],\n",
       "        [ 3.71378548e-02],\n",
       "        [-1.78911428e-01],\n",
       "        [ 2.35539812e-07],\n",
       "        [-1.51113563e-03],\n",
       "        [-2.42758862e-01],\n",
       "        [-1.56375944e-02],\n",
       "        [-5.05423781e-07],\n",
       "        [ 4.66976364e-01],\n",
       "        [-8.18559451e-02],\n",
       "        [-4.17517941e-01],\n",
       "        [-3.94927359e-01],\n",
       "        [ 1.66664007e-01],\n",
       "        [-3.45768558e-02],\n",
       "        [-7.77056643e-02],\n",
       "        [-3.06301986e-07],\n",
       "        [ 3.69368383e-01],\n",
       "        [-5.92908029e-04]])]"
      ]
     },
     "execution_count": 89,
     "metadata": {},
     "output_type": "execute_result"
    }
   ],
   "source": [
    "model.coefs_"
   ]
  },
  {
   "cell_type": "code",
   "execution_count": 90,
   "metadata": {},
   "outputs": [
    {
     "data": {
      "text/plain": [
       "(2, 100)"
      ]
     },
     "execution_count": 90,
     "metadata": {},
     "output_type": "execute_result"
    }
   ],
   "source": [
    "model.coefs_[0].shape     # feature의 개수가 2이므로 2로 나옴. [4 by 2] [2 by 100] = [4 by 100 ] "
   ]
  },
  {
   "cell_type": "code",
   "execution_count": 98,
   "metadata": {},
   "outputs": [
    {
     "data": {
      "text/plain": [
       "(4, 1)"
      ]
     },
     "execution_count": 98,
     "metadata": {},
     "output_type": "execute_result"
    }
   ],
   "source": [
    "a = np.matmul( x_data, model.coefs_[0] ) + model.intercepts_[0]\n",
    "# a => ReLU(Rectified Linear Unit, 경사함수) 함수 통과 시킬 필요가 있음.\n",
    "b = np.matmul( a,  model.coefs_[1] ) + model.intercepts_[1]\n",
    "# b => 이진 분류인 경우 마지막 output layer은 sigmoid 함수 통과 시킬 필요가 있음.\n",
    "b.shape"
   ]
  },
  {
   "cell_type": "code",
   "execution_count": 80,
   "metadata": {},
   "outputs": [
    {
     "data": {
      "text/plain": [
       "(100,)"
      ]
     },
     "execution_count": 80,
     "metadata": {},
     "output_type": "execute_result"
    }
   ],
   "source": [
    " model.intercepts_[0].shape  # bias를 100개 더해줌."
   ]
  },
  {
   "cell_type": "code",
   "execution_count": 81,
   "metadata": {},
   "outputs": [
    {
     "data": {
      "text/plain": [
       "(100, 1)"
      ]
     },
     "execution_count": 81,
     "metadata": {},
     "output_type": "execute_result"
    }
   ],
   "source": [
    "model.coefs_[1].shape    # [4 by 100 ] [100 by 1] = [4 by 1]"
   ]
  },
  {
   "cell_type": "code",
   "execution_count": 82,
   "metadata": {},
   "outputs": [
    {
     "data": {
      "text/plain": [
       "(1,)"
      ]
     },
     "execution_count": 82,
     "metadata": {},
     "output_type": "execute_result"
    }
   ],
   "source": [
    " model.intercepts_[1].shape  # bias를 1개 더해줌."
   ]
  },
  {
   "cell_type": "code",
   "execution_count": 83,
   "metadata": {},
   "outputs": [
    {
     "data": {
      "text/plain": [
       "(4,)"
      ]
     },
     "execution_count": 83,
     "metadata": {},
     "output_type": "execute_result"
    }
   ],
   "source": [
    "model.predict( x_data ).shape   #  최종적으로 [4 by 1]"
   ]
  },
  {
   "cell_type": "code",
   "execution_count": 16,
   "metadata": {},
   "outputs": [
    {
     "data": {
      "text/plain": [
       "2"
      ]
     },
     "execution_count": 16,
     "metadata": {},
     "output_type": "execute_result"
    }
   ],
   "source": [
    "len( model.intercepts_ )"
   ]
  },
  {
   "cell_type": "code",
   "execution_count": 17,
   "metadata": {
    "collapsed": true
   },
   "outputs": [
    {
     "data": {
      "text/plain": [
       "MLPClassifier(activation='relu', alpha=0.0001, batch_size='auto', beta_1=0.9,\n",
       "              beta_2=0.999, early_stopping=False, epsilon=1e-08,\n",
       "              hidden_layer_sizes=(200, 5), learning_rate='constant',\n",
       "              learning_rate_init=0.001, max_fun=15000, max_iter=200,\n",
       "              momentum=0.9, n_iter_no_change=10, nesterovs_momentum=True,\n",
       "              power_t=0.5, random_state=None, shuffle=True, solver='adam',\n",
       "              tol=0.0001, validation_fraction=0.1, verbose=False,\n",
       "              warm_start=False)"
      ]
     },
     "execution_count": 17,
     "metadata": {},
     "output_type": "execute_result"
    }
   ],
   "source": [
    "model = MLPClassifier(hidden_layer_sizes=(200,5))\n",
    "model.fit( x_data, y_data )"
   ]
  },
  {
   "cell_type": "code",
   "execution_count": 18,
   "metadata": {},
   "outputs": [
    {
     "data": {
      "text/plain": [
       "3"
      ]
     },
     "execution_count": 18,
     "metadata": {},
     "output_type": "execute_result"
    }
   ],
   "source": [
    "len( model.coefs_ )    \n",
    "# len( model.coefs_ ) - 1 => hidden layer 개수, 제약되는 1개는 output layer "
   ]
  },
  {
   "cell_type": "code",
   "execution_count": 19,
   "metadata": {},
   "outputs": [
    {
     "data": {
      "text/plain": [
       "(2, 200)"
      ]
     },
     "execution_count": 19,
     "metadata": {},
     "output_type": "execute_result"
    }
   ],
   "source": [
    "model.coefs_[0].shape       \n",
    "# feature의 개수가 2이므로 2로 나옴. [4 by 2](input layer) [2 by 200](hidden layer) = [4 by 200 ] (weighted value)"
   ]
  },
  {
   "cell_type": "code",
   "execution_count": 20,
   "metadata": {},
   "outputs": [
    {
     "data": {
      "text/plain": [
       "(200, 5)"
      ]
     },
     "execution_count": 20,
     "metadata": {},
     "output_type": "execute_result"
    }
   ],
   "source": [
    "model.coefs_[1].shape       \n",
    "# feature의 개수가 2이므로 2로 나옴. [4 by 200] [200 by 5](hidden layer) = [4 by 5 ] (weighted value)"
   ]
  },
  {
   "cell_type": "code",
   "execution_count": 21,
   "metadata": {},
   "outputs": [
    {
     "data": {
      "text/plain": [
       "(5, 1)"
      ]
     },
     "execution_count": 21,
     "metadata": {},
     "output_type": "execute_result"
    }
   ],
   "source": [
    "model.coefs_[2].shape      \n",
    "# [4 by 5 ](weighted value) [5 by 1](output layer) = [4 by 1]"
   ]
  },
  {
   "cell_type": "code",
   "execution_count": 22,
   "metadata": {},
   "outputs": [
    {
     "data": {
      "text/plain": [
       "(4,)"
      ]
     },
     "execution_count": 22,
     "metadata": {},
     "output_type": "execute_result"
    }
   ],
   "source": [
    "model.predict( x_data ).shape "
   ]
  },
  {
   "cell_type": "code",
   "execution_count": 23,
   "metadata": {
    "collapsed": true
   },
   "outputs": [
    {
     "data": {
      "text/plain": [
       "MLPClassifier(activation='relu', alpha=0.0001, batch_size='auto', beta_1=0.9,\n",
       "              beta_2=0.999, early_stopping=False, epsilon=1e-08,\n",
       "              hidden_layer_sizes=(200, 10, 6), learning_rate='constant',\n",
       "              learning_rate_init=0.001, max_fun=15000, max_iter=200,\n",
       "              momentum=0.9, n_iter_no_change=10, nesterovs_momentum=True,\n",
       "              power_t=0.5, random_state=None, shuffle=True, solver='adam',\n",
       "              tol=0.0001, validation_fraction=0.1, verbose=False,\n",
       "              warm_start=False)"
      ]
     },
     "execution_count": 23,
     "metadata": {},
     "output_type": "execute_result"
    }
   ],
   "source": [
    "model = MLPClassifier(hidden_layer_sizes=(200, 10, 6))  # => hidden layer : feature의 수 X 200, 200 X 10, 10 X 6\n",
    "model.fit( x_data, y_data )                             # => ouput layer : 6 X label의 수"
   ]
  },
  {
   "cell_type": "code",
   "execution_count": 24,
   "metadata": {},
   "outputs": [
    {
     "data": {
      "text/plain": [
       "4"
      ]
     },
     "execution_count": 24,
     "metadata": {},
     "output_type": "execute_result"
    }
   ],
   "source": [
    "len( model.coefs_ )\n",
    "# len( model.coefs_ ) - 1 => hidden layer 개수, 제약되는 1개는 output layer => hidden layer 3개다. "
   ]
  },
  {
   "cell_type": "code",
   "execution_count": 25,
   "metadata": {},
   "outputs": [
    {
     "data": {
      "text/plain": [
       "(2, 200)"
      ]
     },
     "execution_count": 25,
     "metadata": {},
     "output_type": "execute_result"
    }
   ],
   "source": [
    "model.coefs_[0].shape\n",
    "# feature의 개수가 2이므로 2로 나옴. 데이터의 형태가 4 by 2\n",
    "# [4 by 2](input layer) [2 by 200](hidden layer) = [4 by 200 ] (weighted value)"
   ]
  },
  {
   "cell_type": "code",
   "execution_count": 26,
   "metadata": {},
   "outputs": [
    {
     "data": {
      "text/plain": [
       "(200,)"
      ]
     },
     "execution_count": 26,
     "metadata": {},
     "output_type": "execute_result"
    }
   ],
   "source": [
    " model.intercepts_[0].shape"
   ]
  },
  {
   "cell_type": "code",
   "execution_count": 27,
   "metadata": {},
   "outputs": [
    {
     "data": {
      "text/plain": [
       "(200, 10)"
      ]
     },
     "execution_count": 27,
     "metadata": {},
     "output_type": "execute_result"
    }
   ],
   "source": [
    "model.coefs_[1].shape       \n",
    "# feature의 개수가 2이므로 2로 나옴. [4 by 200] [200 by 10](hidden layer) = [4 by 10 ] (weighted value)"
   ]
  },
  {
   "cell_type": "code",
   "execution_count": 28,
   "metadata": {},
   "outputs": [
    {
     "data": {
      "text/plain": [
       "(10,)"
      ]
     },
     "execution_count": 28,
     "metadata": {},
     "output_type": "execute_result"
    }
   ],
   "source": [
    " model.intercepts_[1].shape"
   ]
  },
  {
   "cell_type": "code",
   "execution_count": 29,
   "metadata": {},
   "outputs": [
    {
     "data": {
      "text/plain": [
       "(10, 6)"
      ]
     },
     "execution_count": 29,
     "metadata": {},
     "output_type": "execute_result"
    }
   ],
   "source": [
    "model.coefs_[2].shape \n",
    "# [4 by 10 ](weighted value) [10 by 6](hidden layer) = [4 by 6]"
   ]
  },
  {
   "cell_type": "code",
   "execution_count": 30,
   "metadata": {},
   "outputs": [
    {
     "data": {
      "text/plain": [
       "(6,)"
      ]
     },
     "execution_count": 30,
     "metadata": {},
     "output_type": "execute_result"
    }
   ],
   "source": [
    " model.intercepts_[2].shape"
   ]
  },
  {
   "cell_type": "code",
   "execution_count": 31,
   "metadata": {},
   "outputs": [
    {
     "data": {
      "text/plain": [
       "(6, 1)"
      ]
     },
     "execution_count": 31,
     "metadata": {},
     "output_type": "execute_result"
    }
   ],
   "source": [
    "model.coefs_[3].shape \n",
    "# [4 by 6 ](weighted value) [6 by 1](output layer) = [4 by 1]"
   ]
  },
  {
   "cell_type": "code",
   "execution_count": 32,
   "metadata": {},
   "outputs": [
    {
     "data": {
      "text/plain": [
       "(1,)"
      ]
     },
     "execution_count": 32,
     "metadata": {},
     "output_type": "execute_result"
    }
   ],
   "source": [
    " model.intercepts_[3].shape"
   ]
  },
  {
   "cell_type": "code",
   "execution_count": 33,
   "metadata": {},
   "outputs": [
    {
     "data": {
      "text/plain": [
       "(4,)"
      ]
     },
     "execution_count": 33,
     "metadata": {},
     "output_type": "execute_result"
    }
   ],
   "source": [
    "model.predict( x_data ).shape \n",
    "# 결국은 최종 예측값은 y_data의 행렬 행태로 나올 것이다."
   ]
  },
  {
   "cell_type": "code",
   "execution_count": 60,
   "metadata": {},
   "outputs": [
    {
     "data": {
      "text/plain": [
       "MLPClassifier(activation='relu', alpha=0.0001, batch_size='auto', beta_1=0.9,\n",
       "              beta_2=0.999, early_stopping=False, epsilon=1e-08,\n",
       "              hidden_layer_sizes=(100, 50, 30, 20), learning_rate='constant',\n",
       "              learning_rate_init=0.001, max_fun=15000, max_iter=200,\n",
       "              momentum=0.9, n_iter_no_change=10, nesterovs_momentum=True,\n",
       "              power_t=0.5, random_state=None, shuffle=True, solver='adam',\n",
       "              tol=0.0001, validation_fraction=0.1, verbose=False,\n",
       "              warm_start=False)"
      ]
     },
     "execution_count": 60,
     "metadata": {},
     "output_type": "execute_result"
    }
   ],
   "source": [
    "model = MLPClassifier( hidden_layer_sizes=(100, 50, 30, 20) )\n",
    "model.fit( x_data, y_data )    \n",
    "# => hidden layer : feature의 수 X 100, 100 X 50, 50 X 30, 30 x 20\n",
    "# => ouput layer : 20 X label의 수"
   ]
  },
  {
   "cell_type": "code",
   "execution_count": 61,
   "metadata": {},
   "outputs": [
    {
     "data": {
      "text/plain": [
       "4"
      ]
     },
     "execution_count": 61,
     "metadata": {},
     "output_type": "execute_result"
    }
   ],
   "source": [
    "len( model.coefs_ ) - 1"
   ]
  },
  {
   "cell_type": "code",
   "execution_count": 62,
   "metadata": {},
   "outputs": [
    {
     "data": {
      "text/plain": [
       "((2, 100), (100,))"
      ]
     },
     "execution_count": 62,
     "metadata": {},
     "output_type": "execute_result"
    }
   ],
   "source": [
    "model.coefs_[0].shape, model.intercepts_[0].shape"
   ]
  },
  {
   "cell_type": "code",
   "execution_count": 63,
   "metadata": {},
   "outputs": [
    {
     "data": {
      "text/plain": [
       "((100, 50), (50,))"
      ]
     },
     "execution_count": 63,
     "metadata": {},
     "output_type": "execute_result"
    }
   ],
   "source": [
    "model.coefs_[1].shape, model.intercepts_[1].shape"
   ]
  },
  {
   "cell_type": "code",
   "execution_count": 64,
   "metadata": {},
   "outputs": [
    {
     "data": {
      "text/plain": [
       "((50, 30), (30,))"
      ]
     },
     "execution_count": 64,
     "metadata": {},
     "output_type": "execute_result"
    }
   ],
   "source": [
    "model.coefs_[2].shape, model.intercepts_[2].shape"
   ]
  },
  {
   "cell_type": "code",
   "execution_count": 65,
   "metadata": {},
   "outputs": [
    {
     "data": {
      "text/plain": [
       "((30, 20), (20,))"
      ]
     },
     "execution_count": 65,
     "metadata": {},
     "output_type": "execute_result"
    }
   ],
   "source": [
    "model.coefs_[3].shape, model.intercepts_[3].shape"
   ]
  },
  {
   "cell_type": "code",
   "execution_count": 66,
   "metadata": {},
   "outputs": [
    {
     "data": {
      "text/plain": [
       "((20, 1), (1,))"
      ]
     },
     "execution_count": 66,
     "metadata": {},
     "output_type": "execute_result"
    }
   ],
   "source": [
    "model.coefs_[4].shape, model.intercepts_[4].shape"
   ]
  },
  {
   "cell_type": "code",
   "execution_count": 67,
   "metadata": {},
   "outputs": [
    {
     "data": {
      "text/plain": [
       "(array([0, 1, 1, 0]), 1.0)"
      ]
     },
     "execution_count": 67,
     "metadata": {},
     "output_type": "execute_result"
    }
   ],
   "source": [
    "model.predict( x_data ), model.score( x_data, y_data )"
   ]
  }
 ],
 "metadata": {
  "kernelspec": {
   "display_name": "Python 3",
   "language": "python",
   "name": "python3"
  },
  "language_info": {
   "codemirror_mode": {
    "name": "ipython",
    "version": 3
   },
   "file_extension": ".py",
   "mimetype": "text/x-python",
   "name": "python",
   "nbconvert_exporter": "python",
   "pygments_lexer": "ipython3",
   "version": "3.7.6"
  }
 },
 "nbformat": 4,
 "nbformat_minor": 4
}
