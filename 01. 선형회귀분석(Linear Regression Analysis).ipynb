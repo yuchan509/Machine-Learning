{
 "cells": [
  {
   "cell_type": "code",
   "execution_count": 1,
   "metadata": {},
   "outputs": [],
   "source": [
    "import mglearn\n",
    "import numpy as np\n",
    "import pandas as pd\n",
    "import seaborn as sns\n",
    "import matplotlib.pyplot as plt\n",
    "from sklearn.metrics import r2_score  \n",
    "import matplotlib\n",
    "matplotlib.rcParams['font.family']='Malgun Gothic'\n",
    "matplotlib.rcParams['axes.unicode_minus'] = False\n",
    "from sklearn.neural_network import MLPRegressor\n",
    "from sklearn.datasets import load_boston, load_iris\n",
    "from sklearn.model_selection import train_test_split\n",
    "from sklearn.linear_model import LinearRegression, Ridge, SGDRegressor"
   ]
  },
  {
   "cell_type": "markdown",
   "metadata": {},
   "source": [
    "#### 공식(Formula)을 통한 선형회귀"
   ]
  },
  {
   "cell_type": "markdown",
   "metadata": {},
   "source": [
    "#### EX1"
   ]
  },
  {
   "cell_type": "code",
   "execution_count": 2,
   "metadata": {},
   "outputs": [],
   "source": [
    "x_data = np.array(list( range(1,11) )).reshape(-1,1)\n",
    "y_data = list( range(1,11) )"
   ]
  },
  {
   "cell_type": "code",
   "execution_count": 3,
   "metadata": {},
   "outputs": [
    {
     "data": {
      "text/plain": [
       "(10, 1)"
      ]
     },
     "execution_count": 3,
     "metadata": {},
     "output_type": "execute_result"
    }
   ],
   "source": [
    "# n 행 1열 : 행(데이터 개수), 열(특성데이터(예측변수) 개수)\n",
    "x_data.shape"
   ]
  },
  {
   "cell_type": "code",
   "execution_count": 4,
   "metadata": {},
   "outputs": [
    {
     "name": "stdout",
     "output_type": "stream",
     "text": [
      "[1.]\n",
      "2.6645352591003757e-15\n"
     ]
    }
   ],
   "source": [
    "model = LinearRegression()    # 공식\n",
    "model.fit( x_data, y_data )   # 특성데이터는 반드시 행렬(np 2차원), 데이터프레임으로 줘야한다\n",
    "print(model.coef_)            # w(slope value)\n",
    "print(model.intercept_)       # b(intercept)"
   ]
  },
  {
   "cell_type": "markdown",
   "metadata": {},
   "source": [
    "#### EX2. Cars data"
   ]
  },
  {
   "cell_type": "code",
   "execution_count": 5,
   "metadata": {},
   "outputs": [
    {
     "name": "stdout",
     "output_type": "stream",
     "text": [
      "[[3.93240876]]\n",
      "[-17.57909489]\n"
     ]
    }
   ],
   "source": [
    "cardf = pd.read_csv('data1/cars.csv')\n",
    "modelCar = LinearRegression()  \n",
    "modelCar.fit( cardf[ ['speed'] ], cardf[ ['dist'] ] )\n",
    "print(modelCar.coef_)            # w(slope value)\n",
    "print(modelCar.intercept_)       # b(intercept)"
   ]
  },
  {
   "cell_type": "markdown",
   "metadata": {},
   "source": [
    "- 자동파 속도(speed)가 15이면 예측되는 제동거리(dist)는 ?"
   ]
  },
  {
   "cell_type": "code",
   "execution_count": 6,
   "metadata": {},
   "outputs": [
    {
     "data": {
      "text/plain": [
       "array([41.4070365])"
      ]
     },
     "execution_count": 6,
     "metadata": {},
     "output_type": "execute_result"
    }
   ],
   "source": [
    "modelCar.coef_[0]*15 + modelCar.intercept_      "
   ]
  },
  {
   "cell_type": "code",
   "execution_count": 7,
   "metadata": {},
   "outputs": [
    {
     "data": {
      "text/plain": [
       "array([[41.4070365]])"
      ]
     },
     "execution_count": 7,
     "metadata": {},
     "output_type": "execute_result"
    }
   ],
   "source": [
    "modelCar.predict([ [15] ])   # 행렬 형태로 부여 : 행렬곱을 수행"
   ]
  },
  {
   "cell_type": "markdown",
   "metadata": {},
   "source": [
    "- 자동파 속도(speed)가 13, 15이면 예측되는 제동거리(dist)는 ?"
   ]
  },
  {
   "cell_type": "code",
   "execution_count": 8,
   "metadata": {},
   "outputs": [
    {
     "data": {
      "text/plain": [
       "array([[33.54221898],\n",
       "       [41.4070365 ]])"
      ]
     },
     "execution_count": 8,
     "metadata": {},
     "output_type": "execute_result"
    }
   ],
   "source": [
    "modelCar.predict([ [13], [15] ])  "
   ]
  },
  {
   "cell_type": "code",
   "execution_count": 9,
   "metadata": {},
   "outputs": [
    {
     "data": {
      "text/plain": [
       "array([[ 3,  8],\n",
       "       [15, 24]])"
      ]
     },
     "execution_count": 9,
     "metadata": {},
     "output_type": "execute_result"
    }
   ],
   "source": [
    "x = np.array( [[1,2], [3,4]] )\n",
    "y = np.array( [[3,4], [5,6]] )\n",
    "np.multiply(x, y)"
   ]
  },
  {
   "cell_type": "code",
   "execution_count": 10,
   "metadata": {},
   "outputs": [
    {
     "data": {
      "text/plain": [
       "array([[-1.84945985],\n",
       "       [-1.84945985],\n",
       "       [ 9.94776642],\n",
       "       [ 9.94776642],\n",
       "       [13.88017518],\n",
       "       [17.81258394],\n",
       "       [21.7449927 ],\n",
       "       [21.7449927 ],\n",
       "       [21.7449927 ],\n",
       "       [25.67740146],\n",
       "       [25.67740146],\n",
       "       [29.60981022],\n",
       "       [29.60981022],\n",
       "       [29.60981022],\n",
       "       [29.60981022],\n",
       "       [33.54221898],\n",
       "       [33.54221898],\n",
       "       [33.54221898],\n",
       "       [33.54221898],\n",
       "       [37.47462774],\n",
       "       [37.47462774],\n",
       "       [37.47462774],\n",
       "       [37.47462774],\n",
       "       [41.4070365 ],\n",
       "       [41.4070365 ],\n",
       "       [41.4070365 ],\n",
       "       [45.33944526],\n",
       "       [45.33944526],\n",
       "       [49.27185401],\n",
       "       [49.27185401],\n",
       "       [49.27185401],\n",
       "       [53.20426277],\n",
       "       [53.20426277],\n",
       "       [53.20426277],\n",
       "       [53.20426277],\n",
       "       [57.13667153],\n",
       "       [57.13667153],\n",
       "       [57.13667153],\n",
       "       [61.06908029],\n",
       "       [61.06908029],\n",
       "       [61.06908029],\n",
       "       [61.06908029],\n",
       "       [61.06908029],\n",
       "       [68.93389781],\n",
       "       [72.86630657],\n",
       "       [76.79871533],\n",
       "       [76.79871533],\n",
       "       [76.79871533],\n",
       "       [76.79871533],\n",
       "       [80.73112409]])"
      ]
     },
     "execution_count": 10,
     "metadata": {},
     "output_type": "execute_result"
    }
   ],
   "source": [
    "modelCar.predict( cardf[ ['speed'] ] )"
   ]
  },
  {
   "cell_type": "code",
   "execution_count": 11,
   "metadata": {
    "scrolled": true
   },
   "outputs": [
    {
     "data": {
      "image/png": "[encoded data removed]",
      "text/plain": [
       "<Figure size 504x360 with 1 Axes>"
      ]
     },
     "metadata": {
      "needs_background": "light"
     },
     "output_type": "display_data"
    }
   ],
   "source": [
    "plt.figure( figsize=(7,5))\n",
    "plt.xlabel('speed');plt.ylabel('dist')\n",
    "plt.scatter( cardf['speed'], cardf['dist'], color='m' )\n",
    "plt.plot( cardf['speed'], modelCar.predict( cardf[ ['speed'] ] ), 'b--' )\n",
    "plt.show()"
   ]
  },
  {
   "cell_type": "markdown",
   "metadata": {},
   "source": [
    "#### EX3. Electric data\n",
    "- electric.csv  w, b를 구하시고전기생산량이 3.2, 4.5 인경우 전기 사용량을 예측하시요. scatter(실제데이터), plot(예측데이터)를 그리시요."
   ]
  },
  {
   "cell_type": "code",
   "execution_count": 12,
   "metadata": {},
   "outputs": [
    {
     "data": {
      "text/plain": [
       "((12, 1), (12, 1))"
      ]
     },
     "execution_count": 12,
     "metadata": {},
     "output_type": "execute_result"
    }
   ],
   "source": [
    "eleDF = pd.read_csv('data4/electric.csv', index_col='Unnamed: 0')\n",
    "eleDF[ ['전기생산량'] ].shape, eleDF[ ['전기사용량'] ].shape"
   ]
  },
  {
   "cell_type": "code",
   "execution_count": 13,
   "metadata": {},
   "outputs": [
    {
     "data": {
      "text/plain": [
       "(array([[0.49560324]]), array([0.91958143]))"
      ]
     },
     "execution_count": 13,
     "metadata": {},
     "output_type": "execute_result"
    }
   ],
   "source": [
    "modelEle = LinearRegression()  \n",
    "modelEle.fit( eleDF[ ['전기생산량'] ], eleDF[ ['전기사용량'] ] ) \n",
    "modelEle.coef_, modelEle.intercept_"
   ]
  },
  {
   "cell_type": "code",
   "execution_count": 14,
   "metadata": {},
   "outputs": [
    {
     "data": {
      "text/plain": [
       "array([[2.50551178],\n",
       "       [3.14979599]])"
      ]
     },
     "execution_count": 14,
     "metadata": {},
     "output_type": "execute_result"
    }
   ],
   "source": [
    "modelEle.predict([ [3.2], [4.5] ])  "
   ]
  },
  {
   "cell_type": "code",
   "execution_count": 15,
   "metadata": {},
   "outputs": [
    {
     "data": {
      "text/html": [
       "<div>\n",
       "<style scoped>\n",
       "    .dataframe tbody tr th:only-of-type {\n",
       "        vertical-align: middle;\n",
       "    }\n",
       "\n",
       "    .dataframe tbody tr th {\n",
       "        vertical-align: top;\n",
       "    }\n",
       "\n",
       "    .dataframe thead th {\n",
       "        text-align: right;\n",
       "    }\n",
       "</style>\n",
       "<table border=\"1\" class=\"dataframe\">\n",
       "  <thead>\n",
       "    <tr style=\"text-align: right;\">\n",
       "      <th></th>\n",
       "      <th>전기생산량</th>\n",
       "    </tr>\n",
       "  </thead>\n",
       "  <tbody>\n",
       "    <tr>\n",
       "      <th>0</th>\n",
       "      <td>3.52</td>\n",
       "    </tr>\n",
       "    <tr>\n",
       "      <th>1</th>\n",
       "      <td>2.58</td>\n",
       "    </tr>\n",
       "    <tr>\n",
       "      <th>2</th>\n",
       "      <td>3.31</td>\n",
       "    </tr>\n",
       "    <tr>\n",
       "      <th>3</th>\n",
       "      <td>4.07</td>\n",
       "    </tr>\n",
       "    <tr>\n",
       "      <th>4</th>\n",
       "      <td>4.62</td>\n",
       "    </tr>\n",
       "    <tr>\n",
       "      <th>5</th>\n",
       "      <td>3.98</td>\n",
       "    </tr>\n",
       "    <tr>\n",
       "      <th>6</th>\n",
       "      <td>4.29</td>\n",
       "    </tr>\n",
       "    <tr>\n",
       "      <th>7</th>\n",
       "      <td>4.83</td>\n",
       "    </tr>\n",
       "    <tr>\n",
       "      <th>8</th>\n",
       "      <td>3.71</td>\n",
       "    </tr>\n",
       "    <tr>\n",
       "      <th>9</th>\n",
       "      <td>4.61</td>\n",
       "    </tr>\n",
       "    <tr>\n",
       "      <th>10</th>\n",
       "      <td>3.90</td>\n",
       "    </tr>\n",
       "    <tr>\n",
       "      <th>11</th>\n",
       "      <td>3.20</td>\n",
       "    </tr>\n",
       "  </tbody>\n",
       "</table>\n",
       "</div>"
      ],
      "text/plain": [
       "    전기생산량\n",
       "0    3.52\n",
       "1    2.58\n",
       "2    3.31\n",
       "3    4.07\n",
       "4    4.62\n",
       "5    3.98\n",
       "6    4.29\n",
       "7    4.83\n",
       "8    3.71\n",
       "9    4.61\n",
       "10   3.90\n",
       "11   3.20"
      ]
     },
     "execution_count": 15,
     "metadata": {},
     "output_type": "execute_result"
    }
   ],
   "source": [
    "eleDF[[ '전기생산량' ]]"
   ]
  },
  {
   "cell_type": "code",
   "execution_count": 16,
   "metadata": {},
   "outputs": [
    {
     "data": {
      "text/plain": [
       "array([[2.66410482],\n",
       "       [2.19823778],\n",
       "       [2.56002814],\n",
       "       [2.9366866 ],\n",
       "       [3.20926838],\n",
       "       [2.89208231],\n",
       "       [3.04571931],\n",
       "       [3.31334506],\n",
       "       [2.75826943],\n",
       "       [3.20431235],\n",
       "       [2.85243405],\n",
       "       [2.50551178]])"
      ]
     },
     "execution_count": 16,
     "metadata": {},
     "output_type": "execute_result"
    }
   ],
   "source": [
    "modelEle.predict( eleDF[ ['전기생산량'] ] )"
   ]
  },
  {
   "cell_type": "code",
   "execution_count": 17,
   "metadata": {},
   "outputs": [
    {
     "data": {
      "image/png": "[encoded data removed]",
      "text/plain": [
       "<Figure size 504x360 with 1 Axes>"
      ]
     },
     "metadata": {
      "needs_background": "light"
     },
     "output_type": "display_data"
    }
   ],
   "source": [
    "plt.figure( figsize=(7,5))\n",
    "plt.xlabel('전기생산량');plt.ylabel('전기사용량')\n",
    "plt.scatter( eleDF['전기생산량'], eleDF['전기사용량'], color='m' )\n",
    "plt.plot( eleDF['전기생산량'], modelEle.predict( eleDF[ ['전기생산량'] ] ), 'b--' )\n",
    "plt.show()"
   ]
  },
  {
   "cell_type": "markdown",
   "metadata": {},
   "source": [
    "#### 결정 계수( $ \\text{R}^2 $  : Coefficient of determination )"
   ]
  },
  {
   "cell_type": "markdown",
   "metadata": {},
   "source": [
    "$$ SST = SSE + SSR $$"
   ]
  },
  {
   "cell_type": "markdown",
   "metadata": {},
   "source": [
    "$$ \\sum_{i=1}^n( y-  \\bar{y})^2 =  \\sum_{i=1}^n( y- \\hat{y})^2  +  \\sum_{i=1}^n( \\hat{y}- \\bar{y})^2$$"
   ]
  },
  {
   "cell_type": "markdown",
   "metadata": {},
   "source": [
    "\n",
    "$$  R^2 = \\frac{SSR}{SST} = 1-\\frac{SSE}{SST}   $$"
   ]
  },
  {
   "cell_type": "code",
   "execution_count": 18,
   "metadata": {},
   "outputs": [
    {
     "data": {
      "text/plain": [
       "0.6510793807582509"
      ]
     },
     "execution_count": 18,
     "metadata": {},
     "output_type": "execute_result"
    }
   ],
   "source": [
    "modelCar.score( cardf[ ['speed'] ], cardf.dist )"
   ]
  },
  {
   "cell_type": "code",
   "execution_count": 19,
   "metadata": {},
   "outputs": [
    {
     "data": {
      "text/plain": [
       "0.6510793807582509"
      ]
     },
     "execution_count": 19,
     "metadata": {},
     "output_type": "execute_result"
    }
   ],
   "source": [
    "y_predict =  modelCar.predict(  cardf[['speed']] )\n",
    "r2_score( cardf.dist, y_predict )"
   ]
  },
  {
   "cell_type": "code",
   "execution_count": 20,
   "metadata": {},
   "outputs": [
    {
     "data": {
      "image/png": "[encoded data removed]",
      "text/plain": [
       "<Figure size 504x360 with 1 Axes>"
      ]
     },
     "metadata": {
      "needs_background": "light"
     },
     "output_type": "display_data"
    }
   ],
   "source": [
    "plt.figure( figsize=(7,5))\n",
    "plt.xlabel('speed'); plt.ylabel('dist')\n",
    "plt.scatter(cardf.speed, cardf.dist, color='m')\n",
    "plt.plot( cardf.speed, modelCar.predict(  cardf[['speed']] ), 'r--')   # 예측값 선\n",
    "plt.axhline( cardf.dist.mean(),color='blue')                           # 평균값 선\n",
    "plt.show()"
   ]
  },
  {
   "cell_type": "markdown",
   "metadata": {},
   "source": [
    "#### 학습(Learning)을 통한 선형회귀"
   ]
  },
  {
   "cell_type": "code",
   "execution_count": 21,
   "metadata": {},
   "outputs": [
    {
     "name": "stdout",
     "output_type": "stream",
     "text": [
      "-- Epoch 1\n",
      "Norm: 3.22, NNZs: 1, Bias: -1.171612, T: 45, Avg. loss: 848.603139\n",
      "Total training time: 0.00 seconds.\n",
      "-- Epoch 2\n",
      "Norm: 3.71, NNZs: 1, Bias: -1.437037, T: 90, Avg. loss: 164.451778\n",
      "Total training time: 0.00 seconds.\n",
      "-- Epoch 3\n",
      "Norm: 1.95, NNZs: 1, Bias: -1.628057, T: 135, Avg. loss: 120.040936\n",
      "Total training time: 0.00 seconds.\n",
      "-- Epoch 4\n",
      "Norm: 2.53, NNZs: 1, Bias: -1.736818, T: 180, Avg. loss: 130.806308\n",
      "Total training time: 0.00 seconds.\n",
      "-- Epoch 5\n",
      "Norm: 2.72, NNZs: 1, Bias: -1.942049, T: 225, Avg. loss: 144.152498\n",
      "Total training time: 0.00 seconds.\n",
      "-- Epoch 6\n",
      "Norm: 3.23, NNZs: 1, Bias: -2.055570, T: 270, Avg. loss: 148.024166\n",
      "Total training time: 0.00 seconds.\n",
      "-- Epoch 7\n",
      "Norm: 3.86, NNZs: 1, Bias: -2.163924, T: 315, Avg. loss: 125.257639\n",
      "Total training time: 0.00 seconds.\n",
      "-- Epoch 8\n",
      "Norm: 2.57, NNZs: 1, Bias: -2.341338, T: 360, Avg. loss: 145.534624\n",
      "Total training time: 0.00 seconds.\n",
      "Convergence after 8 epochs took 0.00 seconds\n"
     ]
    },
    {
     "data": {
      "text/plain": [
       "SGDRegressor(alpha=0.0001, average=False, early_stopping=True, epsilon=0.1,\n",
       "             eta0=0.01, fit_intercept=True, l1_ratio=0.15,\n",
       "             learning_rate='invscaling', loss='squared_loss', max_iter=100,\n",
       "             n_iter_no_change=5, penalty='l2', power_t=0.25, random_state=None,\n",
       "             shuffle=True, tol=0.001, validation_fraction=0.1, verbose=1,\n",
       "             warm_start=False)"
      ]
     },
     "execution_count": 21,
     "metadata": {},
     "output_type": "execute_result"
    }
   ],
   "source": [
    "# alpha = 0.0001 (learning rate)\n",
    "# max_iter = 1000 (학습 횟수)\n",
    "# ealry_stopping = False (cost 값이 변화가 없다. 즉 학습이 되어 최저점에 도달.)\n",
    "modelSGD = SGDRegressor( max_iter = 100, alpha=0.0001, early_stopping=True, verbose=1 )\n",
    "modelSGD.fit( cardf[ ['speed'] ], cardf['dist'] )"
   ]
  },
  {
   "cell_type": "code",
   "execution_count": 22,
   "metadata": {},
   "outputs": [
    {
     "data": {
      "text/plain": [
       "(array([2.56665256]), array([-2.34133794]))"
      ]
     },
     "execution_count": 22,
     "metadata": {},
     "output_type": "execute_result"
    }
   ],
   "source": [
    "modelSGD.coef_, modelSGD.intercept_"
   ]
  },
  {
   "cell_type": "code",
   "execution_count": 23,
   "metadata": {},
   "outputs": [
    {
     "data": {
      "text/plain": [
       "0.5209436501325649"
      ]
     },
     "execution_count": 23,
     "metadata": {},
     "output_type": "execute_result"
    }
   ],
   "source": [
    "modelSGD.score( cardf[ ['speed'] ], cardf.dist )"
   ]
  },
  {
   "cell_type": "markdown",
   "metadata": {},
   "source": [
    "#### 딥러닝(Deep learning)을 이용한 선형회귀"
   ]
  },
  {
   "cell_type": "code",
   "execution_count": 24,
   "metadata": {},
   "outputs": [
    {
     "data": {
      "text/plain": [
       "MLPRegressor(activation='relu', alpha=0.1, batch_size='auto', beta_1=0.9,\n",
       "             beta_2=0.999, early_stopping=False, epsilon=1e-08,\n",
       "             hidden_layer_sizes=(100, 10, 3), learning_rate='constant',\n",
       "             learning_rate_init=0.001, max_fun=15000, max_iter=5000,\n",
       "             momentum=0.9, n_iter_no_change=10, nesterovs_momentum=True,\n",
       "             power_t=0.5, random_state=None, shuffle=True, solver='adam',\n",
       "             tol=0.0001, validation_fraction=0.1, verbose=0, warm_start=False)"
      ]
     },
     "execution_count": 24,
     "metadata": {},
     "output_type": "execute_result"
    }
   ],
   "source": [
    "# hidden_layer_sizes=(크기, 출력개수, 히든레이어 개수)\n",
    "modelNN = MLPRegressor( max_iter=5000, alpha=0.1, verbose=0, hidden_layer_sizes=(100, 10, 3) )\n",
    "modelNN.fit( cardf[ ['speed'] ], cardf['dist'] )\n",
    "# modelNN.coefs_"
   ]
  },
  {
   "cell_type": "code",
   "execution_count": 25,
   "metadata": {},
   "outputs": [
    {
     "data": {
      "image/png": "[encoded data removed]",
      "text/plain": [
       "<Figure size 504x360 with 1 Axes>"
      ]
     },
     "metadata": {
      "needs_background": "light"
     },
     "output_type": "display_data"
    }
   ],
   "source": [
    "plt.figure( figsize=(7,5))\n",
    "plt.xlabel('speed');plt.ylabel('dist')\n",
    "plt.scatter( cardf['speed'], cardf['dist'], color='m' )\n",
    "plt.plot( cardf['speed'], modelNN.predict( cardf[ ['speed'] ] ), 'b--' )\n",
    "plt.show()"
   ]
  }
 ],
 "metadata": {
  "kernelspec": {
   "display_name": "Python 3",
   "language": "python",
   "name": "python3"
  },
  "language_info": {
   "codemirror_mode": {
    "name": "ipython",
    "version": 3
   },
   "file_extension": ".py",
   "mimetype": "text/x-python",
   "name": "python",
   "nbconvert_exporter": "python",
   "pygments_lexer": "ipython3",
   "version": "3.7.6"
  }
 },
 "nbformat": 4,
 "nbformat_minor": 4
}
