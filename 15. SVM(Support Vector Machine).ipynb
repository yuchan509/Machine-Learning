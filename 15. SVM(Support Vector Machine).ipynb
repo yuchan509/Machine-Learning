{
 "cells": [
  {
   "cell_type": "code",
   "execution_count": 1,
   "metadata": {},
   "outputs": [],
   "source": [
    "import numpy as np\n",
    "import pandas as pd\n",
    "import matplotlib.pyplot as plt\n",
    "from sklearn.preprocessing import StandardScaler\n",
    "from sklearn.pipeline import make_pipeline, Pipeline\n",
    "from sklearn.datasets import make_classification, load_wine\n",
    "from sklearn.model_selection import train_test_split, GridSearchCV\n",
    "from sklearn.svm import SVC, SVR   # SVM\n",
    "from warnings import filterwarnings\n",
    "filterwarnings('ignore')"
   ]
  },
  {
   "cell_type": "code",
   "execution_count": 2,
   "metadata": {},
   "outputs": [
    {
     "name": "stdout",
     "output_type": "stream",
     "text": [
      " Actual  : 2\n",
      " Predict : 2.0\n",
      " Score   : 97.778%\n"
     ]
    }
   ],
   "source": [
    "wine = load_wine()\n",
    "x_train, x_test, y_train, y_test = train_test_split( wine.data, wine.target, test_size=0.25, stratify=wine.target  )\n",
    "model_wine = make_pipeline( StandardScaler(), SVC() )\n",
    "model_wine.fit( x_train, y_train )\n",
    "print( f' Actual  : { y_test[0]}' )\n",
    "print( f' Predict : { float(model_wine.predict( [x_test[0]] ) ) }' )\n",
    "print( f' Score   : { round( model_wine.score( x_test, y_test )*100, 3) }%' )"
   ]
  },
  {
   "cell_type": "code",
   "execution_count": 3,
   "metadata": {},
   "outputs": [],
   "source": [
    "df     = pd.read_csv('data5/pima-indians-diabetes.data.csv')\n",
    "x_data = df.iloc[:, :-1]\n",
    "y_data = df['Outcome']   # binary data\n",
    "x_train, x_test, y_train, y_test = train_test_split( x_data, y_data, test_size=0.25, stratify=y_data) "
   ]
  },
  {
   "cell_type": "code",
   "execution_count": 10,
   "metadata": {},
   "outputs": [
    {
     "name": "stdout",
     "output_type": "stream",
     "text": [
      "- Accuracy of SVM model -\n",
      "----------------------------------------------------------------------------------------------------------------------------------\n",
      "Best Parameter            : {'svc__C': 1, 'svc__gamma': 'scale', 'svc__kernel': 'linear'}\n",
      "Accuracy of train data    : 78.0%\n",
      "Accuracy of test data     : 77.0%\n",
      "----------------------------------------------------------------------------------------------------------------------------------\n"
     ]
    }
   ],
   "source": [
    "model_SVM   =  make_pipeline( StandardScaler(), SVC() )\n",
    "param_value = { 'svc__C': list(range(0,11)),\n",
    "                'svc__gamma':  ['scale'],\n",
    "                'svc__kernel' :['linear', 'poly', 'rbf', 'sigmoid', 'precomputed' ]\n",
    "              }\n",
    "grid_search_SVM = GridSearchCV( model_SVM , param_grid = param_value, scoring=\"f1\" )\n",
    "grid_search_SVM.fit( x_train, y_train)\n",
    "print('- Accuracy of SVM model -')\n",
    "print('-'*130)\n",
    "print(f'Best Parameter            : { grid_search_SVM.best_params_}')\n",
    "print(f'Accuracy of train data    : {round( grid_search_SVM.best_estimator_.score( x_train, y_train ), 2)*100 }%')\n",
    "print(f'Accuracy of test data     : {round( grid_search_SVM.best_estimator_.score( x_test, y_test ),   2)*100 }%')\n",
    "print('-'*130)"
   ]
  }
 ],
 "metadata": {
  "kernelspec": {
   "display_name": "Python 3",
   "language": "python",
   "name": "python3"
  },
  "language_info": {
   "codemirror_mode": {
    "name": "ipython",
    "version": 3
   },
   "file_extension": ".py",
   "mimetype": "text/x-python",
   "name": "python",
   "nbconvert_exporter": "python",
   "pygments_lexer": "ipython3",
   "version": "3.7.6"
  }
 },
 "nbformat": 4,
 "nbformat_minor": 4
}
