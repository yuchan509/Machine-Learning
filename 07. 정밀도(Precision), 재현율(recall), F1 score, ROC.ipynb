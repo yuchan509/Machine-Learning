{
 "cells": [
  {
   "cell_type": "code",
   "execution_count": 1,
   "metadata": {},
   "outputs": [],
   "source": [
    "import numpy as np\n",
    "import pandas as pd\n",
    "import seaborn as sns\n",
    "import matplotlib.pyplot as plt\n",
    "import sklearn.metrics as metrics\n",
    "from sklearn.pipeline import make_pipeline\n",
    "from sklearn.preprocessing import StandardScaler\n",
    "from sklearn.model_selection import GridSearchCV\n",
    "from sklearn.model_selection import cross_val_score\n",
    "from sklearn.linear_model import LogisticRegression\n",
    "from sklearn.model_selection import train_test_split\n",
    "from sklearn.datasets import make_classification, load_breast_cancer\n",
    "import matplotlib\n",
    "matplotlib.rcParams[\"font.family\"]=\"Malgun Gothic\"\n",
    "matplotlib.rcParams[\"axes.unicode_minus\"]= False"
   ]
  },
  {
   "cell_type": "markdown",
   "metadata": {},
   "source": [
    "### 성과분석"
   ]
  },
  {
   "cell_type": "code",
   "execution_count": 2,
   "metadata": {},
   "outputs": [],
   "source": [
    "x_data = np.array( [ [25.8], [26.6], [28.1], [29.0], [30.5], [31.0], [33.6], [39.3], [43.3], [45.8] ] )\n",
    "y_data = np.array( [ [1],[0],[0],[1],[1],[1],[1],[0],[0],[1] ] )"
   ]
  },
  {
   "cell_type": "code",
   "execution_count": 3,
   "metadata": {},
   "outputs": [
    {
     "data": {
      "text/html": [
       "<div>\n",
       "<style scoped>\n",
       "    .dataframe tbody tr th:only-of-type {\n",
       "        vertical-align: middle;\n",
       "    }\n",
       "\n",
       "    .dataframe tbody tr th {\n",
       "        vertical-align: top;\n",
       "    }\n",
       "\n",
       "    .dataframe thead th {\n",
       "        text-align: right;\n",
       "    }\n",
       "</style>\n",
       "<table border=\"1\" class=\"dataframe\">\n",
       "  <thead>\n",
       "    <tr style=\"text-align: right;\">\n",
       "      <th></th>\n",
       "      <th>BMI</th>\n",
       "      <th>당뇨유무</th>\n",
       "    </tr>\n",
       "  </thead>\n",
       "  <tbody>\n",
       "    <tr>\n",
       "      <th>0</th>\n",
       "      <td>25.8</td>\n",
       "      <td>1</td>\n",
       "    </tr>\n",
       "    <tr>\n",
       "      <th>1</th>\n",
       "      <td>26.6</td>\n",
       "      <td>0</td>\n",
       "    </tr>\n",
       "    <tr>\n",
       "      <th>2</th>\n",
       "      <td>28.1</td>\n",
       "      <td>0</td>\n",
       "    </tr>\n",
       "    <tr>\n",
       "      <th>3</th>\n",
       "      <td>29.0</td>\n",
       "      <td>1</td>\n",
       "    </tr>\n",
       "    <tr>\n",
       "      <th>4</th>\n",
       "      <td>30.5</td>\n",
       "      <td>1</td>\n",
       "    </tr>\n",
       "  </tbody>\n",
       "</table>\n",
       "</div>"
      ],
      "text/plain": [
       "    BMI  당뇨유무\n",
       "0  25.8     1\n",
       "1  26.6     0\n",
       "2  28.1     0\n",
       "3  29.0     1\n",
       "4  30.5     1"
      ]
     },
     "execution_count": 3,
     "metadata": {},
     "output_type": "execute_result"
    }
   ],
   "source": [
    "df             = pd.DataFrame( x_data, columns=['BMI'] )\n",
    "df['당뇨유무'] = y_data                                  # 0이 정상, 1이 당뇨\n",
    "df.head()"
   ]
  },
  {
   "cell_type": "markdown",
   "metadata": {},
   "source": [
    "- Confusion matrix\n",
    "\n",
    "|          | **Negative** | **Positive** |           |\n",
    "|:--------:|:--------:     |:--------------:| :--------:|\n",
    "|  **Negative** | TN(0, 0)  | FP(1, 0) : Type 1 error  | Specificity   |\n",
    "| **Positive** | FN(0, 1)  : Type 2 error  | TP(1, 1)  |   Sensitivity |\n",
    "| | Negative predictive value | Positive predictive valuey  |         |"
   ]
  },
  {
   "cell_type": "code",
   "execution_count": 4,
   "metadata": {},
   "outputs": [
    {
     "data": {
      "image/png": "[encoded data removed]",
      "text/plain": [
       "<Figure size 432x288 with 2 Axes>"
      ]
     },
     "metadata": {
      "needs_background": "light"
     },
     "output_type": "display_data"
    },
    {
     "name": "stdout",
     "output_type": "stream",
     "text": [
      "실제 : [[1 0 0 1 1 1 1 0 0 1]]\n",
      "예측 : [0, 0, 1, 1, 1, 1, 1, 1, 1, 1]\n"
     ]
    }
   ],
   "source": [
    "y_pred = [ 0, 0, 1, 1, 1, 1, 1, 1, 1, 1 ]\n",
    "CM     = metrics.confusion_matrix( y_data, y_pred )\n",
    "sns.heatmap( CM, annot=True, cmap='BuPu', xticklabels=[ '정상(0)', '당뇨 판정(1)'], yticklabels=[ '정상(0)', '당뇨 환자(1)' ] )\n",
    "plt.show()\n",
    "print( f'실제 : {y_data.T}' )\n",
    "print( f'예측 : {y_pred}'   )"
   ]
  },
  {
   "cell_type": "markdown",
   "metadata": {},
   "source": [
    "- 특이도(Specificity)\n",
    "\n",
    "$$\n",
    "{Specificity} = \\frac {TN} {TN + FP}\n",
    "$$"
   ]
  },
  {
   "cell_type": "code",
   "execution_count": 5,
   "metadata": {},
   "outputs": [
    {
     "data": {
      "text/plain": [
       "0.25"
      ]
     },
     "execution_count": 5,
     "metadata": {},
     "output_type": "execute_result"
    }
   ],
   "source": [
    "Specificity = 1 /(1+3)\n",
    "Specificity"
   ]
  },
  {
   "cell_type": "markdown",
   "metadata": {},
   "source": [
    " - FPR(False Positive Rate) : 0인 케이스에 대한 1로 잘못 예측한 비율\n",
    "    \n",
    "$$\n",
    "{1 - Specificity} \n",
    "$$"
   ]
  },
  {
   "cell_type": "code",
   "execution_count": 6,
   "metadata": {},
   "outputs": [
    {
     "data": {
      "text/plain": [
       "0.75"
      ]
     },
     "execution_count": 6,
     "metadata": {},
     "output_type": "execute_result"
    }
   ],
   "source": [
    "1 - Specificity"
   ]
  },
  {
   "cell_type": "markdown",
   "metadata": {},
   "source": [
    "- 정밀도(Precision) \n",
    "\n",
    "$$\n",
    "{Precision} = \\frac {TP} {TP + FP}\n",
    "$$"
   ]
  },
  {
   "cell_type": "code",
   "execution_count": 7,
   "metadata": {},
   "outputs": [
    {
     "data": {
      "text/plain": [
       "0.625"
      ]
     },
     "execution_count": 7,
     "metadata": {},
     "output_type": "execute_result"
    }
   ],
   "source": [
    "precision = 5 / (5+3)\n",
    "precision"
   ]
  },
  {
   "cell_type": "code",
   "execution_count": 8,
   "metadata": {},
   "outputs": [
    {
     "data": {
      "text/plain": [
       "0.625"
      ]
     },
     "execution_count": 8,
     "metadata": {},
     "output_type": "execute_result"
    }
   ],
   "source": [
    "metrics.precision_score( y_data, y_pred )"
   ]
  },
  {
   "cell_type": "markdown",
   "metadata": {},
   "source": [
    "- 재현율(Recall) = 민감도(Sensitivity : True Positive Rate) : 1인 케이스에 대한 1로 예측한 비율\n",
    "\n",
    "$$\n",
    "{Recall} = {Sensitivity} = \\frac {TP} {TP + FN}\n",
    "$$"
   ]
  },
  {
   "cell_type": "code",
   "execution_count": 9,
   "metadata": {},
   "outputs": [
    {
     "data": {
      "text/plain": [
       "0.8333333333333334"
      ]
     },
     "execution_count": 9,
     "metadata": {},
     "output_type": "execute_result"
    }
   ],
   "source": [
    "recall = 5/ (5+1)\n",
    "recall"
   ]
  },
  {
   "cell_type": "code",
   "execution_count": 10,
   "metadata": {},
   "outputs": [
    {
     "data": {
      "text/plain": [
       "0.8333333333333334"
      ]
     },
     "execution_count": 10,
     "metadata": {},
     "output_type": "execute_result"
    }
   ],
   "source": [
    "metrics.recall_score( y_data, y_pred )"
   ]
  },
  {
   "cell_type": "markdown",
   "metadata": {},
   "source": [
    "- F1 score\n",
    "\n",
    "$$\n",
    "{F_1} = 2\\times \\frac {Precision \\times Recall} {Precision  + Recall}\n",
    "$$"
   ]
  },
  {
   "cell_type": "code",
   "execution_count": 11,
   "metadata": {},
   "outputs": [
    {
     "data": {
      "text/plain": [
       "0.7142857142857143"
      ]
     },
     "execution_count": 11,
     "metadata": {},
     "output_type": "execute_result"
    }
   ],
   "source": [
    "metrics.f1_score( y_data, y_pred )"
   ]
  },
  {
   "cell_type": "markdown",
   "metadata": {},
   "source": [
    " - ROC Curve(Receiver Operating Characteristic Curve) ==> metrics.roc_curve( y_data(train, test), Probabilty values ) <br><br>\n",
    " (1). ROC Curve란 가로축 FPR( 1- 특이도(Specificity) ) 값으로 두고, 세로축을 TPR(True Positive Rate, 민감도) 값으로 두어 시각화한 그래프<br><br>\n",
    " \n",
    " (2). 2진 분류에서 모형의 성능을 평가하기 위해 만히 사용되는 척도이다.<br><br>\n",
    " \n",
    " (3). 그래프가 왼쪽 상단에 가깜게 그려질수록 올바르게 예측한 비율은 높고 잘못 예측한 비율은 낮음을 의미한다. 따라서 ROC곡선 아래의 면적을 의미하는 AUROC(Area Under ROC) 값이 크면 클수록(1에 가까울수록) 모형의 성능이 좋다고 평가한다.<br><br>\n",
    "\n",
    "- Reference : https://angeloyeo.github.io/2020/08/05/ROC.html"
   ]
  },
  {
   "cell_type": "markdown",
   "metadata": {},
   "source": [
    "- AUROC를 이용한 성능 평가 기준\n",
    "\n",
    "| Criterion | Evaluation |\n",
    "|:--------: |:--------:  |\n",
    "| 0.9 - 1.0   | Excellent  |\n",
    "| 0.8 - 0.9   | Good  |\n",
    "| 0.7 - 0.8   | Fair  |\n",
    "| 0.6 - 0.7   | Poor  |\n",
    "| 0.5 - 0.6   | Fail  |"
   ]
  },
  {
   "cell_type": "markdown",
   "metadata": {},
   "source": [
    "- 문제: Pima indians data를 아용하여 Confusion matrix( Heatmat ), Precsion, recall, F1 score를 구하시오."
   ]
  },
  {
   "cell_type": "markdown",
   "metadata": {},
   "source": [
    "#### Code 한눈에 보기."
   ]
  },
  {
   "cell_type": "code",
   "execution_count": 12,
   "metadata": {},
   "outputs": [],
   "source": [
    "# 데이터 불러오기 및 처리\n",
    "df     = pd.read_csv('data5/pima-indians-diabetes.data.csv')\n",
    "x_data = df.iloc[:, :-1]\n",
    "y_data = df['Outcome']\n",
    "x_train, x_test, y_train, y_test = train_test_split( x_data, y_data, test_size=0.25, stratify=y_data, random_state=7 )\n",
    "\n",
    "\n",
    "# Train data set 적합.\n",
    "model_logit       = make_pipeline( StandardScaler(),  LogisticRegression() )\n",
    "param_value       = { 'logisticregression__penalty': [ 'l1','l2' ],\n",
    "                      'logisticregression__C'      : np.logspace( -5, 5, 11 ),\n",
    "                      'logisticregression__solver' : ['liblinear', 'saga' ]\n",
    "                    }\n",
    "grid_search_logit = GridSearchCV( model_logit , param_grid = param_value ) \n",
    "grid_search_logit.fit( x_train, y_train )\n",
    "\n",
    "\n",
    "# Hitmap <==  y_test, model_logit.predict( x_test )\n",
    "y_pred_train  = grid_search_logit.predict( x_train )\n",
    "y_pred_test   = grid_search_logit.predict( x_test )\n",
    "cm            = metrics.confusion_matrix( y_test, y_pred_test )\n",
    "sns.heatmap( cm, annot=True, cmap='BuPu', xticklabels=[ '정상', '당뇨 판정'], yticklabels=[ '정상', '당뇨 환자' ] )\n",
    "plt.show()\n",
    "\n",
    "\n",
    "# Train data set을 통한 Resuit\n",
    "print(f'Precision score of train data  : { round(metrics.precision_score( y_train, y_pred_train ), 3)*100 }%' )\n",
    "print(f'Recall score of train data     : { round(metrics.recall_score( y_train, y_pred_train  ), 3)*100   }%' )\n",
    "print(f'F1 score of train data         : { round(metrics.f1_score( y_train, y_pred_train  ), 3)*100       }%' )\n",
    "\n",
    "\n",
    "# Test data set을 통한 Resuit\n",
    "print(f'Precision score of test data  : { round(metrics.precision_score( y_test, y_pred_test ), 3)*100 }%' )\n",
    "print(f'Recall score of test data     : { round(metrics.recall_score( y_test, y_pred_test  ), 3)*100   }%' )\n",
    "print(f'F1 score of test data         : { round(metrics.f1_score( y_test, y_pred_test  ), 3)*100       }%' )\n",
    "\n",
    "\n",
    "# ROC Curve(Receiver Operating Characteristic Curve)\n",
    "proba       = grid_search_logit.predict_proba( x_test )\n",
    "FPR, TPR, thresholds = metrics.roc_curve( y_test, proba[:,1] )\n",
    "plt.plot( FPR, TPR, 'm--', label='logistic')\n",
    "plt.plot( [0,1], [0,1], 'b--', label='guess' )\n",
    "plt.xlabel( 'FPR : False Positive Rate, 1 - 특이도' ); plt.ylabel( 'TPR : True Positive Rate, 민감도' )\n",
    "plt.legend()\n",
    "plt.show()"
   ]
  },
  {
   "cell_type": "code",
   "execution_count": 13,
   "metadata": {},
   "outputs": [],
   "source": [
    "df     = pd.read_csv('data5/pima-indians-diabetes.data.csv')\n",
    "x_data = df.iloc[:, :-1]\n",
    "y_data = df['Outcome']\n",
    "x_train, x_test, y_train, y_test = train_test_split( x_data, y_data, test_size=0.25, stratify=y_data, random_state=7 ) "
   ]
  },
  {
   "cell_type": "code",
   "execution_count": 14,
   "metadata": {},
   "outputs": [
    {
     "data": {
      "image/png": "[encoded data removed]",
      "text/plain": [
       "<Figure size 432x288 with 2 Axes>"
      ]
     },
     "metadata": {
      "needs_background": "light"
     },
     "output_type": "display_data"
    }
   ],
   "source": [
    "model_logit = make_pipeline( StandardScaler(),  LogisticRegression() )\n",
    "param_value = { 'logisticregression__penalty': [ 'l1','l2' ],\n",
    "                'logisticregression__C'      : np.logspace( -5, 5, 11 ),\n",
    "                'logisticregression__solver' : ['liblinear', 'saga' ]\n",
    "              }\n",
    "grid_search_logit = GridSearchCV( model_logit , param_grid = param_value ) \n",
    "grid_search_logit.fit( x_train, y_train )\n",
    "\n",
    "y_pred_test   = grid_search_logit.predict( x_test )\n",
    "y_pred_train  = grid_search_logit.predict( x_train )\n",
    "cm            = metrics.confusion_matrix( y_test, y_pred_test )\n",
    "sns.heatmap( cm, annot=True, cmap='BuPu', xticklabels=[ '정상', '당뇨 판정'], yticklabels=[ '정상', '당뇨 환자' ] )\n",
    "plt.show()"
   ]
  },
  {
   "cell_type": "code",
   "execution_count": 15,
   "metadata": {},
   "outputs": [
    {
     "name": "stdout",
     "output_type": "stream",
     "text": [
      "Precision score of train data  : 72.0%\n",
      "Recall score of train data     : 56.2%\n",
      "F1 score of train data         : 63.1%\n"
     ]
    }
   ],
   "source": [
    "print(f'Precision score of train data  : { round(metrics.precision_score( y_train, y_pred_train ), 3)*100 }%' )\n",
    "print(f'Recall score of train data     : { round(metrics.recall_score( y_train, y_pred_train  ), 3)*100   }%' )\n",
    "print(f'F1 score of train data         : { round(metrics.f1_score( y_train, y_pred_train  ), 3)*100       }%' )"
   ]
  },
  {
   "cell_type": "code",
   "execution_count": 16,
   "metadata": {},
   "outputs": [
    {
     "name": "stdout",
     "output_type": "stream",
     "text": [
      "Precision score of test data  : 74.1%\n",
      "Recall score of test data     : 59.699999999999996%\n",
      "F1 score of test data         : 66.10000000000001%\n"
     ]
    }
   ],
   "source": [
    "print(f'Precision score of test data  : { round(metrics.precision_score( y_test, y_pred_test ), 3)*100 }%' )\n",
    "print(f'Recall score of test data     : { round(metrics.recall_score( y_test, y_pred_test  ), 3)*100   }%' )\n",
    "print(f'F1 score of test data         : { round(metrics.f1_score( y_test, y_pred_test  ), 3)*100       }%' )"
   ]
  },
  {
   "cell_type": "code",
   "execution_count": 17,
   "metadata": {},
   "outputs": [
    {
     "data": {
      "text/html": [
       "<div>\n",
       "<style scoped>\n",
       "    .dataframe tbody tr th:only-of-type {\n",
       "        vertical-align: middle;\n",
       "    }\n",
       "\n",
       "    .dataframe tbody tr th {\n",
       "        vertical-align: top;\n",
       "    }\n",
       "\n",
       "    .dataframe thead th {\n",
       "        text-align: right;\n",
       "    }\n",
       "</style>\n",
       "<table border=\"1\" class=\"dataframe\">\n",
       "  <thead>\n",
       "    <tr style=\"text-align: right;\">\n",
       "      <th></th>\n",
       "      <th>Outcome</th>\n",
       "      <th>proba</th>\n",
       "    </tr>\n",
       "  </thead>\n",
       "  <tbody>\n",
       "    <tr>\n",
       "      <th>408</th>\n",
       "      <td>1</td>\n",
       "      <td>0.912897</td>\n",
       "    </tr>\n",
       "    <tr>\n",
       "      <th>61</th>\n",
       "      <td>1</td>\n",
       "      <td>0.505899</td>\n",
       "    </tr>\n",
       "    <tr>\n",
       "      <th>531</th>\n",
       "      <td>0</td>\n",
       "      <td>0.299637</td>\n",
       "    </tr>\n",
       "    <tr>\n",
       "      <th>515</th>\n",
       "      <td>1</td>\n",
       "      <td>0.518993</td>\n",
       "    </tr>\n",
       "    <tr>\n",
       "      <th>595</th>\n",
       "      <td>1</td>\n",
       "      <td>0.648091</td>\n",
       "    </tr>\n",
       "    <tr>\n",
       "      <th>...</th>\n",
       "      <td>...</td>\n",
       "      <td>...</td>\n",
       "    </tr>\n",
       "    <tr>\n",
       "      <th>284</th>\n",
       "      <td>1</td>\n",
       "      <td>0.104364</td>\n",
       "    </tr>\n",
       "    <tr>\n",
       "      <th>475</th>\n",
       "      <td>0</td>\n",
       "      <td>0.178129</td>\n",
       "    </tr>\n",
       "    <tr>\n",
       "      <th>89</th>\n",
       "      <td>0</td>\n",
       "      <td>0.075850</td>\n",
       "    </tr>\n",
       "    <tr>\n",
       "      <th>115</th>\n",
       "      <td>1</td>\n",
       "      <td>0.458297</td>\n",
       "    </tr>\n",
       "    <tr>\n",
       "      <th>307</th>\n",
       "      <td>0</td>\n",
       "      <td>0.134359</td>\n",
       "    </tr>\n",
       "  </tbody>\n",
       "</table>\n",
       "<p>192 rows × 2 columns</p>\n",
       "</div>"
      ],
      "text/plain": [
       "     Outcome     proba\n",
       "408        1  0.912897\n",
       "61         1  0.505899\n",
       "531        0  0.299637\n",
       "515        1  0.518993\n",
       "595        1  0.648091\n",
       "..       ...       ...\n",
       "284        1  0.104364\n",
       "475        0  0.178129\n",
       "89         0  0.075850\n",
       "115        1  0.458297\n",
       "307        0  0.134359\n",
       "\n",
       "[192 rows x 2 columns]"
      ]
     },
     "execution_count": 17,
     "metadata": {},
     "output_type": "execute_result"
    }
   ],
   "source": [
    "proba       = grid_search_logit.predict_proba( x_test )\n",
    "rr          = pd.DataFrame( [ y_test ] ).T\n",
    "rr['proba'] = proba[:,1]\n",
    "rr"
   ]
  },
  {
   "cell_type": "code",
   "execution_count": 18,
   "metadata": {},
   "outputs": [
    {
     "data": {
      "image/png": "[encoded data removed]",
      "text/plain": [
       "<Figure size 432x288 with 1 Axes>"
      ]
     },
     "metadata": {
      "needs_background": "light"
     },
     "output_type": "display_data"
    }
   ],
   "source": [
    "FPR, TPR, Thresholds = metrics.roc_curve( y_test, proba[:,1] )\n",
    "plt.plot( FPR, TPR, 'm--', label='logistic')\n",
    "plt.plot( [0,1], [0,1], 'b--', label='guess' )\n",
    "plt.xlabel( 'FPR : False Positive Rate, 1 - 특이도' ); plt.ylabel( 'TPR : True Positive Rate, 민감도' )\n",
    "plt.legend()\n",
    "plt.show()"
   ]
  }
 ],
 "metadata": {
  "kernelspec": {
   "display_name": "Python 3",
   "language": "python",
   "name": "python3"
  },
  "language_info": {
   "codemirror_mode": {
    "name": "ipython",
    "version": 3
   },
   "file_extension": ".py",
   "mimetype": "text/x-python",
   "name": "python",
   "nbconvert_exporter": "python",
   "pygments_lexer": "ipython3",
   "version": "3.7.6"
  }
 },
 "nbformat": 4,
 "nbformat_minor": 4
}
